{
 "cells": [
  {
   "cell_type": "code",
   "execution_count": 2,
   "id": "e44262bb",
   "metadata": {},
   "outputs": [],
   "source": [
    "from astroquery.vizier import Vizier\n",
    "\n",
    "from astropy.coordinates import SkyCoord\n",
    "import astropy.units as u\n",
    "from astropy.io import ascii\n",
    "from astropy.table import Table\n",
    "\n",
    "import numpy as np\n",
    "import numpy.ma as ma\n",
    "import pandas as pd\n",
    "\n",
    "import matplotlib.pyplot as plt\n",
    "from matplotlib.colors import Normalize\n",
    "import matplotlib.cm as cm"
   ]
  },
  {
   "cell_type": "markdown",
   "id": "3ca42fc6-9c31-4b39-ad03-d036f1f86b57",
   "metadata": {},
   "source": [
    "Define constants"
   ]
  },
  {
   "cell_type": "code",
   "execution_count": 3,
   "id": "982ea7d8-a0fb-4a31-883f-5433d550f8e4",
   "metadata": {
    "jupyter": {
     "source_hidden": true
    }
   },
   "outputs": [],
   "source": [
    "Rg = 3.518\n",
    "Rr = 2.617\n",
    "Ri = 1.971\n",
    "mu_true = 18.477\n",
    "Fe_H = -1.48"
   ]
  },
  {
   "cell_type": "markdown",
   "id": "f95af1f1-eef2-4c39-84ee-9f96802abe30",
   "metadata": {},
   "source": [
    "Define functions"
   ]
  },
  {
   "cell_type": "code",
   "execution_count": 4,
   "id": "c2ddeb03-045f-44e1-b5d9-09865c237427",
   "metadata": {},
   "outputs": [],
   "source": [
    "def query(catalog, vtype):\n",
    "    vizier  = Vizier(columns=[\"[DCM2005]\",\"RAJ2000\", \"DEJ2000\", \"VType\", \n",
    "                              \"Per\",\"<Bint>\", \"<Vint>\", \"<Iint>\",\"Notes\"], \n",
    "                     column_filters={\"VType\":vtype})\n",
    "    vizier.ROW_LIMIT = -1\n",
    "    results = vizier.get_catalogs(catalog)[0]\n",
    "    return results"
   ]
  },
  {
   "cell_type": "code",
   "execution_count": 5,
   "id": "7b3ec78e-b014-411e-bfb2-0a4393ceeecf",
   "metadata": {},
   "outputs": [],
   "source": [
    "def match_feh(IDlist , fehMap):\n",
    "    IDarray    = np.array(IDlist)\n",
    "    fehIDarray = np.array(fehMap['ID'])\n",
    "    ids = np.isin(IDarray, fehIDarray)\n",
    "    feh = []\n",
    "    for i in range(len(ids)):\n",
    "        DCM = IDlist[i]\n",
    "        if ids[i] == True:\n",
    "            fehid = fehMap['ID'].index(DCM)\n",
    "            feh.append(fehMap['[Fe/H]'][fehid])\n",
    "        else:\n",
    "            feh.append(Fe_H)\n",
    "    feh = np.array(feh)\n",
    "    return feh"
   ]
  },
  {
   "cell_type": "code",
   "execution_count": 16,
   "id": "d5d9b769-4f4c-4af1-b7e6-a772be4e2ac8",
   "metadata": {},
   "outputs": [],
   "source": [
    "def get_LMCmu(lp, mag, feh, zp, slope, met, title_in):\n",
    "\n",
    "    M = zp + slope*lp + met*feh\n",
    "    delta_mu = (mag - M) - mu_true\n",
    "    N = len(lp)\n",
    "\n",
    "    dmean = np.mean(delta_mu)\n",
    "    dmedian = np.median(delta_mu)\n",
    "    print(\"%s\\t: %2.3f\\t%2.3f\" % (title_in, dmean, dmedian))\n",
    "    \n",
    "    # plt.minorticks_on()\n",
    "    # plt.tick_params(which='both', bottom='on', top='on', left='on', right='on', direction='inout')\n",
    "    # plt.hist(delta_mu, bins=50, color='skyblue', edgecolor='black')\n",
    "    # plt.hist(delta_mu, bins=int(N/10)+8, color='skyblue', edgecolor='black')\n",
    "    # plt.axvline(0.0, c='r', ls='-')\n",
    "    # plt.axvline(dmean, c='r', ls='--')\n",
    "    # plt.ylabel(\"Count\", fontsize=13)\n",
    "    # plt.xlabel(r\"$\\mu_j-\\mu_{LMC}^0$\", fontsize=15)\n",
    "    # plt.title(str(title_in))\n",
    "    # plt.tight_layout()\n",
    "    # plt.show()"
   ]
  },
  {
   "cell_type": "markdown",
   "id": "c498ab5f-57f8-4624-9fbe-9e0ca8e55335",
   "metadata": {},
   "source": [
    "Read reddening map"
   ]
  },
  {
   "cell_type": "code",
   "execution_count": 7,
   "id": "1e2354d1-8890-4e27-a2ec-ea9efbe6db39",
   "metadata": {},
   "outputs": [],
   "source": [
    "reddening_map = pd.read_csv(\n",
    "                            \"EBV_res3_lmc.txt\", \n",
    "                            sep=r\"\\s+\", \n",
    "                            comment='#',  # Ignore comment lines\n",
    "                            names=['RA', 'Dec', 'E_BV', 'Error', 'Sigma_RC', 'N_RC']\n",
    "                           )\n",
    "map_coords = SkyCoord(ra=reddening_map[\"RA\"].values * u.deg, dec=reddening_map['Dec'].values * u.deg)"
   ]
  },
  {
   "cell_type": "markdown",
   "id": "e405f9cd-7e41-4c8c-8876-bfdcef9e6368",
   "metadata": {},
   "source": [
    "Read [Fe/H] map"
   ]
  },
  {
   "cell_type": "code",
   "execution_count": 8,
   "id": "4609bada-afe3-4560-9159-ae5f6d01468d",
   "metadata": {
    "jupyter": {
     "source_hidden": true
    }
   },
   "outputs": [],
   "source": [
    "feh_map = pd.read_csv(\n",
    "                      \"metallicity.txt\", \n",
    "                      sep=r\"\\s+\", \n",
    "                      comment='#',  # Ignore comment lines\n",
    "                      names=['ID', 'Field', 'B-V', 'P', '[Fe/H]', 'E(B-V)']\n",
    "                     )\n",
    "feh_map = feh_map.to_dict('list')"
   ]
  },
  {
   "cell_type": "markdown",
   "id": "7bbbccb4-69a3-4f88-9e53-4a8aca60297c",
   "metadata": {},
   "source": [
    "Query"
   ]
  },
  {
   "cell_type": "code",
   "execution_count": 9,
   "id": "24b1582f-41dd-4f2f-8e62-ddb9ba69e30b",
   "metadata": {},
   "outputs": [
    {
     "name": "stdout",
     "output_type": "stream",
     "text": [
      "All type ab: 101\n",
      "All type c: 54\n",
      "Complete type ab: 94\n",
      "Complete type c: 54\n"
     ]
    }
   ],
   "source": [
    "type_ab = query(\"J/A+A/430/603/variables\", \"ab\")\n",
    "type_c  = query(\"J/A+A/430/603/variables\", \"c\")\n",
    "\n",
    "print(\"All type ab:\", len(type_ab))\n",
    "print(\"All type c:\", len(type_c))\n",
    "\n",
    "# Remove \"Incomplete\" and \"Blend\"\n",
    "valid_ab = (type_ab['Notes'] != \"Incomplete\") & (type_ab['Notes'] != \"Blend\")\n",
    "valid_c  = (type_c['Notes'] != \"Incomplete\") & (type_c['Notes'] != \"Blend\")\n",
    "\n",
    "rrab = type_ab[valid_ab]\n",
    "rrc  = type_c[valid_c]\n",
    "\n",
    "print(\"Complete type ab:\", len(rrab))\n",
    "print(\"Complete type c:\", len(rrc))"
   ]
  },
  {
   "cell_type": "markdown",
   "id": "26e7df3b-cba0-4bb4-9655-ae0b39d18f18",
   "metadata": {},
   "source": [
    "# RRab"
   ]
  },
  {
   "cell_type": "code",
   "execution_count": 21,
   "id": "f3aabddd-8068-4cca-a1c7-e5299c927872",
   "metadata": {},
   "outputs": [],
   "source": [
    "ID_ab = rrab['__DCM2005_']\n",
    "P_ab = np.log10(rrab['Per'])\n",
    "\n",
    "# Create SkyCoord objects in a vectorized way\n",
    "Coord_ab = SkyCoord(\n",
    "    ra=rrab['RAJ2000'],\n",
    "    dec=rrab['DEJ2000'],\n",
    "    unit=(u.hourangle, u.deg),\n",
    "    frame='icrs'\n",
    ")\n",
    "\n",
    "BVab = rrab['__Bint_'] - rrab['__Vint_']\n",
    "\n",
    "g_ab = rrab['__Bint_'] - 0.108 - 0.485*BVab - 0.032*BVab*BVab\n",
    "r_ab = rrab['__Vint_'] + 0.082 - 0.462*BVab + 0.041*BVab*BVab\n",
    "i_ab = rrab['__Iint_'] + 0.341 + 0.154*BVab - 0.025*BVab*BVab\n",
    "\n",
    "E_BV_array = np.array([reddening_map['E_BV'].iloc[coord.match_to_catalog_sky(map_coords)[0]] for coord in Coord_ab])\n",
    "\n",
    "g0_ab = g_ab# - Rg*E_BV_array\n",
    "r0_ab = r_ab# - Rr*E_BV_array\n",
    "i0_ab = i_ab# - Ri*E_BV_array\n",
    "\n",
    "flag_gab = g0_ab < 99\n",
    "flag_rab = r0_ab < 99\n",
    "flag_iab = i0_ab < 99\n",
    "\n",
    "FeH_ab = match_feh(ID_ab, feh_map)"
   ]
  },
  {
   "cell_type": "code",
   "execution_count": 23,
   "id": "c7e42e03-ab19-41a9-bcaa-692aa8532e97",
   "metadata": {
    "scrolled": true
   },
   "outputs": [
    {
     "name": "stdout",
     "output_type": "stream",
     "text": [
      "Ngeow g-band ab-PLZ\t: 0.525\t0.519\n",
      "Ngeow r-band ab-PLZ\t: 0.421\t0.427\n",
      "Ngeow i-band ab-PLZ\t: 0.365\t0.359\n",
      "Narloch g-band ab-PLZ(1)\t: 0.221\t0.206\n",
      "Narloch r-band ab-PLZ(1)\t: 0.174\t0.168\n",
      "Narloch i-band ab-PLZ(1)\t: 0.119\t0.119\n"
     ]
    }
   ],
   "source": [
    "get_LMCmu(P_ab[flag_gab], g0_ab[flag_gab], FeH_ab[flag_gab], 0.649, -0.302, 0.159, \"Ngeow g-band ab-PLZ\")\n",
    "get_LMCmu(P_ab[flag_rab], r0_ab[flag_rab], FeH_ab[flag_rab], 0.337, -1.090, 0.139, \"Ngeow r-band ab-PLZ\")\n",
    "get_LMCmu(P_ab[flag_iab], i0_ab[flag_iab], FeH_ab[flag_iab], 0.243, -1.432, 0.144, \"Ngeow i-band ab-PLZ\")\n",
    "\n",
    "get_LMCmu(P_ab[flag_gab]-P0, g0_ab[flag_gab], FeH_ab[flag_gab]-Z0, 0.794, -0.527, 0.264, \"Narloch g-band ab-PLZ(1)\")\n",
    "get_LMCmu(P_ab[flag_rab]-P0, r0_ab[flag_rab], FeH_ab[flag_rab]-Z0, 0.651, -1.230, 0.205, \"Narloch r-band ab-PLZ(1)\")\n",
    "get_LMCmu(P_ab[flag_iab]-P0, i0_ab[flag_iab], FeH_ab[flag_iab]-Z0, 0.635, -1.682, 0.174, \"Narloch i-band ab-PLZ(1)\")"
   ]
  },
  {
   "cell_type": "code",
   "execution_count": 22,
   "id": "185e54f3-bb64-409d-b579-cbd6487422be",
   "metadata": {
    "scrolled": true
   },
   "outputs": [
    {
     "name": "stdout",
     "output_type": "stream",
     "text": [
      "Ngeow g-band ab-PLZ\t: 0.525\t0.519\n",
      "Ngeow r-band ab-PLZ\t: 0.421\t0.427\n",
      "Ngeow i-band ab-PLZ\t: 0.365\t0.359\n",
      "Narloch g-band ab-PLZ(1)\t: 0.221\t0.206\n",
      "Narloch r-band ab-PLZ(1)\t: 0.174\t0.168\n",
      "Narloch i-band ab-PLZ(1)\t: 0.119\t0.119\n"
     ]
    }
   ],
   "source": [
    "indat = ascii.read(\"DiF_in.csv\", format='csv')\n",
    "\n",
    "mi = indat['Imag'] < 99.999\n",
    "mab = indat['rtype'] == 'ab'\n",
    "mc = indat['rtype'] == 'c'\n",
    "\n",
    "logP = np.log10(indat['period'])\n",
    "FeH = indat['FeH']\n",
    "\n",
    "BV = indat['Bmag'] - indat['Vmag']\n",
    "\n",
    "gmag = indat['Bmag'] - 0.108 - 0.485*BV - 0.032*BV*BV\n",
    "rmag = indat['Vmag'] + 0.082 - 0.462*BV + 0.041*BV*BV\n",
    "imag = indat['Imag'] + 0.341 + 0.154*BV - 0.025*BV*BV\n",
    "\n",
    "g0 = gmag#- Rg*indat['EBV']\n",
    "r0 = rmag#- Rr*indat['EBV']\n",
    "i0 = imag#- Ri*indat['EBV']\n",
    "\n",
    "ilogP = logP[mi]\n",
    "iFeH = FeH[mi]\n",
    "ii0 = i0[mi]\n",
    "iab = mab[mi]\n",
    "ic = mc[mi]\n",
    "\n",
    "# my PLZ\n",
    "get_LMCmu(logP[mab], g0[mab], FeH[mab], 0.649, -0.302, 0.159, \"Ngeow g-band ab-PLZ\")\n",
    "get_LMCmu(logP[mab], r0[mab], FeH[mab], 0.337, -1.090, 0.139, \"Ngeow r-band ab-PLZ\")\n",
    "get_LMCmu(ilogP[iab], ii0[iab], iFeH[iab], 0.243, -1.432, 0.144, \"Ngeow i-band ab-PLZ\")\n",
    "\n",
    "# Narloch PLZ\n",
    "P0 = -0.25\n",
    "Z0 = -1.5\n",
    "\n",
    "get_LMCmu(logP[mab]-P0, g0[mab], FeH[mab]-Z0, 0.794, -0.527, 0.264, \"Narloch g-band ab-PLZ(1)\")\n",
    "get_LMCmu(logP[mab]-P0, r0[mab], FeH[mab]-Z0, 0.651, -1.230, 0.205, \"Narloch r-band ab-PLZ(1)\")\n",
    "get_LMCmu(ilogP[iab]-P0, ii0[iab], iFeH[iab]-Z0, 0.635, -1.682, 0.174, \"Narloch i-band ab-PLZ(1)\")"
   ]
  },
  {
   "cell_type": "markdown",
   "id": "ba0b027a-a597-473c-b041-b344cdbfc048",
   "metadata": {},
   "source": [
    "## RRc"
   ]
  },
  {
   "cell_type": "code",
   "execution_count": 20,
   "id": "f189fd17-2f0c-4164-9a79-beb4c9578a24",
   "metadata": {
    "jupyter": {
     "source_hidden": true
    }
   },
   "outputs": [],
   "source": [
    "ID_c = rrc['__DCM2005_']\n",
    "P_c = np.log10(rrc['Per'])\n",
    "\n",
    "# Create SkyCoord objects in a vectorized way\n",
    "Coord_c = SkyCoord(\n",
    "    ra=rrc['RAJ2000'],\n",
    "    dec=rrc['DEJ2000'],\n",
    "    unit=(u.hourangle, u.deg),\n",
    "    frame='icrs'\n",
    ")\n",
    "\n",
    "BVc  = rrc['__Bint_'] - rrc['__Vint_']\n",
    "g_c  = rrc['__Bint_'] - 0.108 - 0.485*BVc - 0.032*BVc*BVc\n",
    "r_c  = rrc['__Vint_'] + 0.082 - 0.462*BVc + 0.041*BVc*BVc\n",
    "i_c  = rrc['__Iint_'] + 0.341 + 0.154*BVc - 0.025*BVc*BVc\n",
    "\n",
    "E_BV_array = np.array([reddening_map['E_BV'].iloc[coord.match_to_catalog_sky(map_coords)[0]] for coord in Coord_c])\n",
    "\n",
    "g0_c = g_c- Rg*E_BV_array\n",
    "r0_c = r_c- Rr*E_BV_array\n",
    "i0_c = i_c- Ri*E_BV_array\n",
    "\n",
    "flag_gc = g0_c < 99\n",
    "flag_rc = r0_c < 99\n",
    "flag_ic = i0_c < 99\n",
    "\n",
    "FeH_c = match_feh(ID_c, feh_map)"
   ]
  }
 ],
 "metadata": {
  "kernelspec": {
   "display_name": "Python 3 (ipykernel)",
   "language": "python",
   "name": "python3"
  },
  "language_info": {
   "codemirror_mode": {
    "name": "ipython",
    "version": 3
   },
   "file_extension": ".py",
   "mimetype": "text/x-python",
   "name": "python",
   "nbconvert_exporter": "python",
   "pygments_lexer": "ipython3",
   "version": "3.12.3"
  }
 },
 "nbformat": 4,
 "nbformat_minor": 5
}
