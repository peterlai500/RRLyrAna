{
 "cells": [
  {
   "cell_type": "code",
   "execution_count": 1,
   "id": "49279555-5834-4f67-8cff-9667f99f9043",
   "metadata": {},
   "outputs": [],
   "source": [
    "import pandas as pd\n",
    "\n",
    "from astropy.io import ascii\n",
    "\n",
    "from astroquery.vizier import Vizier\n",
    "vizier = Vizier()"
   ]
  },
  {
   "cell_type": "code",
   "execution_count": 7,
   "id": "0d3c8ae7-be24-4c16-992c-6d4939c1a334",
   "metadata": {},
   "outputs": [],
   "source": [
    "data = ascii.read(\"DiF_in.csv\")"
   ]
  },
  {
   "cell_type": "markdown",
   "id": "eccb7024-e917-4124-b0c8-fbb5eb4413c3",
   "metadata": {},
   "source": [
    "## Query"
   ]
  },
  {
   "cell_type": "code",
   "execution_count": 8,
   "id": "b51cc7bd-d869-4712-87c1-13f8d6923127",
   "metadata": {},
   "outputs": [],
   "source": [
    "def query(catalog, vtype):\n",
    "    vizier  = Vizier(columns=[\"[DCM2005]\",\"RAJ2000\", \"DEJ2000\", \"VType\", \"Per\",\"<Bint>\", \"<Vint>\", \"<Iint>\",\"Notes\"], \n",
    "                     column_filters={\"VType\":vtype})\n",
    "    vizier.ROW_LIMIT = -1\n",
    "    results = vizier.get_catalogs(catalog)[0]\n",
    "    return results"
   ]
  },
  {
   "cell_type": "code",
   "execution_count": 9,
   "id": "9fc9b23f-e45e-42df-af8c-05afd3cc85d5",
   "metadata": {},
   "outputs": [
    {
     "name": "stdout",
     "output_type": "stream",
     "text": [
      "All type ab: 101\n",
      "All type c: 54\n",
      "Complete type ab: 94\n",
      "Complete type c: 54\n"
     ]
    }
   ],
   "source": [
    "type_ab = query(\"J/A+A/430/603/variables\", \"ab\")\n",
    "type_c  = query(\"J/A+A/430/603/variables\", \"c\")\n",
    "\n",
    "print(\"All type ab:\", len(type_ab))\n",
    "print(\"All type c:\", len(type_c))\n",
    "\n",
    "# Remove \"Incomplete\" and \"Blend\"\n",
    "valid_ab = (type_ab['Notes'] != \"Incomplete\") & (type_ab['Notes'] != \"Blend\")\n",
    "valid_c  = (type_c['Notes'] != \"Incomplete\") & (type_c['Notes'] != \"Blend\")\n",
    "\n",
    "rrab = type_ab[valid_ab]\n",
    "rrc  = type_c[valid_c]\n",
    "\n",
    "print(\"Complete type ab:\", len(rrab))\n",
    "print(\"Complete type c:\", len(rrc))"
   ]
  },
  {
   "cell_type": "markdown",
   "id": "2dfbd111-16f4-4905-a1e3-b5aca79020e8",
   "metadata": {},
   "source": [
    "## Reddening"
   ]
  },
  {
   "cell_type": "code",
   "execution_count": 10,
   "id": "271a765f-b34e-4620-a0a8-ac7a0ddf9759",
   "metadata": {},
   "outputs": [],
   "source": [
    "ogle_ebv = pd.read_csv(\n",
    "                \"skowron2020_03.4_arcmin.txt\", \n",
    "                sep=r\"\\s+\", \n",
    "                comment='#',\n",
    "                names=['RA', 'Dec', 'E(V-I)', '-sigma', '+sigma', '(V_I)_RC', '(V-I)_0', 'E(V-I)peak', \"E(V-I)_SFD\", \"box\"]\n",
    "            )"
   ]
  },
  {
   "cell_type": "code",
   "execution_count": 11,
   "id": "0dc8cfc7-e3f6-4751-a318-3c5f4d5765c6",
   "metadata": {},
   "outputs": [
    {
     "data": {
      "text/html": [
       "<div><i>Table length=107</i>\n",
       "<table id=\"table140032878700320\" class=\"table-striped table-bordered table-condensed\">\n",
       "<thead><tr><th>id</th><th>rtype</th><th>period</th><th>Vmag</th><th>Bmag</th><th>Imag</th><th>ra</th><th>dec</th><th>EBV</th><th>eEBV</th><th>note</th><th>FeH</th></tr></thead>\n",
       "<thead><tr><th>int64</th><th>str2</th><th>float64</th><th>float64</th><th>float64</th><th>float64</th><th>float64</th><th>float64</th><th>float64</th><th>float64</th><th>str8</th><th>float64</th></tr></thead>\n",
       "<tr><td>2525</td><td>ab</td><td>0.61615</td><td>19.34</td><td>19.764</td><td>99.999</td><td>80.8849583</td><td>-70.6542611</td><td>0.0937753</td><td>0.0420372</td><td>--</td><td>-2.06</td></tr>\n",
       "<tr><td>2767</td><td>ab</td><td>0.53106</td><td>19.467</td><td>19.874</td><td>19.074</td><td>80.82375</td><td>-70.6488611</td><td>0.0929669</td><td>0.0404204</td><td>--</td><td>-1.37</td></tr>\n",
       "<tr><td>3061</td><td>ab</td><td>0.47622</td><td>19.631</td><td>20.037</td><td>19.22</td><td>80.8547083</td><td>-70.6413722</td><td>0.0937753</td><td>0.0420372</td><td>Blazhko</td><td>-1.26</td></tr>\n",
       "<tr><td>3805</td><td>ab</td><td>0.6274</td><td>19.402</td><td>19.866</td><td>18.85</td><td>81.0195417</td><td>-70.6217833</td><td>0.0897332</td><td>0.0412288</td><td>--</td><td>-1.48</td></tr>\n",
       "<tr><td>3948</td><td>ab</td><td>0.66656</td><td>19.292</td><td>19.686</td><td>18.628</td><td>80.6680833</td><td>-70.6213778</td><td>0.0905416</td><td>0.0424414</td><td>Blazhko?</td><td>-1.46</td></tr>\n",
       "<tr><td>4313</td><td>ab</td><td>0.64222</td><td>19.27</td><td>19.779</td><td>18.451</td><td>80.3911667</td><td>-70.614625</td><td>0.0929669</td><td>0.0408246</td><td>--</td><td>-1.48</td></tr>\n",
       "<tr><td>4933</td><td>ab</td><td>0.6135</td><td>19.103</td><td>19.531</td><td>18.542</td><td>80.6249583</td><td>-70.598225</td><td>0.0889248</td><td>0.0408246</td><td>Blazhko?</td><td>-1.48</td></tr>\n",
       "<tr><td>4974</td><td>ab</td><td>0.58069</td><td>19.384</td><td>19.809</td><td>18.778</td><td>80.713375</td><td>-70.5965806</td><td>0.083266</td><td>0.041633</td><td>--</td><td>-1.35</td></tr>\n",
       "<tr><td>5167</td><td>ab</td><td>0.63023</td><td>19.359</td><td>19.837</td><td>18.808</td><td>80.4985417</td><td>-70.5930528</td><td>0.0864996</td><td>0.0355699</td><td>--</td><td>-1.32</td></tr>\n",
       "<tr><td>...</td><td>...</td><td>...</td><td>...</td><td>...</td><td>...</td><td>...</td><td>...</td><td>...</td><td>...</td><td>...</td><td>...</td></tr>\n",
       "<tr><td>4749</td><td>c</td><td>0.32703</td><td>19.314</td><td>19.653</td><td>18.834</td><td>79.4569583</td><td>-71.0003833</td><td>0.0646726</td><td>0.0347615</td><td>--</td><td>-1.48</td></tr>\n",
       "<tr><td>4946</td><td>c</td><td>0.31275</td><td>19.432</td><td>19.739</td><td>18.929</td><td>79.5459167</td><td>-70.9932222</td><td>0.0622474</td><td>0.0319321</td><td>--</td><td>-1.48</td></tr>\n",
       "<tr><td>5256</td><td>c</td><td>0.34248</td><td>19.259</td><td>19.614</td><td>18.795</td><td>79.689875</td><td>-70.9824417</td><td>0.0703314</td><td>0.0270816</td><td>--</td><td>-1.48</td></tr>\n",
       "<tr><td>6164</td><td>c</td><td>0.37487</td><td>19.057</td><td>19.353</td><td>18.604</td><td>79.5421667</td><td>-70.9585417</td><td>0.061439</td><td>0.0311237</td><td>--</td><td>-1.48</td></tr>\n",
       "<tr><td>6255</td><td>c</td><td>0.35239</td><td>19.264</td><td>19.6</td><td>18.807</td><td>79.3242917</td><td>-70.9573417</td><td>0.0606306</td><td>0.0371867</td><td>--</td><td>-1.48</td></tr>\n",
       "<tr><td>6957</td><td>c</td><td>0.40567</td><td>19.197</td><td>19.532</td><td>18.673</td><td>79.575125</td><td>-70.9357639</td><td>0.0582053</td><td>0.0363783</td><td>--</td><td>-1.48</td></tr>\n",
       "<tr><td>7064</td><td>c</td><td>0.4007</td><td>19.122</td><td>19.433</td><td>18.644</td><td>79.5774583</td><td>-70.9329556</td><td>0.0582053</td><td>0.0363783</td><td>--</td><td>-1.48</td></tr>\n",
       "<tr><td>7648</td><td>c</td><td>0.34268</td><td>19.384</td><td>19.688</td><td>18.947</td><td>79.1605417</td><td>-70.9193111</td><td>0.0598222</td><td>0.0335489</td><td>--</td><td>-1.48</td></tr>\n",
       "<tr><td>7783</td><td>c</td><td>0.34634</td><td>19.279</td><td>19.564</td><td>18.828</td><td>79.3570833</td><td>-70.9144306</td><td>0.0606306</td><td>0.0420372</td><td>--</td><td>-1.48</td></tr>\n",
       "<tr><td>10585</td><td>c</td><td>0.26954</td><td>19.628</td><td>19.934</td><td>19.158</td><td>79.371125</td><td>-71.0792111</td><td>0.087308</td><td>0.0400162</td><td>--</td><td>-1.48</td></tr>\n",
       "</table></div>"
      ],
      "text/plain": [
       "<Table length=107>\n",
       "  id  rtype  period   Vmag    Bmag  ...    EBV       eEBV     note     FeH  \n",
       "int64  str2 float64 float64 float64 ...  float64   float64    str8   float64\n",
       "----- ----- ------- ------- ------- ... --------- --------- -------- -------\n",
       " 2525    ab 0.61615   19.34  19.764 ... 0.0937753 0.0420372       --   -2.06\n",
       " 2767    ab 0.53106  19.467  19.874 ... 0.0929669 0.0404204       --   -1.37\n",
       " 3061    ab 0.47622  19.631  20.037 ... 0.0937753 0.0420372  Blazhko   -1.26\n",
       " 3805    ab  0.6274  19.402  19.866 ... 0.0897332 0.0412288       --   -1.48\n",
       " 3948    ab 0.66656  19.292  19.686 ... 0.0905416 0.0424414 Blazhko?   -1.46\n",
       " 4313    ab 0.64222   19.27  19.779 ... 0.0929669 0.0408246       --   -1.48\n",
       " 4933    ab  0.6135  19.103  19.531 ... 0.0889248 0.0408246 Blazhko?   -1.48\n",
       " 4974    ab 0.58069  19.384  19.809 ...  0.083266  0.041633       --   -1.35\n",
       " 5167    ab 0.63023  19.359  19.837 ... 0.0864996 0.0355699       --   -1.32\n",
       "  ...   ...     ...     ...     ... ...       ...       ...      ...     ...\n",
       " 4749     c 0.32703  19.314  19.653 ... 0.0646726 0.0347615       --   -1.48\n",
       " 4946     c 0.31275  19.432  19.739 ... 0.0622474 0.0319321       --   -1.48\n",
       " 5256     c 0.34248  19.259  19.614 ... 0.0703314 0.0270816       --   -1.48\n",
       " 6164     c 0.37487  19.057  19.353 ...  0.061439 0.0311237       --   -1.48\n",
       " 6255     c 0.35239  19.264    19.6 ... 0.0606306 0.0371867       --   -1.48\n",
       " 6957     c 0.40567  19.197  19.532 ... 0.0582053 0.0363783       --   -1.48\n",
       " 7064     c  0.4007  19.122  19.433 ... 0.0582053 0.0363783       --   -1.48\n",
       " 7648     c 0.34268  19.384  19.688 ... 0.0598222 0.0335489       --   -1.48\n",
       " 7783     c 0.34634  19.279  19.564 ... 0.0606306 0.0420372       --   -1.48\n",
       "10585     c 0.26954  19.628  19.934 ...  0.087308 0.0400162       --   -1.48"
      ]
     },
     "execution_count": 11,
     "metadata": {},
     "output_type": "execute_result"
    }
   ],
   "source": [
    "data"
   ]
  },
  {
   "cell_type": "code",
   "execution_count": null,
   "id": "e5896558-1dfc-46a1-8c25-436ad3ec409a",
   "metadata": {},
   "outputs": [],
   "source": []
  }
 ],
 "metadata": {
  "kernelspec": {
   "display_name": "Python 3 (ipykernel)",
   "language": "python",
   "name": "python3"
  },
  "language_info": {
   "codemirror_mode": {
    "name": "ipython",
    "version": 3
   },
   "file_extension": ".py",
   "mimetype": "text/x-python",
   "name": "python",
   "nbconvert_exporter": "python",
   "pygments_lexer": "ipython3",
   "version": "3.12.3"
  }
 },
 "nbformat": 4,
 "nbformat_minor": 5
}
