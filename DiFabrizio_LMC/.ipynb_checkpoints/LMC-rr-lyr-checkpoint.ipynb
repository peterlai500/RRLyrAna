{
 "cells": [
  {
   "cell_type": "code",
   "execution_count": null,
   "id": "0759d925",
   "metadata": {
    "jupyter": {
     "source_hidden": true
    }
   },
   "outputs": [],
   "source": [
    "from astroquery.vizier import Vizier\n",
    "vizier = Vizier()\n",
    "\n",
    "from astropy.coordinates import SkyCoord, Angle\n",
    "import astropy.units as u\n",
    "\n",
    "import matplotlib.pyplot as plt\n",
    "import numpy as np\n",
    "import numpy.ma as ma\n",
    "import pandas as pd"
   ]
  },
  {
   "cell_type": "markdown",
   "id": "f0bee888",
   "metadata": {
    "jupyter": {
     "source_hidden": true
    }
   },
   "source": [
    "# Query and Selection\n",
    "## Query the dataset\n",
    "Directly get accesss from Vizier with the catalogue ID: `J/A+A/430/603/variables`"
   ]
  },
  {
   "cell_type": "code",
   "execution_count": null,
   "id": "a3661288",
   "metadata": {},
   "outputs": [],
   "source": [
    "vizier = vizier(columns=[\"[DCM2005]\",\"RAJ2000\", \"DEJ2000\", \"VType\", \"Per\",\"<Bint>\", \"<Vint>\", \"<Iint>\",\"Notes\"])\n",
    "vizier.ROW_LIMIT = -1"
   ]
  },
  {
   "cell_type": "code",
   "execution_count": null,
   "id": "6b8357d5",
   "metadata": {},
   "outputs": [],
   "source": [
    "LMC_rr = vizier.get_catalogs(\"J/A+A/430/603/variables\")"
   ]
  },
  {
   "cell_type": "markdown",
   "id": "5f6589ea",
   "metadata": {},
   "source": [
    "## Select the RR Lyrae stars in different types"
   ]
  },
  {
   "cell_type": "code",
   "execution_count": null,
   "id": "047a8e18",
   "metadata": {
    "jupyter": {
     "source_hidden": true
    }
   },
   "outputs": [],
   "source": [
    "def select_type(catalog, rrtype):\n",
    "    rrlist = []\n",
    "    for i in range(len(catalog)):\n",
    "        if (\n",
    "            (catalog[i][\"VType\"] == rrtype) and \n",
    "            (catalog[i][\"Notes\"] not in [\"Incomplete\", \"Blend\"]) and \n",
    "            (ma.getmask(catalog[i][\"Per\"]) == False)\n",
    "           ):\n",
    "            # Convert the coordinate string to astropy Skycoord\n",
    "            obs_coord = SkyCoord(\n",
    "                                 ra=catalog[i][\"RAJ2000\"], dec=catalog[i][\"DEJ2000\"], \n",
    "                                 unit=(u.hourangle, u.deg), \n",
    "                                 frame='icrs'\n",
    "                                )\n",
    "\n",
    "            rrlist.append({\n",
    "                    'DCM2005': catalog[i][\"__DCM2005_\"],\n",
    "                'Coordinate' : obs_coord,\n",
    "                         'P' : catalog[i][\"Per\"],\n",
    "                     'obs_B' : catalog[i][\"__Bint_\"],\n",
    "                     'obs_V' : catalog[i][\"__Vint_\"],\n",
    "                     'obs_I' : catalog[i][\"__Iint_\"],\n",
    "            })\n",
    "    return rrlist"
   ]
  },
  {
   "cell_type": "code",
   "execution_count": null,
   "id": "4c01a6e1",
   "metadata": {
    "jupyter": {
     "source_hidden": true
    }
   },
   "outputs": [],
   "source": [
    "LMC_rr0 = select_type(LMC_rr[0], \"ab\")"
   ]
  },
  {
   "cell_type": "markdown",
   "id": "cfa060e5",
   "metadata": {
    "jupyter": {
     "source_hidden": true
    }
   },
   "source": [
    "RR0 samples: 94"
   ]
  },
  {
   "cell_type": "code",
   "execution_count": null,
   "id": "ff7587b8",
   "metadata": {
    "jupyter": {
     "source_hidden": true
    }
   },
   "outputs": [],
   "source": [
    "LMC_rr1 = select_type(LMC_rr[0], \"c\")"
   ]
  },
  {
   "cell_type": "markdown",
   "id": "2ab495ad",
   "metadata": {
    "jupyter": {
     "source_hidden": true
    }
   },
   "source": [
    "RR1 samples: 54"
   ]
  },
  {
   "cell_type": "markdown",
   "id": "d479df42",
   "metadata": {},
   "source": [
    "# Extinction\n",
    "From [Gorski et al. 2020](https://ui.adsabs.harvard.edu/abs/2020ApJ...889..179G/abstract) derived the Magellanic clouds [extinction maps](https://araucaria.camk.edu.pl/index.php/magellanic-clouds-extinction-maps/) with different spatial resolution of map (using 3 arcmin resolute)\n",
    "- V band:  \n",
    "    Utilize the relationship $ A_V = R_V \\times E(B-V) $. The authors use $ R_V = 3.1 $ ([Cardelli et al. 1989](https://ui.adsabs.harvard.edu/abs/1989ApJ...345..245C/abstract) extinction law)\n",
    "- B band:  \n",
    "    Use the definition of $E(B-V)$, which is $E(B-V) = A_B - A_V$\n",
    "    \n",
    "- I band:  \n",
    "    From the extinction law in Cardelli et al., the ratio $A_I/A_V\\approx 0.479$\n",
    "\n",
    "To sum up, the extinction law for each band is:\n",
    "\n",
    "$$\\begin{aligned}\n",
    "    A_B &= E(B-V) + A_V \\\\\n",
    "    A_V &= 3.1 \\cdot E(B-V) \\\\\n",
    "    A_I &= 0.479 \\cdot A_V\n",
    "\\end{aligned}$$\n",
    "\n",
    "1. Read the reddening map\n",
    "2. Match observational targets to the map:  \n",
    "    - Use the angular distance formula to find the closest grid point in the reddening map:  \n",
    "    $$\n",
    "        d = \\sqrt{(\\text{RA}_\\text{target} - \\text{RA}_\\text{grid})^2 + (\\text{Dec}_\\text{target} - \\text{Dec}_\\text{grid})^2}\n",
    "    $$\n",
    "    Select the grid point with smallest distance $d$\n",
    "     - Using the [`Skycoord.match_to_catalog_sky`](https://docs.astropy.org/en/stable/api/astropy.coordinates.SkyCoord.html)\n",
    "     \n",
    "## Error propagation\n",
    "### Extinction $A_\\lambda$\n",
    "$$\\begin{aligned}\n",
    "    \\sigma_{A_B} &= \\sqrt{\\sigma_{E(B-V)}^2 + (3.1\\sigma_{E(B-V)})^2} \\\\\n",
    "    \\sigma_{A_V} &= 3.1 \\cdot \\sigma_{E(B-V)} \\\\\n",
    "    \\sigma_{A_I} &= 0.479 \\cdot \\sigma_{E(B-V)}\n",
    "\\end{aligned}$$\n",
    "### Corrected magnitude\n",
    "$$\\begin{aligned}\n",
    "    \\sigma_{B_\\text{corr}} &= \\sigma_{A_B} \\\\\n",
    "    \\sigma_{V_\\text{corr}} &= \\sigma_{A_V} \\\\\n",
    "    \\sigma_{I_\\text{corr}} &= \\sigma_{A_I}\n",
    "\\end{aligned}$$"
   ]
  },
  {
   "cell_type": "code",
   "execution_count": null,
   "id": "2a896a86",
   "metadata": {
    "jupyter": {
     "source_hidden": true
    }
   },
   "outputs": [],
   "source": [
    "# read the downloaded reddening E(B-V) map\n",
    "reddening_map = pd.read_csv(\n",
    "                            \"EBV_res3_lmc.txt\", \n",
    "                            sep=r\"\\s+\", \n",
    "                            comment='#',  # Ignore comment lines\n",
    "                            names=['RA', 'Dec', 'E_BV', 'Error', 'Sigma_RC', 'N_RC']\n",
    "                           )\n",
    "map_coords = SkyCoord(ra=reddening_map[\"RA\"].values * u.deg, dec=reddening_map[\"Dec\"].values * u.deg)"
   ]
  },
  {
   "cell_type": "code",
   "execution_count": null,
   "id": "23ad8687",
   "metadata": {
    "jupyter": {
     "source_hidden": true
    }
   },
   "outputs": [],
   "source": [
    "R_V = 3.1\n",
    "AI_AV_ratio = 0.479"
   ]
  },
  {
   "cell_type": "code",
   "execution_count": null,
   "id": "dee5dad6",
   "metadata": {
    "jupyter": {
     "source_hidden": true
    }
   },
   "outputs": [],
   "source": [
    "def extinction(EBV_map, mapcoord, rrlist):\n",
    "    \n",
    "    corrected =[]\n",
    "    for data in rrlist:\n",
    "        DCM2005 = data['DCM2005']\n",
    "        # use SkyCoord.match_to_catalog_sky \n",
    "        idx, d2d, d3d = data['Coordinate'].match_to_catalog_sky(mapcoord)\n",
    "\n",
    "        # idx is the index to the catalog (reddening map)\n",
    "        E_BV = EBV_map['E_BV'][idx]\n",
    "\n",
    "        A_V = R_V * E_BV\n",
    "        A_B = A_V + E_BV\n",
    "        A_I = AI_AV_ratio * A_V\n",
    "\n",
    "        error_E_BV = EBV_map['Error'][idx]\n",
    "\n",
    "        B_error = np.sqrt( error_E_BV**2 + (3.1 * error_E_BV)**2 )\n",
    "        V_error = 3.1 * error_E_BV\n",
    "        I_error = 0.479 * error_E_BV\n",
    "\n",
    "        B_corrected = data['obs_B'] - A_B\n",
    "        V_corrected = data['obs_V'] - A_V\n",
    "        I_corrected = data['obs_I'] - A_I\n",
    "\n",
    "        corrected.append({\n",
    "                'DCM2005' : DCM2005,\n",
    "                   'E_BV' : E_BV,\n",
    "                    'A_B' : A_B,\n",
    "                    'A_V' : A_V,\n",
    "                    'A_I' : A_I,\n",
    "                      'P' : data['P'],\n",
    "            'B_corrected' : B_corrected,\n",
    "            'V_corrected' : V_corrected,\n",
    "            'I_corrected' : I_corrected, \n",
    "                'B_error' : B_error,\n",
    "                'V_error' : V_error,\n",
    "                'I_error' : I_error,\n",
    "        })\n",
    "    return corrected"
   ]
  },
  {
   "cell_type": "markdown",
   "id": "05d7ccf9",
   "metadata": {},
   "source": [
    "RR0 extinction correction"
   ]
  },
  {
   "cell_type": "code",
   "execution_count": null,
   "id": "c52c30b8",
   "metadata": {
    "jupyter": {
     "source_hidden": true
    }
   },
   "outputs": [],
   "source": [
    "rr0_corrected = extinction(reddening_map, map_coords, LMC_rr0)"
   ]
  },
  {
   "cell_type": "markdown",
   "id": "37fe9a55",
   "metadata": {
    "jupyter": {
     "source_hidden": true
    }
   },
   "source": [
    "RR1 extinction correction"
   ]
  },
  {
   "cell_type": "code",
   "execution_count": null,
   "id": "6f95c79a",
   "metadata": {
    "jupyter": {
     "source_hidden": true
    }
   },
   "outputs": [],
   "source": [
    "rr1_corrected = extinction(reddening_map, map_coords, LMC_rr1)"
   ]
  },
  {
   "cell_type": "markdown",
   "id": "14b0d532",
   "metadata": {
    "jupyter": {
     "source_hidden": true
    }
   },
   "source": [
    "# Pan-STARRS1 and Johnson Conversion\n",
    "See [Tory et al.](https://ui.adsabs.harvard.edu/abs/2012ApJ...750...99T/abstract) equation (6) and table (6)  \n",
    "The quadratic transformation gives more accurate result (lower uncertainty):\n",
    "$$\n",
    "    y = A_0 + A_1 x + A_2 x^2\n",
    "$$\n",
    "\n",
    "|$y$|$x$|$A_0$|$A_1$|$A_2$|$\\pm$|\n",
    "|:-:|:-:|:-:|:-:|:-:|:-:|\n",
    "|$(g_{P1}-B)$|$(B-V)$|$-0.108$|$-0.845$|$-0.032$|$0.011$|\n",
    "|$(r_{P1}-V)$|$(B-V)$|$0.082$|$-0.462$|$0.041$|$0.025$|\n",
    "|$(i_{P1}-I)$|$(B-V)$|$0.341$|$0.154$|$-0.025$|$0.012$|\n",
    "\n",
    "$$\\begin{aligned}\n",
    "    g_{P1} - B &= -0.108 - 0.845(B-V) - 0.032(B-V)^2 \\\\\n",
    "    r_{P1} - V &= 0.082 + 0.462(B-V) + 0.041(B-V)^2 \\\\\n",
    "    i_{P1} - I &= 0.341 - 0.154(B-V) - 0.025(B-V)^2 \\\\\n",
    "\\end{aligned}$$\n",
    "\n",
    "##  Wesenheit index\n",
    "\n",
    "From [Ngeow et al. 2022](https://ui.adsabs.harvard.edu/abs/2022AJ....163..239N/abstract), the Wesenheit indices in $gri$ band is defined as\n",
    "$$\\begin{aligned}\n",
    "    W^{gr} &= r - 2.905 (g - r) \\\\\n",
    "    W^{ri} &= r - 4.051 (r - i) \\\\\n",
    "    W^{gi} &= g - 2.274 (g - i)\n",
    "\\end{aligned}$$\n",
    "\n",
    "### Error propagation\n",
    "#### Magnitude\n",
    "$$\\begin{aligned}\n",
    "    \\sigma_g &= \\sqrt{\\sigma_B^2+\\sigma_a^2} \\\\\n",
    "    \\sigma_r &= \\sqrt{\\sigma_V^2+\\sigma_a^2} \\\\\n",
    "    \\sigma_i &= \\sqrt{\\sigma_I^2+\\sigma_a^2} \\\\\n",
    "\\end{aligned}$$\n",
    "#### Wesenheit index\n",
    "$$\\begin{aligned}\n",
    "    \\sigma_{W^{gr}} &= \\sqrt{[(-2.905)\\sigma_g]^2+[3.905\\sigma_r]^2} \\\\\n",
    "    \\sigma_{W^{ri}} &= \\sqrt{[(-3.051)\\sigma_r]^2+[4.051\\sigma_i]^2} \\\\\n",
    "    \\sigma_{W^{gi}} &= \\sqrt{[(-1.274)\\sigma_g]^2+[2.274\\sigma_i]^2}\n",
    "\\end{aligned}$$"
   ]
  },
  {
   "cell_type": "code",
   "execution_count": null,
   "id": "a415b5ea",
   "metadata": {
    "jupyter": {
     "source_hidden": true
    }
   },
   "outputs": [],
   "source": [
    "uA_g = 0.011\n",
    "uA_r = 0.025\n",
    "uA_i = 0.012"
   ]
  },
  {
   "cell_type": "code",
   "execution_count": null,
   "id": "a88d0be9",
   "metadata": {
    "jupyter": {
     "source_hidden": true
    }
   },
   "outputs": [],
   "source": [
    "def conversion(corrected):\n",
    "    gri = {'gmag' : [], 'err_g' : [],\n",
    "           'rmag' : [], 'err_r' : [],\n",
    "           'imag' : [], 'err_i' : []}\n",
    "    \n",
    "    w   = {'wgr' : [], 'err_wgr' : [],\n",
    "           'wri' : [], 'err_wri' : [],\n",
    "           'wgi' : [], 'err_wgi' : []}\n",
    "    \n",
    "    P   = {'ID_g' : [], 'P_g' : [], 'ID_wgr' : [], 'P_Wgr' : [],\n",
    "           'ID_r' : [], 'P_r' : [], 'ID_wri' : [], 'P_Wri' : [],\n",
    "           'ID_i' : [], 'P_i' : [], 'ID_wgi' : [], 'P_Wgi' : []}\n",
    "    \n",
    "    for data in corrected:\n",
    "        DCM2005 = data['DCM2005']\n",
    "        \n",
    "        B  = data['B_corrected']\n",
    "        uB = data['B_error']\n",
    "        \n",
    "        V  = data['V_corrected']\n",
    "        uV = data['V_error']\n",
    "        \n",
    "        I  = data['I_corrected']\n",
    "        uI = data['I_error']\n",
    "        \n",
    "        x  = data['B_corrected'] - data['V_corrected']\n",
    "        \n",
    "        ux = np.sqrt( uB**2 + uV**2 )\n",
    "        \n",
    "        if ma.getmask(B) == False and ma.getmask(V) == False:\n",
    "        \n",
    "            # Johnson-Cousins to Pan-STARRS\n",
    "            gP1 = -0.108 - 0.845 * x - 0.032 * x**2 + B\n",
    "            rP1 =  0.082 - 0.462 * x + 0.041 * x**2 + V\n",
    "\n",
    "            err_g = np.sqrt( uB**2 + uA_g**2 )\n",
    "            err_r = np.sqrt( uV**2 + uA_r**2 )\n",
    "\n",
    "            # Wesenheit index W^{gr}\n",
    "            W_gr = rP1 - 2.905*(gP1 - rP1)\n",
    "            err_Wgr = np.sqrt( ((1 + 2.905)*err_r)**2 + ((- 2.905)*err_g)**2 )\n",
    "            \n",
    "            gri['gmag'].append(gP1)\n",
    "            gri['err_g'].append(err_g)\n",
    "            gri['rmag'].append(rP1)\n",
    "            gri['err_r'].append(err_r)\n",
    "            \n",
    "            w['wgr'].append(W_gr)\n",
    "            w['err_wgr'].append(err_Wgr)\n",
    "\n",
    "            P['P_g'].append(data['P'])\n",
    "            P['ID_g'].append(DCM2005)\n",
    "            P['P_r'].append(data['P'])\n",
    "            P['ID_r'].append(DCM2005)\n",
    "            P['P_Wgr'].append(data['P'])\n",
    "            P['ID_wgr'].append(DCM2005)\n",
    "        \n",
    "        # convert to i band\n",
    "        if ma.getmask(B) == False and ma.getmask(V) == False and ma.getmask(I) == False:\n",
    "\n",
    "            # Johnson-Cousins to Pan-STARRS\n",
    "            gP1 = -0.108 - 0.845 * x - 0.032 * x**2 + B\n",
    "            rP1 =  0.082 - 0.462 * x + 0.041 * x**2 + V\n",
    "            iP1 =  0.341 - 0.154 * x - 0.025 * x**2 + I\n",
    "\n",
    "            err_i = np.sqrt( uI**2 + uA_i**2)\n",
    "            err_g = np.sqrt( uB**2 + uA_g**2 )\n",
    "            err_r = np.sqrt( uV**2 + uA_r**2 )\n",
    "\n",
    "            # Wesenheit index W^{ri}, W^{gi}\n",
    "            W_ri = rP1 - 4.051*(rP1 - iP1)\n",
    "            W_gi = gP1 - 2.274*(gP1 - iP1)\n",
    "\n",
    "            err_Wri = np.sqrt( ((1 - 4.051)*err_r)**2 + ((4.051)*err_i)**2 )\n",
    "            err_Wgi = np.sqrt( ((1 - 2.274)*err_g)**2 + ((2.274)*err_i)**2 )\n",
    "\n",
    "            gri['imag'].append(iP1)\n",
    "            gri['err_i'].append(err_i)\n",
    "\n",
    "            w['wri'].append(W_ri)\n",
    "            w['err_wri'].append(err_Wri)\n",
    "            w['wgi'].append(W_gi)\n",
    "            w['err_wgi'].append(err_Wgi)\n",
    "\n",
    "            P['P_i'].append(data['P'])\n",
    "            P['P_Wri'].append(data['P'])\n",
    "            P['P_Wgi'].append(data['P'])\n",
    "            P['ID_i'].append(DCM2005)\n",
    "            P['ID_wri'].append(DCM2005)\n",
    "            P['ID_wgi'].append(DCM2005)\n",
    "        \n",
    "    return gri, w, P"
   ]
  },
  {
   "cell_type": "markdown",
   "id": "c988917b",
   "metadata": {
    "jupyter": {
     "source_hidden": true
    }
   },
   "source": [
    "RR0 conversion"
   ]
  },
  {
   "cell_type": "code",
   "execution_count": null,
   "id": "e32c7bd9",
   "metadata": {
    "jupyter": {
     "source_hidden": true
    }
   },
   "outputs": [],
   "source": [
    "rr0 = conversion(rr0_corrected)"
   ]
  },
  {
   "cell_type": "markdown",
   "id": "407d61d6",
   "metadata": {
    "jupyter": {
     "source_hidden": true
    }
   },
   "source": [
    "RR1 conversion"
   ]
  },
  {
   "cell_type": "code",
   "execution_count": null,
   "id": "44e24210",
   "metadata": {
    "jupyter": {
     "source_hidden": true
    }
   },
   "outputs": [],
   "source": [
    "rr1 = conversion(rr1_corrected)"
   ]
  },
  {
   "cell_type": "markdown",
   "id": "73df08e0",
   "metadata": {
    "jupyter": {
     "source_hidden": true
    }
   },
   "source": [
    "Sample numbers:  \n",
    "\n",
    "||RR0|RR1|\n",
    "|:-|:-:|:-:|\n",
    "|$g$|74|32|\n",
    "|$r$|74|32|\n",
    "|$i$|58|31|\n",
    "|$W^{gr}$|74|32|\n",
    "|$W^{ri}$|58|31|\n",
    "|$W^{gi}$|58|31|"
   ]
  },
  {
   "cell_type": "markdown",
   "id": "4d5b7e87",
   "metadata": {},
   "source": [
    "# Distance modulus $\\mu = m - M$\n",
    "\n",
    "## The distance modulus from old work\n",
    "From [Clementini et al. 2003](https://ui.adsabs.harvard.edu/abs/2003AJ....125.1309C/abstract), the author used 3 method to estimated the absolute magnitude:  \n",
    "\n",
    "|Method|$M_V$|$\\mu$|\n",
    "|:-|:-:|:-:|\n",
    "|Baade-Wesselink method|$0.68 \\pm 0.15$|$18.38 \\pm 0.16$|\n",
    "|statistical parallaxes|$0.76 \\pm 0.13$|$18.30 \\pm 0.14$|\n",
    "|main-sequence fitting of Galactic globular clusters|$0.61 \\pm 0.07$|$18.45 \\pm 0.09$|\n",
    "\n",
    "He then reconciled the long- and short-distance scale on a distance modulus $\\mu_{LMC} = 18.515 \\pm 0.085$  \n",
    "\n",
    "## The up-to-date LMC distance modulus research\n",
    "\n",
    "From [Pietrzyński et al. 2019](https://ui.adsabs.harvard.edu/abs/2019Natur.567..200P/abstract), they computed the mean distance modulus to LMC $\\langle \\mu \\rangle = 18.477 ± 0.004\\,(\\text{statistical}) ± 0.026\\,(\\text{systemical})$"
   ]
  },
  {
   "cell_type": "code",
   "execution_count": null,
   "id": "db7aa50f",
   "metadata": {
    "jupyter": {
     "source_hidden": true
    }
   },
   "outputs": [],
   "source": [
    "muLMC   = 18.477\n",
    "u_muLMC = np.sqrt(0.004**2 + 0.026**2)"
   ]
  },
  {
   "cell_type": "code",
   "execution_count": null,
   "id": "b92a06df",
   "metadata": {
    "jupyter": {
     "source_hidden": true
    }
   },
   "outputs": [],
   "source": [
    "def AbsoluteMag(mu, err_mu, data):\n",
    "    gmag  = data[0]['gmag']\n",
    "    err_g = data[0]['err_g']\n",
    "    rmag  = data[0]['rmag']\n",
    "    err_r = data[0]['err_r']\n",
    "    imag  = data[0]['imag']\n",
    "    err_i = data[0]['err_i']\n",
    "\n",
    "    wgr     = data[1]['wgr']\n",
    "    err_wgr = data[1]['err_wgr']\n",
    "    wri     = data[1]['wri']\n",
    "    err_wri = data[1]['err_wri']\n",
    "    wgi     = data[1]['wgi']\n",
    "    err_wgi = data[1]['err_wgi']\n",
    "    \n",
    "    def DistModulus(m, u):\n",
    "        Mag = []\n",
    "        Err = []\n",
    "        for mag, err in zip(m, u):\n",
    "            M = mag - mu\n",
    "            E = np.sqrt(err**2 + err_mu**2)\n",
    "            Mag.append(M)\n",
    "            Err.append(E)\n",
    "        return Mag, Err\n",
    "    \n",
    "    M_dict = {'gMag' : [], 'err_g' : [],\n",
    "              'rMag' : [], 'err_r' : [],\n",
    "              'iMag' : [], 'err_i' : []}\n",
    "    \n",
    "    W_dict = {'Wgr' : [], 'err_Wgr' : [],\n",
    "              'Wri' : [], 'err_Wri' : [],\n",
    "              'Wgi' : [], 'err_Wgi' : []}\n",
    "    \n",
    "    M_dict['gMag'], M_dict['err_g'] = DistModulus(gmag, err_g)\n",
    "    M_dict['rMag'], M_dict['err_r'] = DistModulus(rmag, err_r)\n",
    "    M_dict['iMag'], M_dict['err_i'] = DistModulus(imag, err_i)\n",
    "    \n",
    "    W_dict['Wgr'], W_dict['err_Wgr'] = DistModulus(wgr, err_wgr)\n",
    "    W_dict['Wri'], W_dict['err_Wri'] = DistModulus(wri, err_wri)\n",
    "    W_dict['Wgi'], W_dict['err_Wgi'] = DistModulus(wgi, err_wgi)\n",
    "    \n",
    "    return M_dict, W_dict"
   ]
  },
  {
   "cell_type": "markdown",
   "id": "782ddf23",
   "metadata": {
    "jupyter": {
     "source_hidden": true
    }
   },
   "source": [
    "RR0 magnitude considering distance modulus"
   ]
  },
  {
   "cell_type": "code",
   "execution_count": null,
   "id": "cc77234d",
   "metadata": {
    "jupyter": {
     "source_hidden": true
    }
   },
   "outputs": [],
   "source": [
    "RR0_Mag, RR0_W = AbsoluteMag(muLMC, u_muLMC, rr0)"
   ]
  },
  {
   "cell_type": "markdown",
   "id": "64cacbe9",
   "metadata": {
    "jupyter": {
     "source_hidden": true
    }
   },
   "source": [
    "RR1 magnitude considering distance modulus"
   ]
  },
  {
   "cell_type": "code",
   "execution_count": null,
   "id": "0a7fb2e4",
   "metadata": {
    "jupyter": {
     "source_hidden": true
    }
   },
   "outputs": [],
   "source": [
    "RR1_Mag, RR1_W = AbsoluteMag(muLMC, u_muLMC, rr1)"
   ]
  },
  {
   "cell_type": "markdown",
   "id": "5393a052",
   "metadata": {},
   "source": [
    "# Relations\n",
    "## PL / PLZ\n",
    "### [Ngeow et al. 2022](https://ui.adsabs.harvard.edu/abs/2022AJ....163..239N/abstract)\n",
    "Equation (1):  \n",
    "$y = a + b \\log P + c[\\text{Fe}/\\text{H}]$  \n",
    "(PL relation is a special case for $c$ is setted as $0$)\n",
    "\n",
    "- RR0  \n",
    "    $$\\begin{aligned}\n",
    "        M_g &=   0.649 − 0.302 \\log P + 0.159[\\text{Fe}/\\text{H}]\\\\\n",
    "        M_r &=   0.337 − 1.090 \\log P + 0.139[\\text{Fe}/\\text{H}]\\\\\n",
    "        M_i &=   0.243 − 1.432 \\log P + 0.144[\\text{Fe}/\\text{H}]\n",
    "    \\end{aligned}$$\n",
    "\n",
    "- RRc (RR1)\n",
    "    $$\\begin{aligned}\n",
    "        M_g &=   0.411 − 0.342 \\log P + 0.092[\\text{Fe}/\\text{H}]\\\\\n",
    "        M_r &= − 0.082 − 1.393 \\log P + 0.091[\\text{Fe}/\\text{H}]\\\\\n",
    "        M_i &= − 0.205 − 1.706 \\log P + 0.077[\\text{Fe}/\\text{H}]\n",
    "    \\end{aligned}$$\n",
    "\n",
    "- RR0 + RR1 (combined sample)  \n",
    "    $ \\log P_0 = \\log P_1 + 0.127$\n",
    "    $$\\begin{aligned}\n",
    "        M_g &=   0.801 − 0.032 \\log P + 0.190[\\text{Fe}/\\text{H}]\\\\\n",
    "        M_r &=   0.432 − 0.874 \\log P + 0.154[\\text{Fe}/\\text{H}]\\\\\n",
    "        M_i &=   0.249 − 1.362 \\log P + 0.115[\\text{Fe}/\\text{H}]\n",
    "    \\end{aligned}$$\n",
    "\n",
    "### [Narloch et al. 2024](https://ui.adsabs.harvard.edu/abs/2024A%26A...689A.138N/abstract)\n",
    "##### PL: $M_\\lambda = a (\\log P - \\log P_0) + b$\n",
    "How to determine the $\\log P_0$: [Zgirski et al. (2023)](https://ui.adsabs.harvard.edu/abs/2023ApJ...951..114Z/abstract)\n",
    "- RRab (RR0) Set $\\log P_0 = -0.25$\n",
    "    $$\\begin{aligned}\n",
    "        M_g &= -2.242 (\\log P - \\log P_0) + 0.805 \\\\\n",
    "        M_r &= -2.528 (\\log P - \\log P_0) + 0.660 \\\\\n",
    "        M_i &= -2.799 (\\log P - \\log P_0) + 0.642 \\\\\n",
    "    \\end{aligned}$$\n",
    "\n",
    "- RRc (RR1) Set $\\log P_0 = -0.45$\n",
    "    $$\\begin{aligned}\n",
    "        M_g &= - 1.984 (\\log P - \\log P_0) + 0.605 \\\\\n",
    "        M_r &= - 2.266 (\\log P - \\log P_0) + 0.557 \\\\\n",
    "        M_i &= - 2.393 (\\log P - \\log P_0) + 0.598 \\\\\n",
    "    \\end{aligned}$$\n",
    "\n",
    "- RRab + RRc (combined sample) Set $\\log P_0 = -0.25$\n",
    "    $$\\begin{aligned}\n",
    "        M_g &= - 1.500 (\\log P - \\log P_0) + 0.773 \\\\\n",
    "        M_r &= - 1.929 (\\log P - \\log P_0) + 0.634 \\\\\n",
    "        M_i &= - 2.249 (\\log P - \\log P_0) + 0.619 \\\\\n",
    "    \\end{aligned}$$\n",
    "\n",
    "#### PLZ: $M_\\lambda = a (\\log P - \\log P_0) + b + c ([\\text{Fe}/\\text{H}] - [\\text{Fe}/\\text{H}]_0)$\n",
    "$ \\log P_0 = -0.25 $ and $ [\\text{Fe}/\\text{H}]_0 = -1.5 $ dex\n",
    "- RRab (RR0)\n",
    "    $$\\begin{aligned}\n",
    "        M_g &= - 0.527 (\\log P - \\log P_0) + 0.794 + 0.264 ([\\text{Fe}/\\text{H}] - [\\text{Fe}/\\text{H}]_0) \\\\\n",
    "        M_r &= - 1.230 (\\log P - \\log P_0) + 0.651 + 0.205 ([\\text{Fe}/\\text{H}] - [\\text{Fe}/\\text{H}]_0) \\\\\n",
    "        M_i &= - 1.682 (\\log P - \\log P_0) + 0.635 + 0.174 ([\\text{Fe}/\\text{H}] - [\\text{Fe}/\\text{H}]_0) \\\\\n",
    "    \\end{aligned}$$\n",
    "\n",
    "- RRab + RRc (combined sample)\n",
    "    $$\\begin{aligned}\n",
    "        M_g &= - 0.284 (\\log P - \\log P_0) + 0.791 + 0.289 ([\\text{Fe}/\\text{H}] - [\\text{Fe}/\\text{H}]_0) \\\\\n",
    "        M_r &= - 1.017 (\\log P - \\log P_0) + 0.650 + 0.228 ([\\text{Fe}/\\text{H}] - [\\text{Fe}/\\text{H}]_0) \\\\\n",
    "        M_i &= - 1.469 (\\log P - \\log P_0) + 0.633 + 0.198 ([\\text{Fe}/\\text{H}] - [\\text{Fe}/\\text{H}]_0) \\\\\n",
    "    \\end{aligned}$$\n",
    "\n",
    "## PW / PWZ\n",
    "### [Ngeow et al. 2022](https://ui.adsabs.harvard.edu/abs/2022AJ....163..239N/abstract)\n",
    "- RR0 (RRab)  \n",
    "    $$\\begin{aligned}\n",
    "        W^{gr} &= - 0.644 - 3.324 \\log P + 0.052 [\\text{Fe}/\\text{H}]\\\\\n",
    "        W^{ri} &=   0.093 - 2.600 \\log P + 0.193 [\\text{Fe}/\\text{H}]\\\\\n",
    "        W^{gi} &= - 0.198 - 2.908 \\log P + 0.142 [\\text{Fe}/\\text{H}]\n",
    "    \\end{aligned}$$\n",
    "\n",
    "- RR1 (RRc)  \n",
    "    $$\\begin{aligned}\n",
    "        W^{gr} &= - 1.327 - 3.680 \\log P + 0.013 [\\text{Fe}/\\text{H}]\\\\\n",
    "        W^{ri} &= - 0.884 - 3.503 \\log P + 0.067 [\\text{Fe}/\\text{H}]\\\\\n",
    "        W^{gi} &= - 1.086 - 3.696 \\log P + 0.055 [\\text{Fe}/\\text{H}]\n",
    "    \\end{aligned}$$\n",
    "\n",
    "- RR0 + RR1 (combined sample)  \n",
    "    $ \\log P_0 = \\log P_1 + 0.127$\n",
    "    $$\\begin{aligned}\n",
    "        W^{gr} &= - 0.727 - 3.286 \\log P + 0.010 [\\text{Fe}/\\text{H}]\\\\\n",
    "        W^{ri} &=   0.010 - 2.756 \\log P + 0.149 [\\text{Fe}/\\text{H}]\\\\\n",
    "        W^{gi} &= - 0.288 - 3.066 \\log P + 0.101 [\\text{Fe}/\\text{H}]\n",
    "    \\end{aligned}$$\n",
    "\n",
    "### [Narloch et al. 2024](https://ui.adsabs.harvard.edu/abs/2024A%26A...689A.138N/abstract)\n",
    "##### PW: $W = a (\\log P - \\log P_0) + b$\n",
    "How to determine the $\\log P_0$: [Zgirski et al. (2023)](https://ui.adsabs.harvard.edu/abs/2023ApJ...951..114Z/abstract)\n",
    "- RRab (RR0) Set $\\log P_0 = -0.25$\n",
    "    $$\\begin{aligned}\n",
    "        W^{gr} &= - 3.357 (\\log P - \\log P_0) + 0.239 \\\\\n",
    "        W^{ri} &= - 3.626 (\\log P - \\log P_0) + 0.587 \\\\\n",
    "        W^{gi} &= - 3.508 (\\log P - \\log P_0) + 0.434 \n",
    "    \\end{aligned}$$\n",
    "\n",
    "- RRc (RR1) Set $\\log P_0 = -0.45$\n",
    "    $$\\begin{aligned}\n",
    "        W^{gr} &= - 3.086 (\\log P - \\log P_0) + 0.415 \\\\\n",
    "        W^{ri} &= - 2.780 (\\log P - \\log P_0) + 0.723 \\\\\n",
    "        W^{gi} &= - 2.914 (\\log P - \\log P_0) + 0.588 \\\\\n",
    "    \\end{aligned}$$\n",
    "\n",
    "- RRab + RRc (combined sample) Set $\\log P_0 = -0.25$\n",
    "    $$\\begin{aligned}\n",
    "        W^{gr} &= - 3.175 (\\log P - \\log P_0) + 0.232 \\\\\n",
    "        W^{ri} &= - 3.226 (\\log P - \\log P_0) + 0.574 \\\\\n",
    "        W^{gi} &= - 3.157 (\\log P - \\log P_0) + 0.424 \\\\\n",
    "    \\end{aligned}$$\n",
    "\n",
    "#### PWZ: $W = a (\\log P - \\log P_0) + b + c ([\\text{Fe}/\\text{H}] - [\\text{Fe}/\\text{H}]_0)$\n",
    "$ \\log P_0 = -0.25 $ and $ [\\text{Fe}/\\text{H}]_0 = -1.5 $ dex\n",
    "- RRab (RR0)\n",
    "    $$\\begin{aligned}\n",
    "        W^{gr} &= - 3.273 (\\log P - \\log P_0) + 0.239 + 0.033 ([\\text{Fe}/\\text{H}] - [\\text{Fe}/\\text{H}]_0) \\\\\n",
    "        W^{ri} &= - 3.061 (\\log P - \\log P_0) + 0.584 + 0.082 ([\\text{Fe}/\\text{H}] - [\\text{Fe}/\\text{H}]_0) \\\\\n",
    "        W^{gi} &= - 3.154 (\\log P - \\log P_0) + 0.433 + 0.060 ([\\text{Fe}/\\text{H}] - [\\text{Fe}/\\text{H}]_0) \\\\\n",
    "    \\end{aligned}$$\n",
    "\n",
    "- RRab + RRc (combined sample)\n",
    "    $$\\begin{aligned}\n",
    "        W^{gr} &= - 3.148 (\\log P - \\log P_0) + 0.238 + 0.050 ([\\text{Fe}/\\text{H}] - [\\text{Fe}/\\text{H}]_0) \\\\\n",
    "        W^{ri} &= - 2.848 (\\log P - \\log P_0) + 0.583 + 0.105 ([\\text{Fe}/\\text{H}] - [\\text{Fe}/\\text{H}]_0) \\\\\n",
    "        W^{gi} &= - 2.979 (\\log P - \\log P_0) + 0.432 + 0.081 ([\\text{Fe}/\\text{H}] - [\\text{Fe}/\\text{H}]_0) \\\\\n",
    "    \\end{aligned}$$\n",
    "\n",
    "##  Metallicity\n",
    "1. Using the [Choudhury et al.](https://ui.adsabs.harvard.edu/abs/2016MNRAS.455.1855C/abstract)  \n",
    "overall metallicity range for the LMC bar is around\n",
    "$\\langle [\\text{Fe}/\\text{H}] \\rangle = -0.34$ dex  \n",
    "\n",
    "2. (Current)It is much proper to use the average value from [Clementini et al. 2005](https://ui.adsabs.harvard.edu/abs/2003AJ....125.1309C/abstract)\n",
    "$\\langle [\\text{Fe}/\\text{H}] \\rangle = -1.48 \\pm 0.03$ dex  \n",
    "Metallicity for a portion of RR Lyrs in the TABLE 2"
   ]
  },
  {
   "cell_type": "code",
   "execution_count": null,
   "id": "3c94a936",
   "metadata": {},
   "outputs": [],
   "source": [
    "Fe_H = -1.48"
   ]
  },
  {
   "cell_type": "markdown",
   "id": "d138ba6c",
   "metadata": {},
   "source": [
    "## Calculations and Plot"
   ]
  },
  {
   "cell_type": "code",
   "execution_count": null,
   "id": "d2493127",
   "metadata": {
    "jupyter": {
     "source_hidden": true
    }
   },
   "outputs": [],
   "source": [
    "def PLZ_relations(P_rr0, P_rr1, FeH, Type):\n",
    "    Ngeow   = {}\n",
    "    Narloch = {}\n",
    "    logP    = {}\n",
    "    P_space = {}\n",
    "    \n",
    "    if Type == '0':\n",
    "        P0 = -0.25\n",
    "\n",
    "        logP['g'] = np.log10(P_rr0['P_g'])\n",
    "        logP['r'] = np.log10(P_rr0['P_r'])\n",
    "        logP['i'] = np.log10(P_rr0['P_i'])\n",
    "        \n",
    "        P_space['g'] = np.linspace(min(logP['g']), max(logP['g']), 200)\n",
    "        P_space['r'] = np.linspace(min(logP['r']), max(logP['r']), 200)\n",
    "        P_space['i'] = np.linspace(min(logP['i']), max(logP['i']), 200)\n",
    "        \n",
    "        Ngeow['Mg'] = 0.649 - 0.302 * P_space['g'] + 0.159 * FeH\n",
    "        Ngeow['Mr'] = 0.337 - 1.090 * P_space['r'] + 0.139 * FeH\n",
    "        Ngeow['Mi'] = 0.243 - 1.432 * P_space['i'] + 0.144 * FeH\n",
    "        \n",
    "        if FeH == 0:\n",
    "            Narloch['Mg'] = -2.242 * (P_space['g'] - P0) + 0.805\n",
    "            Narloch['Mr'] = -2.528 * (P_space['r'] - P0) + 0.660\n",
    "            Narloch['Mi'] = -2.799 * (P_space['i'] - P0) + 0.642\n",
    "        else:\n",
    "            Narloch['Mg'] = - 0.527 * (P_space['g'] - P0) + 0.794 + 0.264 * (FeH - (-1.5))\n",
    "            Narloch['Mr'] = - 1.230 * (P_space['r'] - P0) + 0.651 + 0.205 * (FeH - (-1.5))\n",
    "            Narloch['Mi'] = - 1.682 * (P_space['i'] - P0) + 0.635 + 0.174 * (FeH - (-1.5))\n",
    "\n",
    "    if Type == '1':\n",
    "        P0 = -0.45\n",
    "        logP['g'] = np.log10(P_rr1['P_g'])\n",
    "        logP['r'] = np.log10(P_rr1['P_r'])\n",
    "        logP['i'] = np.log10(P_rr1['P_i'])\n",
    "    \n",
    "        P_space['g'] = np.linspace(min(logP['g']), max(logP['g']), 200)\n",
    "        P_space['r'] = np.linspace(min(logP['r']), max(logP['r']), 200)\n",
    "        P_space['i'] = np.linspace(min(logP['i']), max(logP['i']), 200)\n",
    "        \n",
    "        Ngeow['Mg'] =   0.411 - 0.342 * P_space['g'] + 0.092 * FeH\n",
    "        Ngeow['Mr'] = - 0.082 - 1.393 * P_space['r'] + 0.091 * FeH\n",
    "        Ngeow['Mi'] = - 0.205 - 1.706 * P_space['i'] + 0.077 * FeH\n",
    "        \n",
    "        if FeH == 0:\n",
    "            Narloch['Mg'] = - 1.984 * (P_space['g'] - P0) + 0.605\n",
    "            Narloch['Mr'] = - 2.266 * (P_space['r'] - P0) + 0.557\n",
    "            Narloch['Mi'] = - 2.393 * (P_space['i'] - P0) + 0.598\n",
    "            \n",
    "        else:\n",
    "            Narloch['Mg']  = []\n",
    "            Narloch['Mr']  = []\n",
    "            Narloch['Mi']  = []\n",
    "    \n",
    "    if Type == 'Combined':\n",
    "        P0 = -0.25\n",
    "        logP = {'rr0' : {},\n",
    "                'rr1' : {}}\n",
    "        logP['rr0']['g'] = np.log10(P_rr0['P_g'])\n",
    "        logP['rr0']['r'] = np.log10(P_rr0['P_r'])\n",
    "        logP['rr0']['i'] = np.log10(P_rr0['P_i'])\n",
    "        \n",
    "        logP['rr1']['g'] = np.log10(P_rr1['P_g']) + 0.127\n",
    "        logP['rr1']['r'] = np.log10(P_rr1['P_r']) + 0.127\n",
    "        logP['rr1']['i'] = np.log10(P_rr1['P_i']) + 0.127\n",
    "        \n",
    "        P_space['g'] = np.linspace(min(logP['rr1']['g']), max(logP['rr0']['g']), 200)\n",
    "        P_space['r'] = np.linspace(min(logP['rr1']['r']), max(logP['rr0']['r']), 200)\n",
    "        P_space['i'] = np.linspace(min(logP['rr1']['i']), max(logP['rr0']['i']), 200)                                                                                           \n",
    "        \n",
    "        Ngeow['Mg'] = 0.801 - 0.032 * P_space['g'] + 0.190 * FeH\n",
    "        Ngeow['Mr'] = 0.432 - 0.874 * P_space['r'] + 0.154 * FeH\n",
    "        Ngeow['Mi'] = 0.249 - 1.362 * P_space['i'] + 0.115 * FeH\n",
    "        \n",
    "        if FeH == 0:\n",
    "            Narloch['Mg'] = - 1.500 * (P_space['g'] - P0) + 0.773\n",
    "            Narloch['Mr'] = - 1.929 * (P_space['r'] - P0) + 0.634\n",
    "            Narloch['Mi'] = - 2.249 * (P_space['i'] - P0) + 0.619\n",
    "            \n",
    "        else:\n",
    "            Narloch['Mg']  = - 0.284 * (P_space['g'] - P0) + 0.791 + 0.289 * (FeH - (-1.5))\n",
    "            Narloch['Mr']  = - 1.017 * (P_space['r'] - P0) + 0.650 + 0.228 * (FeH - (-1.5))\n",
    "            Narloch['Mi']  = - 1.469 * (P_space['i'] - P0) + 0.633 + 0.198 * (FeH - (-1.5))\n",
    "        \n",
    "    return Ngeow, Narloch, logP, P_space "
   ]
  },
  {
   "cell_type": "code",
   "execution_count": null,
   "id": "0e263a5e",
   "metadata": {},
   "outputs": [],
   "source": [
    "def PWZ_relations(P_rr0, P_rr1, FeH, Type):\n",
    "    Ngeow   = {}\n",
    "    Narloch = {}\n",
    "    logP    = {}\n",
    "    P_space = {}\n",
    "    \n",
    "    if Type == '0':\n",
    "        P0 = -0.25\n",
    "\n",
    "        logP['Wgr'] = np.log10(P_rr0['P_Wgr'])\n",
    "        logP['Wri'] = np.log10(P_rr0['P_Wri'])\n",
    "        logP['Wgi'] = np.log10(P_rr0['P_Wgi'])\n",
    "        \n",
    "        P_space['Wgr'] = np.linspace(min(logP['Wgr']), max(logP['Wgr']), 200)\n",
    "        P_space['Wri'] = np.linspace(min(logP['Wri']), max(logP['Wri']), 200)\n",
    "        P_space['Wgi'] = np.linspace(min(logP['Wgi']), max(logP['Wgi']), 200)\n",
    "        \n",
    "        Ngeow['Wgr'] = - 0.644 - 3.324 * P_space['Wgr'] + 0.052 * FeH\n",
    "        Ngeow['Wri'] =   0.093 - 2.600 * P_space['Wri'] + 0.193 * FeH\n",
    "        Ngeow['Wgi'] = - 0.198 - 2.908 * P_space['Wgi'] + 0.142 * FeH\n",
    "        \n",
    "        if FeH == 0:\n",
    "            Narloch['Wgr'] = - 3.357 * (P_space['Wgr'] - P0) + 0.239\n",
    "            Narloch['Wri'] = - 3.626 * (P_space['Wri'] - P0) + 0.587\n",
    "            Narloch['Wgi'] = - 3.508 * (P_space['Wgi'] - P0) + 0.434\n",
    "        \n",
    "        else: \n",
    "            Narloch['Wgr']  = - 3.273 * (P_space['Wgr'] - P0) + 0.239 + 0.033 * (FeH - (-1.5))\n",
    "            Narloch['Wri']  = - 3.061 * (P_space['Wri'] - P0) + 0.584 + 0.082 * (FeH - (-1.5))\n",
    "            Narloch['Wgi']  = - 3.154 * (P_space['Wgi'] - P0) + 0.433 + 0.060 * (FeH - (-1.5))\n",
    "\n",
    "    if Type == '1':\n",
    "        P0 = -0.45\n",
    "        logP['Wgr'] = np.log10(P_rr1['P_Wgr'])\n",
    "        logP['Wri'] = np.log10(P_rr1['P_Wri'])\n",
    "        logP['Wgi'] = np.log10(P_rr1['P_Wgi'])\n",
    "    \n",
    "        P_space['Wgr'] = np.linspace(min(logP['Wgr']), max(logP['Wgr']), 200)\n",
    "        P_space['Wri'] = np.linspace(min(logP['Wri']), max(logP['Wri']), 200)\n",
    "        P_space['Wgi'] = np.linspace(min(logP['Wgi']), max(logP['Wgi']), 200)\n",
    "        \n",
    "        Ngeow['Wgr'] = - 1.327 - 3.680 * P_space['Wgr'] + 0.013 * FeH\n",
    "        Ngeow['Wri'] = - 0.884 - 3.503 * P_space['Wri'] + 0.067 * FeH\n",
    "        Ngeow['Wgi'] = - 1.086 - 3.696 * P_space['Wgi'] + 0.055 * FeH\n",
    "        \n",
    "        if FeH == 0:\n",
    "            Narloch['Wgr'] = - 3.086 * (P_space['Wgr'] - P0) + 0.415\n",
    "            Narloch['Wri'] = - 2.780 * (P_space['Wri'] - P0) + 0.723\n",
    "            Narloch['Wgi'] = - 2.914 * (P_space['Wgi'] - P0) + 0.588\n",
    "        \n",
    "        else: \n",
    "            Narloch['Wgr']  = []\n",
    "            Narloch['Wri']  = []\n",
    "            Narloch['Wgi']  = []\n",
    "    \n",
    "    if Type == 'Combined':\n",
    "        P0 = -0.25\n",
    "        logP = {'rr0' : {},\n",
    "                'rr1' : {}}\n",
    "        logP['rr0']['Wgr'] = np.log10(P_rr0['P_Wgr'])\n",
    "        logP['rr0']['Wri'] = np.log10(P_rr0['P_Wri'])\n",
    "        logP['rr0']['Wgi'] = np.log10(P_rr0['P_Wgi'])\n",
    "        \n",
    "        logP['rr1']['Wgr'] = np.log10(P_rr1['P_Wgr']) + 0.127\n",
    "        logP['rr1']['Wri'] = np.log10(P_rr1['P_Wri']) + 0.127\n",
    "        logP['rr1']['Wgi'] = np.log10(P_rr1['P_Wgi']) + 0.127\n",
    "        \n",
    "        P_space['Wgr'] = np.linspace(min(logP['rr1']['Wgr']), max(logP['rr0']['Wgr']), 200)\n",
    "        P_space['Wri'] = np.linspace(min(logP['rr1']['Wri']), max(logP['rr0']['Wri']), 200)\n",
    "        P_space['Wgi'] = np.linspace(min(logP['rr1']['Wgi']), max(logP['rr0']['Wgi']), 200)                                                                                           \n",
    "        \n",
    "        Ngeow['Wgr'] =  - 0.727 - 3.286 * P_space['Wgr'] + 0.010 * FeH\n",
    "        Ngeow['Wri'] =    0.010 - 2.756 * P_space['Wri'] + 0.149 * FeH\n",
    "        Ngeow['Wgi'] =  - 0.288 - 3.066 * P_space['Wgi'] + 0.101 * FeH\n",
    "        \n",
    "        if FeH == 0:\n",
    "            Narloch['Wgr'] = - 3.175 * (P_space['Wgr'] - P0) + 0.232\n",
    "            Narloch['Wri'] = - 3.226 * (P_space['Wri'] - P0) + 0.574\n",
    "            Narloch['Wgi'] = - 3.157 * (P_space['Wgi'] - P0) + 0.424\n",
    "        \n",
    "        else: \n",
    "            Narloch['Wgr']  = - 3.148 * (P_space['Wgr'] - P0) + 0.238 + 0.050 * (FeH - (-1.5))\n",
    "            Narloch['Wri']  = - 2.848 * (P_space['Wri'] - P0) + 0.583 + 0.105 * (FeH - (-1.5))\n",
    "            Narloch['Wgi']  = - 2.979 * (P_space['Wgi'] - P0) + 0.432 + 0.081 * (FeH - (-1.5))\n",
    "    \n",
    "    return Ngeow, Narloch, logP, P_space "
   ]
  },
  {
   "cell_type": "code",
   "execution_count": null,
   "id": "8508590c",
   "metadata": {},
   "outputs": [],
   "source": [
    "def plot_relation(period_space, PL_data, obs_period, RR0, RR1, Type, FeH, MorW):\n",
    "    fig, axs = plt.subplots(3, 1, figsize=(8, 12), sharex=True)\n",
    "    \n",
    "    def PLZax_setup(ax, period_space, PL_data, obs_period, RR0, RR1, band, Type):\n",
    "        if band == 'g':\n",
    "            color0 = 'blue'\n",
    "            color1 = 'darkorange'\n",
    "            ylabel = r'$M_g$ [mag]'\n",
    "        elif band == 'r':\n",
    "            color0 = 'green'\n",
    "            color1 = 'deeppink'\n",
    "            ylabel = r'$M_r$ [mag]'\n",
    "        elif band == 'i':\n",
    "            color0 = 'red'\n",
    "            color1 = 'darkturquoise'\n",
    "            ylabel = r'$M_i$ [mag]'\n",
    "        ax.plot(period_space[band], PL_data['Ng'][f'M{band}'], color='k', label='Ngeow et al. (2022)')\n",
    "        ax.plot(period_space[band], PL_data['Nar'][f'M{band}'], color='k', linestyle='dashed', label='Narloch et al. (2024)')\n",
    "        if Type == 'RR0':\n",
    "            ax.scatter(obs_period[band], RR0[f'{band}Mag'], color=color0)\n",
    "        elif Type == 'RR1':\n",
    "            ax.scatter(obs_period[band], RR1[f'{band}Mag'], color=color0)\n",
    "        elif Type == 'Combined':\n",
    "            ax.scatter(obs_period['rr0'][band], RR0[f'{band}Mag'], color=color0, label='RR0')\n",
    "            ax.scatter(obs_period['rr1'][band], RR1[f'{band}Mag'], color=color1, label='RR1')\n",
    "        ax.invert_yaxis()  # Reverse y-axis for magnitude\n",
    "        ax.set_ylabel(ylabel)\n",
    "        ax.legend(loc='upper left')\n",
    "    \n",
    "    def PWZax_setup(ax, period_space, PL_data, obs_period, RR0, RR1, band, Type):\n",
    "        if band == 'Wgr':\n",
    "            color0 = 'blue'\n",
    "            color1 = 'darkorange'\n",
    "            ylabel = r'$W^{gr}$'\n",
    "        elif band == 'Wri':\n",
    "            color0 = 'green'\n",
    "            color1 = 'deeppink'\n",
    "            ylabel = r'$W^{ri}$'\n",
    "        elif band == 'Wgi':\n",
    "            color0 = 'red'\n",
    "            color1 = 'darkturquoise'\n",
    "            ylabel = r'$W^{gi}$'\n",
    "        ax.plot(period_space[band], PL_data['Ng'][f'{band}'], color='k', label='Ngeow et al. (2022)')\n",
    "        ax.plot(period_space[band], PL_data['Nar'][f'{band}'], color='k', linestyle='dashed', label='Narloch et al. (2024)')\n",
    "        if Type == 'RR0':\n",
    "            ax.scatter(obs_period[band], RR0[f'{band}'], color=color0)\n",
    "        elif Type == 'RR1':\n",
    "            ax.scatter(obs_period[band], RR1[f'{band}'], color=color0)\n",
    "        elif Type == 'Combined':\n",
    "            ax.scatter(obs_period['rr0'][band], RR0[f'{band}'], color=color0, label='RR0')\n",
    "            ax.scatter(obs_period['rr1'][band], RR1[f'{band}'], color=color1, label='RR1')\n",
    "        ax.invert_yaxis()  # Reverse y-axis for magnitude\n",
    "        ax.set_ylabel(ylabel)\n",
    "        ax.legend(loc='upper left')\n",
    "\n",
    "    if MorW == 'Mag':\n",
    "        if FeH == True:\n",
    "            title = f'PLZ Relation for {Type} Sample ([Fe/H]=-1.48)'\n",
    "        else:\n",
    "            title = f'PL relation for {Type} Sample'\n",
    "        PLZax_setup(axs[0], P_space, PLdata, P, RR0, RR1, 'g', Type)\n",
    "        axs[0].set_title(title)\n",
    "        PLZax_setup(axs[1], P_space, PLdata, P, RR0, RR1, 'r', Type)\n",
    "        PLZax_setup(axs[2], P_space, PLdata, P, RR0, RR1, 'i', Type)\n",
    "    elif MorW == 'W':\n",
    "        if FeH == True:\n",
    "            title = f'PWZ Relation for {Type} Sample ([Fe/H]=-1.48)'\n",
    "        else:\n",
    "            title = f'PW relation for {Type} Sample'\n",
    "        PWZax_setup(axs[0], P_space, PLdata, P, RR0, RR1, 'Wgr', Type)\n",
    "        axs[0].set_title(title)\n",
    "        PWZax_setup(axs[1], P_space, PLdata, P, RR0, RR1, 'Wri', Type)\n",
    "        PWZax_setup(axs[2], P_space, PLdata, P, RR0, RR1, 'Wgi', Type)\n",
    "    \n",
    "    axs[2].set_xlabel(r'$\\log P$ [days]')"
   ]
  },
  {
   "cell_type": "markdown",
   "id": "3c05202e",
   "metadata": {},
   "source": [
    "### RR0 PL relation"
   ]
  },
  {
   "cell_type": "code",
   "execution_count": null,
   "id": "a531bceb",
   "metadata": {},
   "outputs": [],
   "source": [
    "Ng, Nar, P, P_space = PLZ_relations(rr0[2], rr1[2], 0, '0')\n",
    "\n",
    "PLdata = {'Ng':Ng, 'Nar':Nar}\n",
    "\n",
    "plot_relation(P_space, PLdata, P, RR0_Mag, RR1_Mag, 'RR0', False, 'Mag')\n",
    "plt.tight_layout()\n",
    "# plt.savefig('LMC-compare-RR0_PL-241209.pdf', dpi=300)\n",
    "plt.show()"
   ]
  },
  {
   "cell_type": "markdown",
   "id": "35c9a237",
   "metadata": {},
   "source": [
    "### RR0 PLZ relation"
   ]
  },
  {
   "cell_type": "code",
   "execution_count": null,
   "id": "ecd1b705",
   "metadata": {},
   "outputs": [],
   "source": [
    "Ng, Nar, P, P_space = PLZ_relations(rr0[2], rr1[2], Fe_H, '0')\n",
    "\n",
    "PLdata = {'Ng':Ng, 'Nar':Nar}\n",
    "\n",
    "plot_relation(P_space, PLdata, P, RR0_Mag, RR1_Mag, 'RR0', True, 'Mag')\n",
    "plt.tight_layout()\n",
    "# plt.savefig('LMC-compare-RR0_PLZ-241209.pdf', dpi=300)\n",
    "plt.show()"
   ]
  },
  {
   "cell_type": "markdown",
   "id": "7b30cb34",
   "metadata": {},
   "source": [
    "### RR1 PL relation"
   ]
  },
  {
   "cell_type": "code",
   "execution_count": null,
   "id": "549803d1",
   "metadata": {},
   "outputs": [],
   "source": [
    "Ng, Nar, P, P_space = PLZ_relations(rr0[2], rr1[2], 0, '1')\n",
    "\n",
    "PLdata = {'Ng':Ng, 'Nar':Nar}\n",
    "\n",
    "plot_relation(P_space, PLdata, P, RR0_Mag, RR1_Mag, 'RR1', False, 'Mag')\n",
    "plt.tight_layout()\n",
    "# plt.savefig('LMC-compare-RR1_PL-241209.pdf', dpi=300)\n",
    "plt.show()"
   ]
  },
  {
   "cell_type": "markdown",
   "id": "5a233f2d",
   "metadata": {},
   "source": [
    "### Combined Sample PL relation"
   ]
  },
  {
   "cell_type": "code",
   "execution_count": null,
   "id": "63c8561a",
   "metadata": {},
   "outputs": [],
   "source": [
    "Ng, Nar, P, P_space = PLZ_relations(rr0[2], rr1[2], 0, 'Combined')\n",
    "\n",
    "PLdata = {'Ng':Ng, 'Nar':Nar}\n",
    "\n",
    "plot_relation(P_space, PLdata, P, RR0_Mag, RR1_Mag, 'Combined', False, 'Mag')\n",
    "plt.tight_layout()\n",
    "# plt.savefig('LMC-compare-Combined_PL-241209.pdf', dpi=300)\n",
    "plt.show()"
   ]
  },
  {
   "cell_type": "markdown",
   "id": "ff57add9",
   "metadata": {},
   "source": [
    "### Combined Sample PLZ relation"
   ]
  },
  {
   "cell_type": "code",
   "execution_count": null,
   "id": "b65fdfa4",
   "metadata": {},
   "outputs": [],
   "source": [
    "Ng, Nar, P, P_space = PLZ_relations(rr0[2], rr1[2], Fe_H, 'Combined')\n",
    "\n",
    "PLdata = {'Ng':Ng, 'Nar':Nar}\n",
    "\n",
    "plot_relation(P_space, PLdata, P, RR0_Mag, RR1_Mag, 'Combined', True, 'Mag')\n",
    "plt.tight_layout()\n",
    "# plt.savefig('LMC-compare-Combined_PLZ-241209.pdf', dpi=300)\n",
    "plt.show()"
   ]
  },
  {
   "cell_type": "markdown",
   "id": "57fa33b2",
   "metadata": {},
   "source": [
    "### RR0 PW relation"
   ]
  },
  {
   "cell_type": "code",
   "execution_count": null,
   "id": "ce01ca0a",
   "metadata": {},
   "outputs": [],
   "source": [
    "Ng, Nar, P, P_space = PWZ_relations(rr0[2], rr1[2], 0, '0')\n",
    "\n",
    "PLdata = {'Ng':Ng, 'Nar':Nar}\n",
    "\n",
    "plot_relation(P_space, PLdata, P, RR0_W, RR1_W, 'RR0', False, 'W')\n",
    "plt.tight_layout()\n",
    "# plt.savefig('LMC-compare-RR0_PW-241209.pdf', dpi=300)\n",
    "plt.show()"
   ]
  },
  {
   "cell_type": "markdown",
   "id": "db5b2092",
   "metadata": {},
   "source": [
    "### RR0 PWZ relation"
   ]
  },
  {
   "cell_type": "code",
   "execution_count": null,
   "id": "ea710c2a",
   "metadata": {},
   "outputs": [],
   "source": [
    "Ng, Nar, P, P_space = PWZ_relations(rr0[2], rr1[2], Fe_H, '0')\n",
    "\n",
    "PLdata = {'Ng':Ng, 'Nar':Nar}\n",
    "\n",
    "plot_relation(P_space, PLdata, P, RR0_W, RR1_W, 'RR0', True, 'W')\n",
    "plt.tight_layout()\n",
    "# plt.savefig('LMC-compare-RR0_PWZ-241209.pdf', dpi=300)\n",
    "plt.show()"
   ]
  },
  {
   "cell_type": "markdown",
   "id": "dd61db58",
   "metadata": {},
   "source": [
    "### RR1 PW relation"
   ]
  },
  {
   "cell_type": "code",
   "execution_count": null,
   "id": "c15f7313",
   "metadata": {},
   "outputs": [],
   "source": [
    "Ng, Nar, P, P_space = PWZ_relations(rr0[2], rr1[2], 0, '1')\n",
    "\n",
    "PLdata = {'Ng':Ng, 'Nar':Nar}\n",
    "\n",
    "plot_relation(P_space, PLdata, P, RR0_W, RR1_W, 'RR1', False, 'W')\n",
    "plt.tight_layout()\n",
    "# plt.savefig('LMC-compare-RR1_PW-241209.pdf', dpi=300)\n",
    "plt.show()"
   ]
  },
  {
   "cell_type": "markdown",
   "id": "0b29e6e4",
   "metadata": {},
   "source": [
    "### Combined Sample PW relation"
   ]
  },
  {
   "cell_type": "code",
   "execution_count": null,
   "id": "6c6261bf",
   "metadata": {},
   "outputs": [],
   "source": [
    "Ng, Nar, P, P_space = PWZ_relations(rr0[2], rr1[2], 0, 'Combined')\n",
    "\n",
    "PLdata = {'Ng':Ng, 'Nar':Nar}\n",
    "\n",
    "plot_relation(P_space, PLdata, P, RR0_W, RR1_W, 'Combined', False, 'W')\n",
    "plt.tight_layout()\n",
    "# plt.savefig('LMC-compare-Combined_PW-241209.pdf', dpi=300)\n",
    "plt.show()"
   ]
  },
  {
   "cell_type": "markdown",
   "id": "100bfcc2",
   "metadata": {},
   "source": [
    "### Combined Sample PWZ relation"
   ]
  },
  {
   "cell_type": "code",
   "execution_count": null,
   "id": "6227897d",
   "metadata": {},
   "outputs": [],
   "source": [
    "Ng, Nar, P, P_space = PWZ_relations(rr0[2], rr1[2], Fe_H, 'Combined')\n",
    "\n",
    "PLdata = {'Ng':Ng, 'Nar':Nar}\n",
    "\n",
    "plot_relation(P_space, PLdata, P, RR0_W, RR1_W, 'Combined', True, 'W')\n",
    "plt.tight_layout()\n",
    "# plt.savefig('LMC-compare-Combined_PWZ-241209.pdf', dpi=300)\n",
    "plt.show()"
   ]
  },
  {
   "cell_type": "markdown",
   "id": "39c01c18",
   "metadata": {},
   "source": [
    "# Distance moduli deviation\n",
    "\n",
    "$ \\mu  = m - M$\n",
    "\n",
    "Utilizing PLZ and PWZ relations:\n",
    "$$\\begin{aligned}\n",
    "\\text{Negow: } M &= a + b \\log P + c [\\text{Fe}/\\text{H}] \\\\\n",
    "\\text{Narloch: } M &= a (\\log P + \\log P_0) + b + c ([\\text{Fe}/\\text{H}] + [\\text{Fe}/\\text{H}]_0)\n",
    "\\end{aligned}$$\n",
    "\n",
    "$ \\mu' = m_\\text{obs} - M_\\text{fit} $  \n",
    "$ \\Delta = \\mu' - \\mu_\\text{LMC}$  \n",
    "Using 4 relations:\n",
    "## RR0\n",
    "### PLZ:  \n",
    "#### Ngeow:  \n",
    "$ M_g = 0.649 − 0.302 \\log P + 0.159[\\text{Fe}/\\text{H}] $  \n",
    "$ M_r = 0.337 − 1.090 \\log P + 0.139[\\text{Fe}/\\text{H}] $  \n",
    "$ M_i = 0.243 − 1.432 \\log P + 0.144[\\text{Fe}/\\text{H}] $  \n",
    "#### Narloch:  \n",
    "$M_g = -2.242 (\\log P - \\log P_0) + 0.805$  \n",
    "$M_r = -2.528 (\\log P - \\log P_0) + 0.660$  \n",
    "$M_i = -2.799 (\\log P - \\log P_0) + 0.642$  \n",
    "### PWZ:  \n",
    "#### Ngeow:  \n",
    "$ W^{gr} = - 0.644 - 3.324 \\log P + 0.052 [\\text{Fe}/\\text{H}] $  \n",
    "$ W^{ri} =   0.093 - 2.600 \\log P + 0.193 [\\text{Fe}/\\text{H}] $  \n",
    "$ W^{gi} = - 0.198 - 2.908 \\log P + 0.142 [\\text{Fe}/\\text{H}] $  \n",
    "#### Narloch:  \n",
    "$  W^{gr} = - 3.273 (\\log P - \\log P_0) + 0.239 + 0.033 ([\\text{Fe}/\\text{H}] - [\\text{Fe}/\\text{H}]_0)$  \n",
    "$  W^{ri} = - 3.061 (\\log P - \\log P_0) + 0.584 + 0.082 ([\\text{Fe}/\\text{H}] - [\\text{Fe}/\\text{H}]_0)$  \n",
    "$  W^{gi} = - 3.154 (\\log P - \\log P_0) + 0.433 + 0.060 ([\\text{Fe}/\\text{H}] - [\\text{Fe}/\\text{H}]_0)$  \n",
    "## Combined\n",
    "### PLZ:  \n",
    "#### Ngeow:  \n",
    "$ M_g = 0.801 − 0.032 \\log P + 0.190[\\text{Fe}/\\text{H}] $  \n",
    "$ M_r = 0.432 − 0.874 \\log P + 0.154[\\text{Fe}/\\text{H}] $  \n",
    "$ M_i = 0.249 − 1.362 \\log P + 0.115[\\text{Fe}/\\text{H}] $  \n",
    "#### Narloch:  \n",
    "$ M_g = - 0.527 (\\log P - \\log P_0) + 0.794 + 0.264 ([\\text{Fe}/\\text{H}] - [\\text{Fe}/\\text{H}]_0)$  \n",
    "$ M_r = - 1.230 (\\log P - \\log P_0) + 0.651 + 0.205 ([\\text{Fe}/\\text{H}] - [\\text{Fe}/\\text{H}]_0)$  \n",
    "$ M_i = - 1.682 (\\log P - \\log P_0) + 0.635 + 0.174 ([\\text{Fe}/\\text{H}] - [\\text{Fe}/\\text{H}]_0)$  \n",
    "### PWZ:  \n",
    "#### Ngeow:  \n",
    "$ W^{gr} = - 0.727 - 3.286 \\log P + 0.010 [\\text{Fe}/\\text{H}] $  \n",
    "$ W^{ri} =   0.010 - 2.756 \\log P + 0.149 [\\text{Fe}/\\text{H}] $  \n",
    "$ W^{gi} = - 0.288 - 3.066 \\log P + 0.101 [\\text{Fe}/\\text{H}] $  \n",
    "#### Narloch:  \n",
    "$ W^{gr} = - 3.148 (\\log P - \\log P_0) + 0.238 + 0.050 ([\\text{Fe}/\\text{H}] - [\\text{Fe}/\\text{H}]_0) $  \n",
    "$ W^{ri} = - 2.848 (\\log P - \\log P_0) + 0.583 + 0.105 ([\\text{Fe}/\\text{H}] - [\\text{Fe}/\\text{H}]_0) $  \n",
    "$ W^{gi} = - 2.979 (\\log P - \\log P_0) + 0.432 + 0.081 ([\\text{Fe}/\\text{H}] - [\\text{Fe}/\\text{H}]_0) $  "
   ]
  },
  {
   "cell_type": "code",
   "execution_count": null,
   "id": "71aa67ac",
   "metadata": {},
   "outputs": [],
   "source": [
    "feh_map = pd.read_csv(\n",
    "                      \"metallicity.txt\", \n",
    "                      delim_whitespace=True, \n",
    "                      comment='#',  # Ignore comment lines\n",
    "                      names=['ID', 'Field', 'B-V', 'P', '[Fe/H]', 'E(B-V)']\n",
    "                     )\n",
    "feh_map = feh_map.to_dict('list')"
   ]
  },
  {
   "cell_type": "markdown",
   "id": "20718d8f",
   "metadata": {},
   "source": [
    "Match metallicity to the article"
   ]
  },
  {
   "cell_type": "code",
   "execution_count": null,
   "id": "70e3c459",
   "metadata": {},
   "outputs": [],
   "source": [
    "def match_feh(IDlist , fehMap):\n",
    "    IDarray    = np.array(IDlist)\n",
    "    fehIDarray = np.array(fehMap['ID'])\n",
    "    ids = np.isin(IDarray, fehIDarray)\n",
    "    feh = []\n",
    "    for i in range(len(ids)):\n",
    "        DCM = IDlist[i]\n",
    "        if ids[i] == True:\n",
    "            fehid = fehMap['ID'].index(DCM)\n",
    "            feh.append(fehMap['[Fe/H]'][fehid])\n",
    "        else:\n",
    "            feh.append(Fe_H)\n",
    "    feh = np.array(feh)\n",
    "    return feh"
   ]
  },
  {
   "cell_type": "markdown",
   "id": "28093b00",
   "metadata": {},
   "source": [
    "Calculating the relation derived Magnitudes and Wesenheit indices"
   ]
  },
  {
   "cell_type": "code",
   "execution_count": null,
   "id": "f874d7a7",
   "metadata": {},
   "outputs": [],
   "source": [
    "def fitting_MorW(P_rr0, P_rr1, Type, MorW, fehMap):\n",
    "    Ngeow   = {}\n",
    "    Narloch = {}\n",
    "    logP    = {}\n",
    "    g_id    = []\n",
    "    r_id    = []\n",
    "    i_id    = []\n",
    "    wgr_id  = []\n",
    "    wri_id  = []\n",
    "    wgi_id  = []\n",
    "    FeH_g   = []\n",
    "    FeH_r   = []\n",
    "    FeH_i   = []\n",
    "    FeH_wgr = []\n",
    "    FeH_wri = []\n",
    "    FeH_wgi = []\n",
    "    P0 = - 0.25\n",
    "    if Type == '0':\n",
    "        if MorW == 'Mag':\n",
    "            g_id = P_rr0['ID_g']\n",
    "            r_id = P_rr0['ID_r']\n",
    "            i_id = P_rr0['ID_i']\n",
    "            \n",
    "            FeH_g = match_feh(g_id, fehMap)\n",
    "            FeH_r = match_feh(r_id, fehMap)\n",
    "            FeH_i = match_feh(i_id, fehMap)\n",
    "            \n",
    "            logP['g'] = np.log10(P_rr0['P_g'])\n",
    "            logP['r'] = np.log10(P_rr0['P_r'])\n",
    "            logP['i'] = np.log10(P_rr0['P_i'])\n",
    "            \n",
    "            Ngeow['Mg'] = 0.649 - 0.302 * logP['g'] + 0.159 * FeH_g\n",
    "            Ngeow['Mr'] = 0.337 - 1.090 * logP['r'] + 0.139 * FeH_r\n",
    "            Ngeow['Mi'] = 0.243 - 1.432 * logP['i'] + 0.144 * FeH_i\n",
    "            \n",
    "            Narloch['Mg'] = - 0.527 * (logP['g'] - P0) + 0.794 + 0.264 * (FeH_g - (-1.5))\n",
    "            Narloch['Mr'] = - 1.230 * (logP['r'] - P0) + 0.651 + 0.205 * (FeH_r - (-1.5))\n",
    "            Narloch['Mi'] = - 1.682 * (logP['i'] - P0) + 0.635 + 0.174 * (FeH_i - (-1.5))\n",
    "        \n",
    "        elif MorW == 'W':\n",
    "            wgr_id  = P_rr0['ID_wgr']\n",
    "            wri_id  = P_rr0['ID_wri']\n",
    "            wgi_id  = P_rr0['ID_wgi']\n",
    "            \n",
    "            FeH_wgr = match_feh(wgr_id, fehMap)\n",
    "            FeH_wri = match_feh(wri_id, fehMap)\n",
    "            FeH_wgi = match_feh(wgi_id, fehMap)\n",
    "            \n",
    "            logP['Wgr'] = np.log10(P_rr0['P_Wgr'])\n",
    "            logP['Wri'] = np.log10(P_rr0['P_Wri'])\n",
    "            logP['Wgi'] = np.log10(P_rr0['P_Wgi'])\n",
    "            \n",
    "            Ngeow['Wgr'] = - 0.644 - 3.324 * logP['Wgr'] + 0.052 * FeH_wgr\n",
    "            Ngeow['Wri'] =   0.093 - 2.600 * logP['Wri'] + 0.193 * FeH_wri\n",
    "            Ngeow['Wgi'] = - 0.198 - 2.908 * logP['Wgi'] + 0.142 * FeH_wgi\n",
    "            \n",
    "            Narloch['Wgr']  = - 3.273 * (logP['Wgr'] - P0) + 0.239 + 0.033 * (FeH_wgr - (-1.5))\n",
    "            Narloch['Wri']  = - 3.061 * (logP['Wri'] - P0) + 0.584 + 0.082 * (FeH_wri - (-1.5))\n",
    "            Narloch['Wgi']  = - 3.154 * (logP['Wgi'] - P0) + 0.433 + 0.060 * (FeH_wgi - (-1.5))\n",
    "        \n",
    "    elif Type == 'Combined':\n",
    "        if MorW == 'Mag':\n",
    "            logP0g = []\n",
    "            logP0r = []\n",
    "            logP0i = []\n",
    "            logP1g = []\n",
    "            logP1r = []\n",
    "            logP1i = []\n",
    "            \n",
    "            g_id = P_rr0['ID_g'] + P_rr1['ID_g']\n",
    "            r_id = P_rr0['ID_r'] + P_rr1['ID_r']\n",
    "            i_id = P_rr0['ID_i'] + P_rr1['ID_i']\n",
    "            \n",
    "            FeH_g = match_feh(g_id, fehMap)\n",
    "            FeH_r = match_feh(r_id, fehMap)\n",
    "            FeH_i = match_feh(i_id, fehMap)\n",
    "            \n",
    "            logP0g = np.log10(P_rr0['P_g'])\n",
    "            logP0r = np.log10(P_rr0['P_r'])\n",
    "            logP0i = np.log10(P_rr0['P_i'])\n",
    "            logP1g = np.log10(P_rr1['P_g']) + 0.127\n",
    "            logP1r = np.log10(P_rr1['P_r']) + 0.127\n",
    "            logP1i = np.log10(P_rr1['P_i']) + 0.127\n",
    "            \n",
    "            logP['g'] = np.concatenate((logP0g, logP1g))\n",
    "            logP['r'] = np.concatenate((logP0r, logP1r))\n",
    "            logP['i'] = np.concatenate((logP0i, logP1i))\n",
    "            \n",
    "            Ngeow['Mg'] = 0.801 - 0.032 * logP['g'] + 0.190 * FeH_g\n",
    "            Ngeow['Mr'] = 0.432 - 0.874 * logP['r'] + 0.154 * FeH_r\n",
    "            Ngeow['Mi'] = 0.249 - 1.362 * logP['i'] + 0.115 * FeH_i\n",
    "            \n",
    "            Narloch['Mg']  = - 0.284 * (logP['g'] - P0) + 0.791 + 0.289 * (FeH_g - (-1.5))\n",
    "            Narloch['Mr']  = - 1.017 * (logP['r'] - P0) + 0.650 + 0.228 * (FeH_r - (-1.5))\n",
    "            Narloch['Mi']  = - 1.469 * (logP['i'] - P0) + 0.633 + 0.198 * (FeH_i - (-1.5))\n",
    "            \n",
    "        elif MorW == 'W':\n",
    "            logP0wgr = []\n",
    "            logP0wri = []\n",
    "            logP0wgi = []\n",
    "            logP1wgr = []\n",
    "            logP1wri = []\n",
    "            logP1wgi = []\n",
    "            \n",
    "            wgr_id = P_rr0['ID_wgr'] + P_rr1['ID_wgr']\n",
    "            wri_id = P_rr0['ID_wri'] + P_rr1['ID_wri']\n",
    "            wgi_id = P_rr0['ID_wgi'] + P_rr1['ID_wgi']\n",
    "            \n",
    "            FeH_wgr = match_feh(wgr_id, fehMap)\n",
    "            FeH_wri = match_feh(wri_id, fehMap)\n",
    "            FeH_wgi = match_feh(wgi_id, fehMap)\n",
    "            \n",
    "            logP0wgr = np.log10(P_rr0['P_Wgr'])\n",
    "            logP0wri = np.log10(P_rr0['P_Wri'])\n",
    "            logP0wgi = np.log10(P_rr0['P_Wgi'])\n",
    "            logP1wgr = np.log10(P_rr1['P_Wgr']) + 0.127\n",
    "            logP1wri = np.log10(P_rr1['P_Wri']) + 0.127\n",
    "            logP1wgi = np.log10(P_rr1['P_Wgi']) + 0.127\n",
    "            \n",
    "            FeH_wgr = match_feh(wgr_id, fehMap)\n",
    "            FeH_wri = match_feh(wri_id, fehMap)\n",
    "            FeH_wgi = match_feh(wgi_id, fehMap)\n",
    "            \n",
    "            logP['Wgr'] = np.concatenate((logP0wgr, logP1wgr))\n",
    "            logP['Wri'] = np.concatenate((logP0wri, logP1wri))\n",
    "            logP['Wgi'] = np.concatenate((logP0wgi, logP1wgi))\n",
    "            \n",
    "            Ngeow['Wgr'] =  - 0.727 - 3.286 * logP['Wgr'] + 0.010 * FeH_wgr\n",
    "            Ngeow['Wri'] =    0.010 - 2.756 * logP['Wri'] + 0.149 * FeH_wri\n",
    "            Ngeow['Wgi'] =  - 0.288 - 3.066 * logP['Wgi'] + 0.101 * FeH_wgi\n",
    "            \n",
    "            Narloch['Wgr']  = - 3.148 * (logP['Wgr'] - P0) + 0.238 + 0.050 * (FeH_wgr - (-1.5))\n",
    "            Narloch['Wri']  = - 2.848 * (logP['Wri'] - P0) + 0.583 + 0.105 * (FeH_wri - (-1.5))\n",
    "            Narloch['Wgi']  = - 2.979 * (logP['Wgi'] - P0) + 0.432 + 0.081 * (FeH_wgi - (-1.5))\n",
    "        \n",
    "    return Ngeow, Narloch"
   ]
  },
  {
   "cell_type": "markdown",
   "id": "2528adcf",
   "metadata": {},
   "source": [
    "$\\mu' = m_\\text{obs} - M_\\text{fit}$  \n",
    "$\\Delta = \\mu' - \\mu_\\text{LMC}$"
   ]
  },
  {
   "cell_type": "code",
   "execution_count": null,
   "id": "f9d428a2",
   "metadata": {},
   "outputs": [],
   "source": [
    "def Delta_mu(m, Mdata, Type, MorW, mu):\n",
    "    Delta = {'Ng'  : {},\n",
    "             'Nar' : {}}\n",
    "    \n",
    "    \n",
    "    if MorW == 'Mag':\n",
    "        if Type == '0':\n",
    "            mg = m['rr0']['gmag']\n",
    "            mr = m['rr0']['rmag']\n",
    "            mi = m['rr0']['imag']\n",
    "        elif Type == 'Combined':\n",
    "            mg = m['rr0']['gmag'] + m['rr1']['gmag']\n",
    "            mr = m['rr0']['rmag'] + m['rr1']['rmag']\n",
    "            mi = m['rr0']['imag'] + m['rr1']['imag']\n",
    "        \n",
    "        Mg_ng  = Mdata['Ng']['Mg']\n",
    "        Mr_ng  = Mdata['Ng']['Mr']\n",
    "        Mi_ng  = Mdata['Ng']['Mi']\n",
    "        Mg_nar = Mdata['Nar']['Mg']\n",
    "        Mr_nar = Mdata['Nar']['Mr']\n",
    "        Mi_nar = Mdata['Nar']['Mi']\n",
    "        \n",
    "        Delta['Ng']['g']  = (mg - Mg_ng)  - mu\n",
    "        Delta['Ng']['r']  = (mr - Mr_ng)  - mu\n",
    "        Delta['Ng']['i']  = (mi - Mi_ng)  - mu\n",
    "        Delta['Nar']['g'] = (mg - Mg_nar) - mu\n",
    "        Delta['Nar']['r'] = (mr - Mr_nar) - mu\n",
    "        Delta['Nar']['i'] = (mi - Mi_nar) - mu\n",
    "    \n",
    "    if MorW == 'W':\n",
    "        if Type == '0':\n",
    "            wgr = m['rr0']['wgr']\n",
    "            wri = m['rr0']['wri']\n",
    "            wgi = m['rr0']['wgi']\n",
    "        elif Type == 'Combined':\n",
    "            wgr = m['rr0']['wgr'] + m['rr1']['wgr']\n",
    "            wri = m['rr0']['wri'] + m['rr1']['wri']\n",
    "            wgi = m['rr0']['wgi'] + m['rr1']['wgi']\n",
    "        \n",
    "        Wgr_ng  = Mdata['Ng']['Wgr']\n",
    "        Wri_ng  = Mdata['Ng']['Wri']\n",
    "        Wgi_ng  = Mdata['Ng']['Wgi']\n",
    "        Wgr_nar = Mdata['Nar']['Wgr']\n",
    "        Wri_nar = Mdata['Nar']['Wri']\n",
    "        Wgi_nar = Mdata['Nar']['Wgi']\n",
    "        \n",
    "        Delta['Ng']['Wgr']  = (wgr - Wgr_ng)  - mu\n",
    "        Delta['Ng']['Wri']  = (wri - Wri_ng)  - mu\n",
    "        Delta['Ng']['Wgi']  = (wgi - Wgi_ng)  - mu\n",
    "        Delta['Nar']['Wgr'] = (wgr - Wgr_nar) - mu\n",
    "        Delta['Nar']['Wri'] = (wri - Wri_nar) - mu\n",
    "        Delta['Nar']['Wgi'] = (wgi - Wgi_nar) - mu\n",
    "    \n",
    "    return Delta"
   ]
  },
  {
   "cell_type": "markdown",
   "id": "0d7536db",
   "metadata": {},
   "source": [
    "## $\\Delta$ Distrubution from RR0 PLZ"
   ]
  },
  {
   "cell_type": "code",
   "execution_count": null,
   "id": "bb69fa83",
   "metadata": {},
   "outputs": [],
   "source": [
    "M0_Ng, M0_Nar = fitting_MorW(rr0[2], rr1[2], '0', 'Mag', feh_map)\n",
    "\n",
    "M_data = {'Ng':M0_Ng, 'Nar':M0_Nar}\n",
    "m = {'rr0' : rr0[0], 'rr1' : rr1[0]}\n",
    "\n",
    "M0_Delta = Delta_mu(m, M_data,'0', 'Mag', muLMC)"
   ]
  },
  {
   "cell_type": "markdown",
   "id": "b9fcb7ed",
   "metadata": {},
   "source": [
    "## $\\Delta$ Distrubution from Combined PLZ"
   ]
  },
  {
   "cell_type": "code",
   "execution_count": null,
   "id": "411d853c",
   "metadata": {},
   "outputs": [],
   "source": [
    "Mc_Ng, Mc_Nar = fitting_MorW(rr0[2], rr1[2], 'Combined', 'Mag', feh_map)\n",
    "\n",
    "M_data = {'Ng':Mc_Ng, 'Nar':Mc_Nar}\n",
    "m = {'rr0' : rr0[0], 'rr1' : rr1[0]}\n",
    "\n",
    "Mc_Delta = Delta_mu(m, M_data, 'Combined', 'Mag', muLMC)"
   ]
  },
  {
   "cell_type": "markdown",
   "id": "4b70207e",
   "metadata": {},
   "source": [
    "## $\\Delta$ Distrubution from RR0 PWZ"
   ]
  },
  {
   "cell_type": "code",
   "execution_count": null,
   "id": "e11f6059",
   "metadata": {
    "scrolled": true
   },
   "outputs": [],
   "source": [
    "W0_Ng, W0_Nar = fitting_MorW(rr0[2], rr1[2], '0', 'W', feh_map)\n",
    "\n",
    "W_data = {'Ng':W0_Ng, 'Nar':W0_Nar}\n",
    "w = {'rr0' : rr0[1], 'rr1' : rr1[1]}\n",
    "\n",
    "W0_Delta = Delta_mu(w, W_data, '0', 'W', muLMC)"
   ]
  },
  {
   "cell_type": "markdown",
   "id": "47b1f775",
   "metadata": {},
   "source": [
    "## $\\Delta$ Distrubution from Combined PWZ"
   ]
  },
  {
   "cell_type": "code",
   "execution_count": null,
   "id": "6c47d7a8",
   "metadata": {},
   "outputs": [],
   "source": [
    "Wc_Ng, Wc_Nar = fitting_MorW(rr0[2], rr1[2], 'Combined', 'W', feh_map)\n",
    "\n",
    "W_data = {'Ng':Wc_Ng, 'Nar':Wc_Nar}\n",
    "w = {'rr0' : rr0[1], 'rr1' : rr1[1]}\n",
    "\n",
    "Wc_Delta = Delta_mu(w, W_data, 'Combined', 'W', muLMC)"
   ]
  },
  {
   "cell_type": "markdown",
   "id": "dfde0132",
   "metadata": {},
   "source": [
    "## Plot the distribution"
   ]
  },
  {
   "cell_type": "code",
   "execution_count": null,
   "id": "f57f73ee",
   "metadata": {},
   "outputs": [],
   "source": [
    "def plot_distribute(Delta, MorW, Type):\n",
    "    fig, axs = plt.subplots(3, 1, figsize=(8, 12), sharex=True)\n",
    "    \n",
    "    if MorW == 'Mag':\n",
    "        bands = ['g', 'r', 'i']\n",
    "    elif MorW == 'W':\n",
    "        bands = ['Wgr', 'Wri', 'Wgi']\n",
    "    \n",
    "    def ax_setup(ax, band):\n",
    "        if band == 'g':\n",
    "            max_edge = max(max(Delta['Ng']['g']), max(Delta['Nar']['g']))\n",
    "            min_edge = min(min(Delta['Ng']['g']), min(Delta['Nar']['g']))\n",
    "            \n",
    "            print('g mean\\t Ngeow \\t Narloch')\n",
    "            print('\\t', '{:.3}'.format(np.mean(Delta['Ng']['g'])), '{:.3}'.format(np.mean(Delta['Nar']['g'])))\n",
    "            \n",
    "            # bins = np.linspace(min_edge, max_edge, int((max_edge/0.01)+1))\n",
    "            colorNg  = 'blue'\n",
    "            colorNar = 'darkorange'\n",
    "            ax.set_title(f'Distance Moduli Comparison from {Type} PLZ')\n",
    "        elif band == 'r':\n",
    "            max_edge = max(max(Delta['Ng']['r']), max(Delta['Nar']['r']))\n",
    "            min_edge = min(min(Delta['Ng']['r']), min(Delta['Nar']['r']))\n",
    "            print('r mean\\t Ngeow \\t Narloch')\n",
    "            print('\\t', '{:.3}'.format(np.mean(Delta['Ng']['r'])), '{:.3}'.format(np.mean(Delta['Nar']['r'])))\n",
    "            # bins = np.linspace(min_edge, max_edge, int((max_edge/0.01)+1))\n",
    "            colorNg  = 'green'\n",
    "            colorNar = 'deeppink'\n",
    "        elif band == 'i':\n",
    "            max_edge = max(max(Delta['Ng']['i']), max(Delta['Nar']['i']))\n",
    "            min_edge = min(min(Delta['Ng']['i']), min(Delta['Nar']['i']))\n",
    "            print('i mean\\t Ngeow \\t Narloch')\n",
    "            print('\\t', '{:.3}'.format(np.mean(Delta['Ng']['i'])), '{:.3}'.format(np.mean(Delta['Nar']['i'])))\n",
    "           # bins = np.linspace(min_edge, max_edge, int((max_edge/0.01)+1))\n",
    "            colorNg  = 'red'\n",
    "            colorNar = 'darkturquoise'\n",
    "            ax.set_xlabel(r'$\\mu\\prime - \\mu $ [mag]')\n",
    "        elif band == 'Wgr':\n",
    "            max_edge = max(max(Delta['Ng']['Wgr']), max(Delta['Nar']['Wgr']))\n",
    "            min_edge = min(min(Delta['Ng']['Wgr']), min(Delta['Nar']['Wgr']))\n",
    "            # bins = np.linspace(min_edge, max_edge, int((max_edge/0.04)+1))\n",
    "            print('<Wgr> \\t Ngeow \\t Narloch')\n",
    "            print('\\t', '{:.3}'.format(np.mean(Delta['Ng']['Wgr'])), '\\t{:.3}'.format(np.mean(Delta['Nar']['Wgr'])))\n",
    "            ax.set_title(f'Distance Moduli Comparison from {Type} PWZ')\n",
    "            colorNg  = 'darkblue'\n",
    "            colorNar = 'goldenrod'\n",
    "        elif band == 'Wri':\n",
    "            max_edge = max(max(Delta['Ng']['Wri']), max(Delta['Nar']['Wri']))\n",
    "            min_edge = min(min(Delta['Ng']['Wri']), min(Delta['Nar']['Wri']))\n",
    "            #bins = np.linspace(min_edge, max_edge, int((max_edge/0.04)+1))\n",
    "            print('<Wri> \\t Ngeow \\t Narloch')\n",
    "            print('\\t', '{:.3}'.format(np.mean(Delta['Ng']['Wri'])), '\\t{:.3}'.format(np.mean(Delta['Nar']['Wri'])))\n",
    "            colorNg  = 'mediumaquamarine'\n",
    "            colorNar = 'magenta'\n",
    "        elif band == 'Wgi':\n",
    "            max_edge = max(max(Delta['Ng']['Wgi']), max(Delta['Nar']['Wgi']))\n",
    "            min_edge = min(min(Delta['Ng']['Wgi']), min(Delta['Nar']['Wgi']))\n",
    "            #bins = np.linspace(min_edge, max_edge, int((max_edge/0.04)+1))\n",
    "            print('<Wgi> \\t Ngeow \\t Narloch')\n",
    "            print('\\t', '{:.3}'.format(np.mean(Delta['Ng']['Wgi'])), '\\t{:.3}'.format(np.mean(Delta['Nar']['Wgi'])))\n",
    "            colorNg  = 'indianred'\n",
    "            colorNar = 'deepskyblue'\n",
    "            ax.set_xlabel(r'$\\mu\\prime - \\mu $ [mag]')\n",
    "        ax.hist(Delta['Ng'][f'{band}'], bins=18, label='Ngeow et al. (2022)', color=colorNg, edgecolor='silver', alpha=0.5)\n",
    "        ax.hist(Delta['Nar'][f'{band}'], bins=18, label='Narloch et al. (2024)', color=colorNar, edgecolor='silver', alpha=0.5)\n",
    "        ax.axvline(0, color='dimgrey', linestyle='solid', linewidth=1)\n",
    "        ax.axvline(np.mean(Delta['Ng'][f'{band}']), color='black', linestyle='-.', linewidth=1)\n",
    "        ax.axvline(np.mean(Delta['Nar'][f'{band}']), color='black', linestyle='--', linewidth=1)\n",
    "        ax.legend(loc='upper right')\n",
    "        ax.set_ylabel('Number')\n",
    "        \n",
    "    for ax, band in zip(axs, bands):\n",
    "        ax_setup(ax, band)"
   ]
  },
  {
   "cell_type": "markdown",
   "id": "3a6fa3d0",
   "metadata": {},
   "source": [
    "## Plot distribution of RR0 PLZ"
   ]
  },
  {
   "cell_type": "code",
   "execution_count": null,
   "id": "dab198cb",
   "metadata": {},
   "outputs": [],
   "source": [
    "plot_distribute(M0_Delta, 'Mag', 'RR0')\n",
    "\n",
    "plt.tight_layout()\n",
    "# plt.savefig('mu_compare-RR0_PLZ-241211.pdf', dpi=300)  # Uncomment to save\n",
    "plt.show()"
   ]
  },
  {
   "cell_type": "markdown",
   "id": "42e3f473",
   "metadata": {},
   "source": [
    "## Plot distribution of Combined PLZ"
   ]
  },
  {
   "cell_type": "code",
   "execution_count": null,
   "id": "253d0cfd",
   "metadata": {},
   "outputs": [],
   "source": [
    "plot_distribute(Mc_Delta, 'Mag', 'Combined')\n",
    "\n",
    "plt.tight_layout()\n",
    "# plt.savefig('mu_compare-Combined_PLZ-241211.pdf', dpi=300)  # Uncomment to save\n",
    "plt.show()"
   ]
  },
  {
   "cell_type": "markdown",
   "id": "8076d1d8",
   "metadata": {},
   "source": [
    "## Plot distribution of RR0 PWZ"
   ]
  },
  {
   "cell_type": "code",
   "execution_count": null,
   "id": "e99178b7",
   "metadata": {},
   "outputs": [],
   "source": [
    "plot_distribute(W0_Delta, 'W', 'RR0')\n",
    "\n",
    "plt.tight_layout()\n",
    "# plt.savefig('mu_compare-RR0_PWZ-241211.pdf', dpi=300)  # Uncomment to save\n",
    "plt.show()"
   ]
  },
  {
   "cell_type": "markdown",
   "id": "e315fb1c",
   "metadata": {},
   "source": [
    "## Plot distribution of Combined PWZ"
   ]
  },
  {
   "cell_type": "code",
   "execution_count": null,
   "id": "c183f7f0",
   "metadata": {},
   "outputs": [],
   "source": [
    "plot_distribute(Wc_Delta, 'W', 'Combined')\n",
    "\n",
    "plt.tight_layout()\n",
    "# plt.savefig('mu_compare-Combined_PWZ-241211.pdf', dpi=300)  # Uncomment to save\n",
    "plt.show()"
   ]
  },
  {
   "cell_type": "code",
   "execution_count": null,
   "id": "576da4a6",
   "metadata": {},
   "outputs": [],
   "source": [
    "Rg = 3.518\n",
    "Rr = 2.617\n",
    "Ri = 1.971\n",
    "\n",
    "mu_true = 18.477\n",
    "\n",
    "indat = ascii.read(\"DiF_in.csv\", format='csv')\n",
    "\n",
    "mi = indat['Imag'] < 99.999\n",
    "mab = indat['rtype'] == 'ab'\n",
    "mc = indat['rtype'] == 'c'\n",
    "\n",
    "logP = np.log10(indat['period'])\n",
    "FeH = indat['FeH']\n",
    "\n",
    "BV = indat['Bmag'] - indat['Vmag']\n",
    "\n",
    "gmag = indat['Bmag'] - 0.108 - 0.485*BV - 0.032*BV*BV\n",
    "rmag = indat['Vmag'] + 0.082 - 0.462*BV + 0.041*BV*BV\n",
    "imag = indat['Imag'] + 0.341 + 0.154*BV - 0.025*BV*BV\n",
    "\n",
    "g0 = gmag - Rg*indat['EBV']\n",
    "r0 = rmag - Rr*indat['EBV']\n",
    "i0 = imag - Ri*indat['EBV']\n",
    "\n",
    "ilogP = logP[mi]\n",
    "iFeH = FeH[mi]\n",
    "ii0 = i0[mi]\n",
    "iab = mab[mi]\n",
    "ic = mc[mi]\n"
   ]
  },
  {
   "cell_type": "code",
   "execution_count": null,
   "id": "7e2a8ed4",
   "metadata": {},
   "outputs": [],
   "source": []
  },
  {
   "cell_type": "code",
   "execution_count": null,
   "id": "99ee9fbf",
   "metadata": {},
   "outputs": [],
   "source": []
  }
 ],
 "metadata": {
  "kernelspec": {
   "display_name": "Python 3 (ipykernel)",
   "language": "python",
   "name": "python3"
  },
  "language_info": {
   "codemirror_mode": {
    "name": "ipython",
    "version": 3
   },
   "file_extension": ".py",
   "mimetype": "text/x-python",
   "name": "python",
   "nbconvert_exporter": "python",
   "pygments_lexer": "ipython3",
   "version": "3.10.16"
  }
 },
 "nbformat": 4,
 "nbformat_minor": 5
}
