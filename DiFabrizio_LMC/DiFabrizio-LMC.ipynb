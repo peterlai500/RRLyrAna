{
 "cells": [
  {
   "cell_type": "code",
   "execution_count": null,
   "id": "058a6c02-7189-4a42-a61f-edee676ef940",
   "metadata": {},
   "outputs": [],
   "source": [
    "import pandas as pd\n",
    "import numpy as np\n",
    "import matplotlib.pyplot as plt\n",
    "from astropy.io import ascii\n",
    "\n",
    "data = ascii.read(\"DiF_in.csv\", format='csv')\n",
    "\n",
    "mu_true = 18.477\n",
    "\n",
    "Rg = 3.518\n",
    "Rr = 2.617\n",
    "Ri = 1.971\n",
    "\n",
    "logP = np.log10(data['period'])\n",
    "m_feh = data['FeH']\n",
    "BV = data['Bmag'] - data['Vmag']\n",
    "\n",
    "data['g'] = data['Bmag'] - 0.108 - 0.485*BV - 0.032*BV*BV\n",
    "data['r'] = data['Vmag'] + 0.082 - 0.462*BV + 0.041*BV*BV\n",
    "data['i'] = data['Imag'] + 0.341 + 0.154*BV - 0.025*BV*BV\n",
    "\n",
    "data['Mg'] = data['g'] - Rg*data['EBV'] - mu_true\n",
    "data['Mr'] = data['r'] - Rr*data['EBV'] - mu_true\n",
    "data['Mi'] = data['i'] - Ri*data['EBV'] - mu_true\n",
    "\n",
    "mab = data['rtype'] == 'ab'\n",
    "mc  = data['rtype'] == 'c'\n",
    "\n",
    "mi = data['i'] < 99"
   ]
  },
  {
   "cell_type": "markdown",
   "id": "ba00f725-62d9-4842-8758-759f55cee85d",
   "metadata": {},
   "source": [
    "### PLZ for RR0, RR1, and RR0+RR1"
   ]
  },
  {
   "cell_type": "code",
   "execution_count": null,
   "id": "ae355618-4103-414c-9a16-81bf800e4c43",
   "metadata": {
    "jupyter": {
     "source_hidden": true
    }
   },
   "outputs": [],
   "source": [
    "mag_masks = {\n",
    "    'RR0': {\n",
    "        \"g\": mab,\n",
    "        \"r\": mab,\n",
    "        \"i\": mab & mi\n",
    "    },\n",
    "    'RR1': {\n",
    "        \"g\": mc,\n",
    "        \"r\": mc,\n",
    "        \"i\": mc & mi\n",
    "    },\n",
    "    'RR0+RR1': {\n",
    "        \"g\": [mab, mc],\n",
    "        \"r\": [mab, mc],\n",
    "        \"i\": [mab & mi, mc & mi]\n",
    "    }\n",
    "}"
   ]
  },
  {
   "cell_type": "code",
   "execution_count": null,
   "id": "f7bf2fce-a6a0-4cf4-8222-ce63aedfcf16",
   "metadata": {
    "jupyter": {
     "source_hidden": true
    }
   },
   "outputs": [],
   "source": [
    "Ng22_PLZcoeffs = {\n",
    "    'g': {'RR0':     {'a':  0.649, 'b': -0.302, 'c': 0.159}, \n",
    "          'RR1':     {'a':  0.411, 'b': -0.342, 'c': 0.092},\n",
    "          'RR0+RR1': {'a':  0.801, 'b': -0.032, 'c': 0.190}},\n",
    "    'r': {'RR0':     {'a':  0.337, 'b': -1.090, 'c': 0.139}, \n",
    "          'RR1':     {'a': -0.082, 'b': -1.393, 'c': 0.091},\n",
    "          'RR0+RR1': {'a':  0.432, 'b': -0.874, 'c': 0.154}},\n",
    "    'i': {'RR0':     {'a':  0.243, 'b': -1.432, 'c': 0.144}, \n",
    "          'RR1':     {'a': -0.205, 'b': -1.706, 'c': 0.077},\n",
    "          'RR0+RR1': {'a':  0.249, 'b': -1.362, 'c': 0.115}}\n",
    "}\n",
    "\n",
    "Na24_PLZcoeffs01 = { # Parallax\n",
    "    'g': {'RR0':     {'a':  -0.527, 'b': 0.794, 'c': 0.264}, \n",
    "          'RR0+RR1': {'a':  -0.284, 'b': 0.791, 'c': 0.289}},\n",
    "    'r': {'RR0':     {'a':  -1.230, 'b': 0.651, 'c': 0.205}, \n",
    "          'RR0+RR1': {'a':  -1.017, 'b': 0.650, 'c': 0.228}},\n",
    "    'i': {'RR0':     {'a':  -1.682, 'b': 0.635, 'c': 0.174}, \n",
    "          'RR0+RR1': {'a':  -1.469, 'b': 0.633, 'c': 0.198}}\n",
    "}\n",
    "Na24_PLZcoeffs02 = { # ABL\n",
    "    'g': {'RR0':     {'a':  -0.503, 'b': 0.798, 'c': 0.266}, \n",
    "          'RR0+RR1': {'a':  -0.290, 'b': 0.795, 'c': 0.290}},\n",
    "    'r': {'RR0':     {'a':  -1.227, 'b': 0.655, 'c': 0.204}, \n",
    "          'RR0+RR1': {'a':  -1.031, 'b': 0.652, 'c': 0.227}},\n",
    "    'i': {'RR0':     {'a':  -1.673, 'b': 0.638, 'c': 0.175}, \n",
    "          'RR0+RR1': {'a':  -1.479, 'b': 0.635, 'c': 0.197}}\n",
    "}\n",
    "Na24_PLZcoeffs03 = { # Geometric Distance\n",
    "    'g': {'RR0':     {'a':  -0.389, 'b': 0.792, 'c': 0.267}, \n",
    "          'RR0+RR1': {'a':  -0.217, 'b': 0.790, 'c': 0.285}},\n",
    "    'r': {'RR0':     {'a':  -1.092, 'b': 0.650, 'c': 0.208}, \n",
    "          'RR0+RR1': {'a':  -0.950, 'b': 0.648, 'c': 0.223}},\n",
    "    'i': {'RR0':     {'a':  -1.544, 'b': 0.633, 'c': 0.177}, \n",
    "          'RR0+RR1': {'a':  -1.402, 'b': 0.632, 'c': 0.193}}\n",
    "}\n",
    "Na24_PLZcoeffs04 = { # Geometric Distance\n",
    "    'g': {'RR0':     {'a':  -0.473, 'b': 0.791, 'c': 0.257}, \n",
    "          'RR0+RR1': {'a':  -0.260, 'b': 0.789, 'c': 0.280}},\n",
    "    'r': {'RR0':     {'a':  -1.177, 'b': 0.650, 'c': 0.198}, \n",
    "          'RR0+RR1': {'a':  -0.993, 'b': 0.647, 'c': 0.218}},\n",
    "    'i': {'RR0':     {'a':  -1.629, 'b': 0.633, 'c': 0.168}, \n",
    "          'RR0+RR1': {'a':  -1.445, 'b': 0.631, 'c': 0.188}}\n",
    "}\n",
    "P0_pivot = {'RR0':     -0.25,\n",
    "            'RR1':     -0.45,\n",
    "            'RR0+RR1': -0.25}\n",
    "\n",
    "He25_PLZcoeffs = {\n",
    "    'g': {'RR0': {'a':  -0.829, 'b': 0.233, 'c': 0.976}, \n",
    "          'RR1': {'a':  -0.898, 'b': 0.148, 'c': 0.509}},\n",
    "    'r': {'RR0': {'a':  -1.432, 'b': 0.180, 'c': 0.561}, \n",
    "          'RR1': {'a':  -1.395, 'b': 0.139, 'c': 0.202}},\n",
    "    'i': {'RR0': {'a':  -1.639, 'b': 0.169, 'c': 0.442}, \n",
    "          'RR1': {'a':  -1.551, 'b': 0.135, 'c': 0.120}}\n",
    "}"
   ]
  },
  {
   "cell_type": "code",
   "execution_count": null,
   "id": "c81790a9-6fea-46a1-82e9-9509612d5bd3",
   "metadata": {
    "jupyter": {
     "source_hidden": true
    }
   },
   "outputs": [],
   "source": [
    "def PLZrelation(logp, feh, passband, rrtype, coeffs, model):\n",
    "    a, b, c = coeffs[passband][rrtype].values()\n",
    "    \n",
    "    if rrtype == 'RR0+RR1':\n",
    "        type0, type1 = mag_masks[rrtype][passband]\n",
    "        mask = np.logical_or(type0, type1)\n",
    "        p0 = logp[type0]\n",
    "        p1 = logp[type1] + 0.127\n",
    "        p = np.concatenate((p0, p1), axis=0)\n",
    "    else:\n",
    "        mask = mag_masks[rrtype][passband]\n",
    "        p = logp[mask]\n",
    "\n",
    "    if model == 'Ng22':\n",
    "        a, b, c = coeffs[passband][rrtype].values()\n",
    "        return a + b * p + c * feh[mask]\n",
    "    elif model == 'Na24':\n",
    "        P0 = P0_pivot[rrtype]\n",
    "        feh0 = -1.5\n",
    "        return a * (logp[mask] - P0) + b + c * (feh[mask] - feh0)\n",
    "    elif model == 'He25':\n",
    "        a, b, c = coeffs[passband][rrtype].values()\n",
    "        return a * p + b * feh[mask] + c\n",
    "\n",
    "def plot_PLZhist(passband, rrtype, coeffs, model, mu_true, bins_factor=10):\n",
    "    if rrtype == 'RR0+RR1':\n",
    "        type0, type1 = mag_masks[rrtype][passband]\n",
    "        m0 = data[f'{passband}'][type0]\n",
    "        m1 = data[f'{passband}'][type1]\n",
    "        m = np.concatenate((m0, m1), axis=0)\n",
    "    else:\n",
    "        mask = mag_masks[rrtype][passband]\n",
    "        m = data[f'{passband}'][mask]\n",
    "        \n",
    "    M = PLZrelation(logP, m_feh, passband, rrtype, coeffs, model)\n",
    "    \n",
    "    delta_mu = (m - M) - mu_true\n",
    "\n",
    "    dmean   = np.mean(delta_mu)\n",
    "    dmedian = np.median(delta_mu)\n",
    "    N = len(m)\n",
    "    \n",
    "    print(f\"Data counts: {N}, Mean: {dmean:.3f}, Median: {dmedian:.3f}\")\n",
    "    plt.figure(figsize=(7, 5))\n",
    "    plt.minorticks_on()\n",
    "    plt.tick_params(which='both', bottom=True, top=True, left=True, right=True, direction='inout')\n",
    "    plt.hist(delta_mu, bins=int(N / bins_factor) + 8, color='skyblue', edgecolor='black')\n",
    "    plt.axvline(0.0, c='r', ls='-')  # True distance modulus\n",
    "    plt.axvline(dmean, c='r', ls='--', label=f\"Mean = {dmean:.3f}\")\n",
    "    plt.ylabel(\"Count\", fontsize=13)\n",
    "    plt.xlabel(r\"$\\mu_j-\\mu_{LMC}^0$\", fontsize=13)\n",
    "    plt.title(f\"# of Distance Modulus Residuals ({passband}-band, {rrtype})\", fontsize=14)\n",
    "    plt.legend()\n",
    "    plt.tight_layout()"
   ]
  },
  {
   "cell_type": "markdown",
   "id": "f0da6a5f-4eef-451f-a9da-88afb87dc502",
   "metadata": {
    "jp-MarkdownHeadingCollapsed": true
   },
   "source": [
    "#### RR0"
   ]
  },
  {
   "cell_type": "code",
   "execution_count": null,
   "id": "4ad9dbf9-1e67-483e-89f1-0572a44f7e8c",
   "metadata": {},
   "outputs": [],
   "source": [
    "plot_PLZhist(\"g\", \"RR0\", Ng22_PLZcoeffs, 'Ng22', mu_true)\n",
    "# plt.savefig(f\"figures/dmu-Ng22PLZ_RR0-g-DiFa\", dpi=300)\n",
    "plot_PLZhist(\"g\", \"RR0\", He25_PLZcoeffs, 'He25', mu_true)\n",
    "# plt.savefig(f\"figures/dmu-He25PLZ_RR0-g-DiFa\", dpi=300)\n",
    "plot_PLZhist(\"g\", \"RR0\", Na24_PLZcoeffs01, 'Na24', mu_true)\n",
    "# plt.savefig(f\"figures/dmu-Na24PLZ01_RR0-g-DiFa\", dpi=300)\n",
    "plot_PLZhist(\"g\", \"RR0\", Na24_PLZcoeffs02, 'Na24', mu_true)\n",
    "# plt.savefig(f\"figures/dmu-Na24PLZ02_RR0-g-DiFa\", dpi=300)\n",
    "plot_PLZhist(\"g\", \"RR0\", Na24_PLZcoeffs03, 'Na24', mu_true)\n",
    "# plt.savefig(f\"figures/dmu-Na24PLZ03_RR0-g-DiFa\", dpi=300)\n",
    "plot_PLZhist(\"g\", \"RR0\", Na24_PLZcoeffs04, 'Na24', mu_true)\n",
    "# plt.savefig(f\"figures/dmu-Na24PLZ04_RR0-g-DiFa\", dpi=300)"
   ]
  },
  {
   "cell_type": "code",
   "execution_count": null,
   "id": "7e411a7a-a412-4948-aae1-76551239a2fb",
   "metadata": {},
   "outputs": [],
   "source": [
    "plot_PLZhist(\"r\", \"RR0\", Ng22_PLZcoeffs, 'Ng22', mu_true)\n",
    "# plt.savefig(f\"figures/dmu-Ng22PLZ_RR0-r-DiFa\", dpi=300)\n",
    "plot_PLZhist(\"r\", \"RR0\", He25_PLZcoeffs, 'He25', mu_true)\n",
    "# plt.savefig(f\"figures/dmu-He25PLZ_RR0-r-DiFa\", dpi=300)\n",
    "plot_PLZhist(\"r\", \"RR0\", Na24_PLZcoeffs01, 'Na24', mu_true)\n",
    "# plt.savefig(f\"figures/dmu-Na24PLZ01_RR0-r-DiFa\", dpi=300)\n",
    "plot_PLZhist(\"r\", \"RR0\", Na24_PLZcoeffs02, 'Na24', mu_true)\n",
    "# plt.savefig(f\"figures/dmu-Na24PLZ02_RR0-r-DiFa\", dpi=300)\n",
    "plot_PLZhist(\"r\", \"RR0\", Na24_PLZcoeffs03, 'Na24', mu_true)\n",
    "# plt.savefig(f\"figures/dmu-Na24PLZ03_RR0-r-DiFa\", dpi=300)\n",
    "plot_PLZhist(\"r\", \"RR0\", Na24_PLZcoeffs04, 'Na24', mu_true)\n",
    "# plt.savefig(f\"figures/dmu-Na24PLZ04_RR0-r-DiFa\", dpi=300)"
   ]
  },
  {
   "cell_type": "code",
   "execution_count": null,
   "id": "ac61d449-4736-4918-8863-f4a8da5fd39f",
   "metadata": {},
   "outputs": [],
   "source": [
    "plot_PLZhist(\"i\", \"RR0\", Ng22_PLZcoeffs, 'Ng22', mu_true)\n",
    "# plt.savefig(f\"figures/dmu-Ng22PLZ_RR0-i-DiFa\", dpi=300)\n",
    "plot_PLZhist(\"i\", \"RR0\", He25_PLZcoeffs, 'He25', mu_true)\n",
    "# plt.savefig(f\"figures/dmu-He25PLZ_RR0-i-DiFa\", dpi=300)\n",
    "plot_PLZhist(\"i\", \"RR0\", Na24_PLZcoeffs01, 'Na24', mu_true)\n",
    "# plt.savefig(f\"figures/dmu-Na24PLZ01_RR0-i-DiFa\", dpi=300)\n",
    "plot_PLZhist(\"i\", \"RR0\", Na24_PLZcoeffs02, 'Na24', mu_true)\n",
    "# plt.savefig(f\"figures/dmu-Na24PLZ02_RR0-i-DiFa\", dpi=300)\n",
    "plot_PLZhist(\"i\", \"RR0\", Na24_PLZcoeffs03, 'Na24', mu_true)\n",
    "# plt.savefig(f\"figures/dmu-Na24PLZ03_RR0-i-DiFa\", dpi=300)\n",
    "plot_PLZhist(\"i\", \"RR0\", Na24_PLZcoeffs04, 'Na24', mu_true)\n",
    "# plt.savefig(f\"figures/dmu-Na24PLZ04_RR0-i-DiFa\", dpi=300)"
   ]
  },
  {
   "cell_type": "markdown",
   "id": "74b15222-ddb1-4ec9-9e1b-bf2e87aa91e4",
   "metadata": {
    "jp-MarkdownHeadingCollapsed": true
   },
   "source": [
    "#### RR1"
   ]
  },
  {
   "cell_type": "code",
   "execution_count": null,
   "id": "dc26fee2-a693-48ef-9efb-654cb145c2c4",
   "metadata": {},
   "outputs": [],
   "source": [
    "plot_PLZhist(\"g\", \"RR1\", Ng22_PLZcoeffs, 'Ng22', mu_true)\n",
    "# plt.savefig(f\"figures/dmu-Ng22PLZ_RR1-g-DiFa\", dpi=300)\n",
    "plot_PLZhist(\"g\", \"RR1\", He25_PLZcoeffs, 'He25', mu_true)\n",
    "# plt.savefig(f\"figures/dmu-He25PLZ_RR1-g-DiFa\", dpi=300)"
   ]
  },
  {
   "cell_type": "code",
   "execution_count": null,
   "id": "42efffdb-36d0-4816-a952-5573dcef2d20",
   "metadata": {},
   "outputs": [],
   "source": [
    "plot_PLZhist(\"r\", \"RR1\", Ng22_PLZcoeffs, 'Ng22', mu_true)\n",
    "# plt.savefig(f\"figures/dmu-Ng22PLZ_RR1-r-DiFa\", dpi=300)\n",
    "plot_PLZhist(\"r\", \"RR1\", He25_PLZcoeffs, 'He25', mu_true)\n",
    "# plt.savefig(f\"figures/dmu-He25PLZ_RR1-r-DiFa\", dpi=300)"
   ]
  },
  {
   "cell_type": "code",
   "execution_count": null,
   "id": "92967dc7-b04e-4670-a6d8-90bfe37c9d64",
   "metadata": {},
   "outputs": [],
   "source": [
    "plot_PLZhist(\"i\", \"RR1\", Ng22_PLZcoeffs, 'Ng22', mu_true)\n",
    "# plt.savefig(f\"figures/dmu-Ng22PLZ_RR1-i-DiFa\", dpi=300)\n",
    "plot_PLZhist(\"i\", \"RR1\", He25_PLZcoeffs, 'He25', mu_true)\n",
    "# plt.savefig(f\"figures/dmu-He25PLZ_RR1-i-DiFa\", dpi=300)"
   ]
  },
  {
   "cell_type": "markdown",
   "id": "f3ae6b02-9803-4877-ace9-082914b94ce5",
   "metadata": {
    "jp-MarkdownHeadingCollapsed": true
   },
   "source": [
    "#### RR0+RR1"
   ]
  },
  {
   "cell_type": "code",
   "execution_count": null,
   "id": "3907550b-fe6f-4184-bf69-6b82b1acf925",
   "metadata": {},
   "outputs": [],
   "source": [
    "plot_PLZhist(\"g\", \"RR0+RR1\", Ng22_PLZcoeffs, 'Ng22', mu_true)\n",
    "# plt.savefig(f\"figures/dmu-Ng22PLZ_RR01-g-DiFa\", dpi=300)\n",
    "plot_PLZhist(\"g\", \"RR0+RR1\", Na24_PLZcoeffs01, 'Na24', mu_true)\n",
    "# plt.savefig(f\"figures/dmu-Na24PLZ01_RR01-g-DiFa\", dpi=300)\n",
    "plot_PLZhist(\"g\", \"RR0+RR1\", Na24_PLZcoeffs02, 'Na24', mu_true)\n",
    "# plt.savefig(f\"figures/dmu-Na24PLZ02_RR01-g-DiFa\", dpi=300)\n",
    "plot_PLZhist(\"g\", \"RR0+RR1\", Na24_PLZcoeffs03, 'Na24', mu_true)\n",
    "# plt.savefig(f\"figures/dmu-Na24PLZ03_RR01-g-DiFa\", dpi=300)\n",
    "plot_PLZhist(\"g\", \"RR0+RR1\", Na24_PLZcoeffs04, 'Na24', mu_true)\n",
    "# plt.savefig(f\"figures/dmu-Na24PLZ04_RR01-g-DiFa\", dpi=300)"
   ]
  },
  {
   "cell_type": "code",
   "execution_count": null,
   "id": "eb9b0f50-d165-432a-b6d8-853d91deb324",
   "metadata": {},
   "outputs": [],
   "source": [
    "plot_PLZhist(\"r\", \"RR0+RR1\", Ng22_PLZcoeffs, 'Ng22', mu_true)\n",
    "# plt.savefig(f\"figures/dmu-Ng22PLZ_RR01-r-DiFa\", dpi=300)\n",
    "plot_PLZhist(\"r\", \"RR0+RR1\", Na24_PLZcoeffs01, 'Na24', mu_true)\n",
    "# plt.savefig(f\"figures/dmu-Na24PLZ01_RR01-r-DiFa\", dpi=300)\n",
    "plot_PLZhist(\"r\", \"RR0+RR1\", Na24_PLZcoeffs02, 'Na24', mu_true)\n",
    "# plt.savefig(f\"figures/dmu-Na24PLZ02_RR01-r-DiFa\", dpi=300)\n",
    "plot_PLZhist(\"r\", \"RR0+RR1\", Na24_PLZcoeffs03, 'Na24', mu_true)\n",
    "# plt.savefig(f\"figures/dmu-Na24PLZ03_RR01-r-DiFa\", dpi=300)\n",
    "plot_PLZhist(\"r\", \"RR0+RR1\", Na24_PLZcoeffs04, 'Na24', mu_true)\n",
    "# plt.savefig(f\"figures/dmu-Na24PLZ04_RR01-r-DiFa\", dpi=300)"
   ]
  },
  {
   "cell_type": "code",
   "execution_count": null,
   "id": "5788aa77-ee25-444b-87c4-b3ca8cdf7f12",
   "metadata": {},
   "outputs": [],
   "source": [
    "plot_PLZhist(\"i\", \"RR0+RR1\", Ng22_PLZcoeffs, 'Ng22', mu_true)\n",
    "plt.savefig(f\"figures/dmu-Ng22PLZ_RR01-i-DiFa\", dpi=300)\n",
    "plot_PLZhist(\"i\", \"RR0+RR1\", Na24_PLZcoeffs01, 'Na24', mu_true)\n",
    "plt.savefig(f\"figures/dmu-Na24PLZ01_RR01-i-DiFa\", dpi=300)\n",
    "plot_PLZhist(\"i\", \"RR0+RR1\", Na24_PLZcoeffs02, 'Na24', mu_true)\n",
    "plt.savefig(f\"figures/dmu-Na24PLZ02_RR01-i-DiFa\", dpi=300)\n",
    "plot_PLZhist(\"i\", \"RR0+RR1\", Na24_PLZcoeffs03, 'Na24', mu_true)\n",
    "plt.savefig(f\"figures/dmu-Na24PLZ03_RR01-i-DiFa\", dpi=300)\n",
    "plot_PLZhist(\"i\", \"RR0+RR1\", Na24_PLZcoeffs04, 'Na24', mu_true)\n",
    "plt.savefig(f\"figures/dmu-Na24PLZ04_RR01-i-DiFa\", dpi=300)"
   ]
  },
  {
   "cell_type": "markdown",
   "id": "21380409-c83b-46d4-8c57-b65292fe576c",
   "metadata": {},
   "source": [
    "### PWZ for RR0, RR1, and RR0+RR1"
   ]
  },
  {
   "cell_type": "markdown",
   "id": "7e160120-f0e9-4152-8a50-195c5d3f8823",
   "metadata": {},
   "source": [
    "```Python\n",
    "Wgr = r - 2.905 * (g - r)\n",
    "Wgi = r - 4.051 * (r - i)\n",
    "Wgi = g - 2.274 * (g - i)\n",
    "```"
   ]
  },
  {
   "cell_type": "code",
   "execution_count": null,
   "id": "6e3b7489-73ef-4671-8924-b62cb2e4fe56",
   "metadata": {
    "jupyter": {
     "source_hidden": true
    }
   },
   "outputs": [],
   "source": [
    "data['Wgr'] = data['r'] - 2.905 * (data['g'] - data['r'])\n",
    "data['Wri'] = data['r'] - 4.051 * (data['r'] - data['i'])\n",
    "data['Wgi'] = data['g'] - 2.274 * (data['g'] - data['i'])\n",
    "\n",
    "ri = data['Wri'] < 99\n",
    "gi = data['Wgi'] < 99"
   ]
  },
  {
   "cell_type": "code",
   "execution_count": null,
   "id": "4e3ca154-4436-4aad-a4db-6a78964ecf75",
   "metadata": {
    "jupyter": {
     "source_hidden": true
    }
   },
   "outputs": [],
   "source": [
    "w_masks = {\n",
    "    'RR0': {\n",
    "        'Wgr': mab,\n",
    "        'Wri': mab & ri,\n",
    "        'Wgi': mab & gi\n",
    "    },\n",
    "    'RR1': {\n",
    "        'Wgr': mc,\n",
    "        'Wri': mc & ri,\n",
    "        'Wgi': mc & gi\n",
    "    },\n",
    "    'RR0+RR1': {\n",
    "        'Wgr': [mab, mc],\n",
    "        'Wri': [mab & ri, mc & ri],\n",
    "        'Wgi': [mab & gi, mc & gi]\n",
    "    }\n",
    "}"
   ]
  },
  {
   "cell_type": "code",
   "execution_count": null,
   "id": "cb2136d7-1edc-42b5-9cc1-9a9fa56a73d4",
   "metadata": {
    "jupyter": {
     "source_hidden": true
    }
   },
   "outputs": [],
   "source": [
    "Ng22_PWZcoeffs = {\n",
    "    'Wgr': {'RR0':     {'a': -0.644, 'b': -3.324, 'c': 0.052}, \n",
    "            'RR1':     {'a': -1.327, 'b': -3.680, 'c': 0.013},\n",
    "            'RR0+RR1': {'a': -0.727, 'b': -3.286, 'c': 0.010}},\n",
    "    'Wri': {'RR0':     {'a':  0.093, 'b': -2.600, 'c': 0.193}, \n",
    "            'RR1':     {'a': -0.884, 'b': -3.503, 'c': 0.067},\n",
    "            'RR0+RR1': {'a':  0.010, 'b': -2.756, 'c': 0.149}},\n",
    "    'Wgi': {'RR0':     {'a': -0.198, 'b': -2.908, 'c': 0.142}, \n",
    "            'RR1':     {'a': -1.086, 'b': -3.696, 'c': 0.055},\n",
    "            'RR0+RR1': {'a': -0.288, 'b': -3.066, 'c': 0.101}}\n",
    "}\n",
    "\n",
    "Na24_PWZcoeffs01 = { # Parallax\n",
    "    'Wgr': {'RR0':     {'a':  -3.061, 'b': 0.584, 'c': 0.082}, \n",
    "            'RR0+RR1': {'a':  -2.848, 'b': 0.583, 'c': 0.105}},\n",
    "    'Wri': {'RR0':     {'a':  -3.273, 'b': 0.239, 'c': 0.033}, \n",
    "            'RR0+RR1': {'a':  -3.148, 'b': 0.238, 'c': 0.050}},\n",
    "    'Wgi': {'RR0':     {'a':  -3.154, 'b': 0.433, 'c': 0.060}, \n",
    "            'RR0+RR1': {'a':  -2.979, 'b': 0.432, 'c': 0.081}}\n",
    "}\n",
    "Na24_PWZcoeffs02 = { # ABL\n",
    "    'Wgr': {'RR0':     {'a':  -3.027, 'b': 0.587, 'c': 0.084}, \n",
    "            'RR0+RR1': {'a':  -2.837, 'b': 0.585, 'c': 0.107}},\n",
    "    'Wri': {'RR0':     {'a':  -3.347, 'b': 0.241, 'c': 0.019}, \n",
    "            'RR0+RR1': {'a':  -3.178, 'b': 0.240, 'c': 0.042}},\n",
    "    'Wgi': {'RR0':     {'a':  -3.169, 'b': 0.435, 'c': 0.055}, \n",
    "            'RR0+RR1': {'a':  -2.987, 'b': 0.433, 'c': 0.078}}\n",
    "}\n",
    "Na24_PWZcoeffs03 = { # Geometric Distance\n",
    "    'Wgr': {'RR0':     {'a':  -2.923, 'b': 0.583, 'c': 0.085}, \n",
    "            'RR0+RR1': {'a':  -2.824, 'b': 0.580, 'c': 0.096}},\n",
    "    'Wri': {'RR0':     {'a':  -3.135, 'b': 0.237, 'c': 0.036}, \n",
    "            'RR0+RR1': {'a':  -3.124, 'b': 0.236, 'c': 0.040}},\n",
    "    'Wgi': {'RR0':     {'a':  -3.016, 'b': 0.431, 'c': 0.063}, \n",
    "            'RR0+RR1': {'a':  -2.955, 'b': 0.429, 'c': 0.071}}\n",
    "}\n",
    "Na24_PWZcoeffs04 = { # Geometric Distance\n",
    "    'Wgr': {'RR0':     {'a':  -3.008, 'b': 0.582, 'c': 0.075}, \n",
    "            'RR0+RR1': {'a':  -2.835, 'b': 0.580, 'c': 0.095}},\n",
    "    'Wri': {'RR0':     {'a':  -3.220, 'b': 0.236, 'c': 0.026}, \n",
    "            'RR0+RR1': {'a':  -3.135, 'b': 0.236, 'c': 0.039}},\n",
    "    'Wgi': {'RR0':     {'a':  -3.101, 'b': 0.430, 'c': 0.054}, \n",
    "            'RR0+RR1': {'a':  -2.967, 'b': 0.430, 'c': 0.070}}\n",
    "}\n",
    "\n",
    "He25_PWZcoeffs = {\n",
    "    'Wgr': {'RR0': {'a':  -2.678, 'b': 0.007, 'c': -0.610}, \n",
    "            'RR1': {'a':  -3.437, 'b': 0.019, 'c': -1.209}},\n",
    "    'Wri': {'RR0': {'a':  -2.671, 'b': 0.056, 'c': -0.266}, \n",
    "            'RR1': {'a':  -3.186, 'b': 0.107, 'c': -0.740}},\n",
    "    'Wgi': {'RR0': {'a':  -2.512, 'b': 0.095, 'c': -0.006}, \n",
    "            'RR1': {'a':  -3.136, 'b': 0.137, 'c': -0.544}}\n",
    "}"
   ]
  },
  {
   "cell_type": "code",
   "execution_count": null,
   "id": "e66fd5aa-5d9f-4ce1-8c1d-1acbd6f39c64",
   "metadata": {
    "jupyter": {
     "source_hidden": true
    }
   },
   "outputs": [],
   "source": [
    "def PWZrelation(logp, feh, passband, rrtype, coeffs, model):\n",
    "    a, b, c = coeffs[passband][rrtype].values()\n",
    "    \n",
    "    if rrtype == 'RR0+RR1':\n",
    "        type0, type1 = w_masks[rrtype][passband]\n",
    "        mask = np.logical_or(type0, type1)\n",
    "        p0 = logp[type0]\n",
    "        p1 = logp[type1] + 0.127\n",
    "        p = np.concatenate((p0, p1), axis=0)\n",
    "    else:\n",
    "        mask = w_masks[rrtype][passband]\n",
    "        p = logp[mask]\n",
    "\n",
    "    if model == 'Ng22':\n",
    "        a, b, c = coeffs[passband][rrtype].values()\n",
    "        return a + b * p + c * feh[mask]\n",
    "    elif model == 'Na24':\n",
    "        P0 = P0_pivot[rrtype]\n",
    "        feh0 = -1.5\n",
    "        return a * (logp[mask] - P0) + b + c * (feh[mask] - feh0)\n",
    "    elif model == 'He25':\n",
    "        a, b, c = coeffs[passband][rrtype].values()\n",
    "        return a * p + b * feh[mask] + c\n",
    "\n",
    "def plot_PWZhist(passband, rrtype, coeffs, model, mu_true, bins_factor=10):\n",
    "    if rrtype == 'RR0+RR1':\n",
    "        type0, type1 = w_masks[rrtype][passband]\n",
    "        m0 = data[f'{passband}'][type0]\n",
    "        m1 = data[f'{passband}'][type1]\n",
    "        m = np.concatenate((m0, m1), axis=0)\n",
    "    else:\n",
    "        mask = w_masks[rrtype][passband]\n",
    "        m = data[f'{passband}'][mask]\n",
    "        \n",
    "    M = PWZrelation(logP, m_feh, passband, rrtype, coeffs, model)\n",
    "    \n",
    "    delta_mu = (m - M) - mu_true\n",
    "\n",
    "    dmean   = np.mean(delta_mu)\n",
    "    dmedian = np.median(delta_mu)\n",
    "    N = len(m)\n",
    "    \n",
    "    print(f\"Data counts: {N}, Mean: {dmean:.3f}, Median: {dmedian:.3f}\")\n",
    "    plt.figure(figsize=(7, 5))\n",
    "    plt.minorticks_on()\n",
    "    plt.tick_params(which='both', bottom=True, top=True, left=True, right=True, direction='inout')\n",
    "    plt.hist(delta_mu, bins=int(N / bins_factor) + 8, color='skyblue', edgecolor='black')\n",
    "    plt.axvline(0.0, c='r', ls='-')  # True distance modulus\n",
    "    plt.axvline(dmean, c='r', ls='--', label=f\"Mean = {dmean:.3f}\")\n",
    "    plt.ylabel(\"Count\", fontsize=13)\n",
    "    plt.xlabel(r\"$\\mu_j-\\mu_{LMC}^0$\", fontsize=13)\n",
    "    plt.title(f\"# of Distance Modulus Residuals ({passband}, {rrtype})\", fontsize=14)\n",
    "    plt.legend()\n",
    "    plt.tight_layout()"
   ]
  },
  {
   "cell_type": "markdown",
   "id": "904713bf-eed0-46c3-aac5-51747cdea8b7",
   "metadata": {},
   "source": [
    "#### RR0"
   ]
  },
  {
   "cell_type": "code",
   "execution_count": null,
   "id": "a0f95198-2f9a-46ed-98d7-fe168a6fbb5b",
   "metadata": {
    "scrolled": true
   },
   "outputs": [],
   "source": [
    "plot_PWZhist(\"Wgr\", \"RR0\", Ng22_PWZcoeffs, 'Ng22', mu_true)\n",
    "plt.savefig(f\"figures/dmu-Ng22PWZ_RR0-Wgr-DiFa\", dpi=300)\n",
    "plot_PWZhist(\"Wgr\", \"RR0\", He25_PWZcoeffs, 'He25', mu_true)\n",
    "plt.savefig(f\"figures/dmu-He25PWZ_RR0-Wgr-DiFa\", dpi=300)\n",
    "plot_PWZhist(\"Wgr\", \"RR0\", Na24_PWZcoeffs01, 'Na24', mu_true)\n",
    "plt.savefig(f\"figures/dmu-Na24PWZ01_RR0-Wgr-DiFa\", dpi=300)\n",
    "plot_PWZhist(\"Wgr\", \"RR0\", Na24_PWZcoeffs02, 'Na24', mu_true)\n",
    "plt.savefig(f\"figures/dmu-Na24PWZ02_RR0-Wgr-DiFa\", dpi=300)\n",
    "plot_PWZhist(\"Wgr\", \"RR0\", Na24_PWZcoeffs03, 'Na24', mu_true)\n",
    "plt.savefig(f\"figures/dmu-Na24PWZ03_RR0-Wgr-DiFa\", dpi=300)\n",
    "plot_PWZhist(\"Wgr\", \"RR0\", Na24_PWZcoeffs04, 'Na24', mu_true)\n",
    "plt.savefig(f\"figures/dmu-Na24PWZ04_RR0-Wgr-DiFa\", dpi=300)"
   ]
  },
  {
   "cell_type": "code",
   "execution_count": null,
   "id": "806f1f31-3594-4eb6-b850-57555bef38b0",
   "metadata": {
    "scrolled": true
   },
   "outputs": [],
   "source": [
    "plot_PWZhist(\"Wri\", \"RR0\", Ng22_PWZcoeffs, 'Ng22', mu_true)\n",
    "plt.savefig(f\"figures/dmu-Ng22PWZ_RR0-Wri-DiFa\", dpi=300)\n",
    "plot_PWZhist(\"Wri\", \"RR0\", He25_PWZcoeffs, 'He25', mu_true)\n",
    "plt.savefig(f\"figures/dmu-He25PWZ_RR0-Wri-DiFa\", dpi=300)\n",
    "plot_PWZhist(\"Wri\", \"RR0\", Na24_PWZcoeffs01, 'Na24', mu_true)\n",
    "plt.savefig(f\"figures/dmu-Na24PWZ01_RR0-Wri-DiFa\", dpi=300)\n",
    "plot_PWZhist(\"Wri\", \"RR0\", Na24_PWZcoeffs02, 'Na24', mu_true)\n",
    "plt.savefig(f\"figures/dmu-Na24PWZ02_RR0-Wri-DiFa\", dpi=300)\n",
    "plot_PWZhist(\"Wri\", \"RR0\", Na24_PWZcoeffs03, 'Na24', mu_true)\n",
    "plt.savefig(f\"figures/dmu-Na24PWZ03_RR0-Wri-DiFa\", dpi=300)\n",
    "plot_PWZhist(\"Wri\", \"RR0\", Na24_PWZcoeffs04, 'Na24', mu_true)\n",
    "plt.savefig(f\"figures/dmu-Na24PWZ04_RR0-Wri-DiFa\", dpi=300)"
   ]
  },
  {
   "cell_type": "code",
   "execution_count": null,
   "id": "7bdc4b5e-9532-4021-94fe-a09bb70a3684",
   "metadata": {
    "scrolled": true
   },
   "outputs": [],
   "source": [
    "plot_PWZhist(\"Wgi\", \"RR0\", Ng22_PWZcoeffs, 'Ng22', mu_true)\n",
    "plt.savefig(f\"figures/dmu-Ng22PWZ_RR0-Wgi-DiFa\", dpi=300)\n",
    "plot_PWZhist(\"Wgi\", \"RR0\", He25_PWZcoeffs, 'He25', mu_true)\n",
    "plt.savefig(f\"figures/dmu-He25PWZ_RR0-Wgi-DiFa\", dpi=300)\n",
    "plot_PWZhist(\"Wgi\", \"RR0\", Na24_PWZcoeffs01, 'Na24', mu_true)\n",
    "plt.savefig(f\"figures/dmu-Na24PWZ01_RR0-Wgi-DiFa\", dpi=300)\n",
    "plot_PWZhist(\"Wgi\", \"RR0\", Na24_PWZcoeffs02, 'Na24', mu_true)\n",
    "plt.savefig(f\"figures/dmu-Na24PWZ02_RR0-Wgi-DiFa\", dpi=300)\n",
    "plot_PWZhist(\"Wgi\", \"RR0\", Na24_PWZcoeffs03, 'Na24', mu_true)\n",
    "plt.savefig(f\"figures/dmu-Na24PWZ03_RR0-Wgi-DiFa\", dpi=300)\n",
    "plot_PWZhist(\"Wgi\", \"RR0\", Na24_PWZcoeffs04, 'Na24', mu_true)\n",
    "plt.savefig(f\"figures/dmu-Na24PWZ04_RR0-Wgi-DiFa\", dpi=300)"
   ]
  },
  {
   "cell_type": "markdown",
   "id": "99c3562b-b9f1-455d-9af6-04fe90e9bf8e",
   "metadata": {},
   "source": [
    "#### RR1"
   ]
  },
  {
   "cell_type": "code",
   "execution_count": null,
   "id": "d5129cea-def2-4430-9a2a-ad10fb8101c7",
   "metadata": {
    "scrolled": true
   },
   "outputs": [],
   "source": [
    "plot_PWZhist(\"Wgr\", \"RR1\", Ng22_PWZcoeffs, 'Ng22', mu_true)\n",
    "plt.savefig(f\"figures/dmu-Ng22PWZ_RR1-Wgr-DiFa\", dpi=300)\n",
    "plot_PWZhist(\"Wgr\", \"RR1\", He25_PWZcoeffs, 'He25', mu_true)\n",
    "plt.savefig(f\"figures/dmu-He25PWZ_RR1-Wgr-DiFa\", dpi=300)"
   ]
  },
  {
   "cell_type": "code",
   "execution_count": null,
   "id": "e924789a-6ded-48f0-b727-ea93b49d2016",
   "metadata": {
    "scrolled": true
   },
   "outputs": [],
   "source": [
    "plot_PWZhist(\"Wgi\", \"RR1\", Ng22_PWZcoeffs, 'Ng22', mu_true)\n",
    "plt.savefig(f\"figures/dmu-Ng22PWZ_RR1-Wgi-DiFa\", dpi=300)\n",
    "plot_PWZhist(\"Wgi\", \"RR1\", He25_PWZcoeffs, 'He25', mu_true)\n",
    "plt.savefig(f\"figures/dmu-He25PWZ_RR1-Wgi-DiFa\", dpi=300)"
   ]
  },
  {
   "cell_type": "code",
   "execution_count": null,
   "id": "9248e137-b7aa-4375-bb23-2122fc9b222d",
   "metadata": {
    "scrolled": true
   },
   "outputs": [],
   "source": [
    "plot_PWZhist(\"Wri\", \"RR1\", Ng22_PWZcoeffs, 'Ng22', mu_true)\n",
    "plt.savefig(f\"figures/dmu-Ng22PWZ_RR1-Wri-DiFa\", dpi=300)\n",
    "plot_PWZhist(\"Wri\", \"RR1\", He25_PWZcoeffs, 'He25', mu_true)\n",
    "plt.savefig(f\"figures/dmu-He25PWZ_RR1-Wri-DiFa\", dpi=300)"
   ]
  },
  {
   "cell_type": "markdown",
   "id": "2cb8009f-7216-4429-ab36-8c9726ad9453",
   "metadata": {},
   "source": [
    "#### RR0+RR1"
   ]
  },
  {
   "cell_type": "code",
   "execution_count": null,
   "id": "8976e925-0cf5-4d30-a841-42f6c8e4ed99",
   "metadata": {},
   "outputs": [],
   "source": [
    "plot_PWZhist(\"Wgr\", \"RR0+RR1\", Ng22_PWZcoeffs, 'Ng22', mu_true)\n",
    "plt.savefig(f\"figures/dmu-Ng22PWZ_RR01-Wgr-DiFa\", dpi=300)\n",
    "plot_PWZhist(\"Wgr\", \"RR0+RR1\", Na24_PWZcoeffs01, 'Na24', mu_true)\n",
    "plt.savefig(f\"figures/dmu-Na24PWZ01_RR01-Wgr-DiFa\", dpi=300)\n",
    "plot_PWZhist(\"Wgr\", \"RR0+RR1\", Na24_PWZcoeffs02, 'Na24', mu_true)\n",
    "plt.savefig(f\"figures/dmu-Na24PWZ02_RR01-Wgr-DiFa\", dpi=300)\n",
    "plot_PWZhist(\"Wgr\", \"RR0+RR1\", Na24_PWZcoeffs03, 'Na24', mu_true)\n",
    "plt.savefig(f\"figures/dmu-Na24PWZ03_RR01-Wgr-DiFa\", dpi=300)\n",
    "plot_PWZhist(\"Wgr\", \"RR0+RR1\", Na24_PWZcoeffs04, 'Na24', mu_true)\n",
    "plt.savefig(f\"figures/dmu-Na24PWZ04_RR01-Wgr-DiFa\", dpi=300)"
   ]
  },
  {
   "cell_type": "code",
   "execution_count": null,
   "id": "a89c2d0b-de83-40ec-96c6-2c4a2c02f9b8",
   "metadata": {},
   "outputs": [],
   "source": [
    "plot_PWZhist(\"Wri\", \"RR0+RR1\", Ng22_PWZcoeffs, 'Ng22', mu_true)\n",
    "plt.savefig(f\"figures/dmu-Ng22PWZ_RR01-Wri-DiFa\", dpi=300)\n",
    "plot_PWZhist(\"Wri\", \"RR0+RR1\", Na24_PWZcoeffs01, 'Na24', mu_true)\n",
    "plt.savefig(f\"figures/dmu-Na24PWZ01_RR01-Wri-DiFa\", dpi=300)\n",
    "plot_PWZhist(\"Wri\", \"RR0+RR1\", Na24_PWZcoeffs02, 'Na24', mu_true)\n",
    "plt.savefig(f\"figures/dmu-Na24PWZ02_RR01-Wri-DiFa\", dpi=300)\n",
    "plot_PWZhist(\"Wri\", \"RR0+RR1\", Na24_PWZcoeffs03, 'Na24', mu_true)\n",
    "plt.savefig(f\"figures/dmu-Na24PWZ03_RR01-Wri-DiFa\", dpi=300)\n",
    "plot_PWZhist(\"Wri\", \"RR0+RR1\", Na24_PWZcoeffs04, 'Na24', mu_true)\n",
    "plt.savefig(f\"figures/dmu-Na24PWZ04_RR01-Wri-DiFa\", dpi=300)"
   ]
  },
  {
   "cell_type": "code",
   "execution_count": null,
   "id": "eebda31a-0969-4706-ad2f-dfe877253ff4",
   "metadata": {},
   "outputs": [],
   "source": [
    "plot_PWZhist(\"Wgi\", \"RR0+RR1\", Ng22_PWZcoeffs, 'Ng22', mu_true)\n",
    "plt.savefig(f\"figures/dmu-Ng22PWZ_RR01-Wgi-DiFa\", dpi=300)\n",
    "plot_PWZhist(\"Wgi\", \"RR0+RR1\", Na24_PWZcoeffs01, 'Na24', mu_true)\n",
    "plt.savefig(f\"figures/dmu-Na24PWZ01_RR01-Wgi-DiFa\", dpi=300)\n",
    "plot_PWZhist(\"Wgi\", \"RR0+RR1\", Na24_PWZcoeffs02, 'Na24', mu_true)\n",
    "plt.savefig(f\"figures/dmu-Na24PWZ02_RR01-Wgi-DiFa\", dpi=300)\n",
    "plot_PWZhist(\"Wgi\", \"RR0+RR1\", Na24_PWZcoeffs03, 'Na24', mu_true)\n",
    "plt.savefig(f\"figures/dmu-Na24PWZ03_RR01-Wgi-DiFa\", dpi=300)\n",
    "plot_PWZhist(\"Wgi\", \"RR0+RR1\", Na24_PWZcoeffs04, 'Na24', mu_true)\n",
    "plt.savefig(f\"figures/dmu-Na24PWZ04_RR01-Wgi-DiFa\", dpi=300)"
   ]
  },
  {
   "cell_type": "code",
   "execution_count": null,
   "id": "4619056e-7487-4674-899c-4b3e4b708b37",
   "metadata": {},
   "outputs": [],
   "source": []
  },
  {
   "cell_type": "code",
   "execution_count": null,
   "id": "a4395610-c803-4725-a938-4de522c55f97",
   "metadata": {},
   "outputs": [],
   "source": []
  }
 ],
 "metadata": {
  "kernelspec": {
   "display_name": "Python 3 (ipykernel)",
   "language": "python",
   "name": "python3"
  },
  "language_info": {
   "codemirror_mode": {
    "name": "ipython",
    "version": 3
   },
   "file_extension": ".py",
   "mimetype": "text/x-python",
   "name": "python",
   "nbconvert_exporter": "python",
   "pygments_lexer": "ipython3",
   "version": "3.12.3"
  }
 },
 "nbformat": 4,
 "nbformat_minor": 5
}
