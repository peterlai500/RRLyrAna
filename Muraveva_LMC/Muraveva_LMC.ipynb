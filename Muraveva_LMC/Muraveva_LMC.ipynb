{
 "cells": [
  {
   "cell_type": "code",
   "execution_count": 2,
   "id": "c81967f1-8ae3-4610-a71b-7ce0b4cfbfbe",
   "metadata": {},
   "outputs": [],
   "source": [
    "import os\n",
    "import sys\n",
    "\n",
    "import pandas as pd\n",
    "import numpy as np\n",
    "import matplotlib.pyplot as plt\n",
    "import multiprocessing as mp\n",
    "\n",
    "from astropy.coordinates import SkyCoord, Angle, EarthLocation, get_sun\n",
    "from astropy.io import ascii\n",
    "from astropy.table import join, Table, vstack\n",
    "from astropy.time import Time\n",
    "import astropy.units as u\n",
    "\n",
    "from astroquery.utils.tap.core import TapPlus\n",
    "\n",
    "import timeit"
   ]
  },
  {
   "cell_type": "code",
   "execution_count": null,
   "id": "75b0aa9e-b99a-4498-910e-c391ba7855c3",
   "metadata": {},
   "outputs": [],
   "source": [
    "Table_A2 = ascii.read(\"Table_A2.txt\")"
   ]
  },
  {
   "cell_type": "code",
   "execution_count": null,
   "id": "2c724d6a-4338-45ac-82fa-4b8ab35b6341",
   "metadata": {},
   "outputs": [],
   "source": [
    "upper_mu = 19.5\n",
    "lower_mu = 18\n",
    "mu_select = Table_A2[\n",
    "    (Table_A2[\"Distance_modulus\"] >= lower_mu) & \n",
    "    (Table_A2[\"Distance_modulus\"] <= upper_mu)\n",
    "]"
   ]
  },
  {
   "cell_type": "markdown",
   "id": "6a4b032e-b834-4986-a14f-be1f79f10202",
   "metadata": {
    "jp-MarkdownHeadingCollapsed": true
   },
   "source": [
    "## Circular cut based on coordinates from catalogue"
   ]
  },
  {
   "cell_type": "markdown",
   "id": "0faa00c4-250d-4944-ad45-c243dc12790e",
   "metadata": {},
   "source": [
    "### A-1: From intact catalogue"
   ]
  },
  {
   "cell_type": "code",
   "execution_count": null,
   "id": "fa7292a3-ee0b-4763-9280-11c58c0c4f58",
   "metadata": {},
   "outputs": [],
   "source": [
    "lmc_center = SkyCoord(ra=80.894167*u.degree, dec=-69.756111*u.degree, frame='icrs')\n",
    "radius = 5* u.degree\n",
    "\n",
    "data_coords = SkyCoord(ra=Table_A2[\"RA\"]*u.degree, dec=Table_A2[\"DEC\"]*u.degree, frame='icrs')\n",
    "\n",
    "# Compute the separation angular separation from LMC\n",
    "sep = data_coords.separation(lmc_center)\n",
    "circular_data = Table_A2[sep < radius]"
   ]
  },
  {
   "cell_type": "markdown",
   "id": "675704da-13ab-422a-9155-e2fb631da417",
   "metadata": {},
   "source": [
    "### A-2: From $\\mu$-filtered catalogue"
   ]
  },
  {
   "cell_type": "code",
   "execution_count": null,
   "id": "01f29c15-cbc8-4274-a97e-7e188e4e53de",
   "metadata": {},
   "outputs": [],
   "source": [
    "data_coords = SkyCoord(ra=mu_select[\"RA\"]*u.degree, dec=mu_select[\"DEC\"]*u.degree, frame='icrs')\n",
    "\n",
    "sep = data_coords.separation(lmc_center)\n",
    "\n",
    "mu_cut_data = mu_select[sep<radius]"
   ]
  },
  {
   "cell_type": "markdown",
   "id": "3e3f0c99-76f1-4745-8420-0efa98b76351",
   "metadata": {
    "jp-MarkdownHeadingCollapsed": true
   },
   "source": [
    "## Comparism: ML and coordinate cuts"
   ]
  },
  {
   "cell_type": "code",
   "execution_count": null,
   "id": "b5e5a597-1e6d-4c8e-bd8d-41a2b3a0224c",
   "metadata": {},
   "outputs": [],
   "source": [
    "mu18_ra  = mu_select[\"RA\"] \n",
    "mu18_dec = mu_select[\"DEC\"]\n",
    "\n",
    "# ML_ra =  mu18_ra[cluster_0]\n",
    "# ML_dec = mu18_dec[cluster_0]\n",
    "\n",
    "CircularCut_ra  = circular_data[\"RA\"]\n",
    "CircularCut_dec = circular_data[\"DEC\"]\n",
    "\n",
    "CircularMu_ra  = mu_cut_data[\"RA\"]\n",
    "CircularMu_dec = mu_cut_data[\"DEC\"]"
   ]
  },
  {
   "cell_type": "code",
   "execution_count": null,
   "id": "b93f9c2e-52ee-407c-9da4-d6dcf034633e",
   "metadata": {},
   "outputs": [],
   "source": [
    "plt.figure(figsize=(8, 6))\n",
    "# plt.scatter(mu18_ra, mu18_dec, s=10, color='gray', marker='o', alpha=0.3, label=\"Sources\")\n",
    "# plt.scatter(ML_ra, ML_dec, s=10, color='red', marker='o', alpha=0.3, label=\"Sources\")\n",
    "plt.scatter(CircularCut_ra, CircularCut_dec, s=10, color='blue', marker='o', alpha=0.3, label=\"Sources\")\n",
    "plt.scatter(CircularMu_ra, CircularMu_dec, s=10, color='green', marker='o', alpha=0.3, label=\"Sources\")\n",
    "plt.grid(True)"
   ]
  },
  {
   "cell_type": "code",
   "execution_count": null,
   "id": "9fbbcc5a-a85f-47c1-8c52-6d3dba5b22fb",
   "metadata": {},
   "outputs": [],
   "source": [
    "print(\"DBSCAN sample:\", len(ML_ra))\n",
    "print(\"Circular cut sample:\", len(CircularCut_ra))\n",
    "print(\"Circular cut + mu sample:\", len(CircularMu_ra))"
   ]
  },
  {
   "cell_type": "markdown",
   "id": "c2634a35-8c19-4461-af02-743fceb3dcd9",
   "metadata": {
    "jp-MarkdownHeadingCollapsed": true
   },
   "source": [
    "## Export Table"
   ]
  },
  {
   "cell_type": "code",
   "execution_count": null,
   "id": "dc7b30e0-f039-4ef0-a2b6-f8a20264c111",
   "metadata": {},
   "outputs": [],
   "source": [
    "mu_cut_data.write('Muraveva_LMC-gaia_ID.csv', format='csv', overwrite=True)"
   ]
  },
  {
   "cell_type": "markdown",
   "id": "4607f2ad-d84d-456b-9263-5f18c719636e",
   "metadata": {
    "jp-MarkdownHeadingCollapsed": true
   },
   "source": [
    "## Query SkyMapper DR4"
   ]
  },
  {
   "cell_type": "code",
   "execution_count": null,
   "id": "6324865c-ec5b-4cce-bd1c-5d6f72af50a1",
   "metadata": {},
   "outputs": [],
   "source": [
    "gaia_id = ascii.read(\"Muraveva_LMC-gaia_ID.csv\")\n",
    "SkyMapper = TapPlus(url=\"https://api.skymapper.nci.org.au/public/tap/\")"
   ]
  },
  {
   "cell_type": "markdown",
   "id": "109a9d90-9932-444a-8138-65bb4860277c",
   "metadata": {
    "jp-MarkdownHeadingCollapsed": true
   },
   "source": [
    "### Query `object_id`"
   ]
  },
  {
   "cell_type": "code",
   "execution_count": null,
   "id": "8d95d4ce-02d3-4797-8e9c-95713cc82c1e",
   "metadata": {},
   "outputs": [],
   "source": [
    "test_list = gaia_id[0:1000]\n",
    "\n",
    "print(\"Begin query SMSS object ID\")\n",
    "\n",
    "id_table = Table(names=[\"object_id\", \"gaia_dr3_id1\", \"raj2000\", \"dej2000\"], dtype=[\"int64\", \"int64\", \"float64\", \"float64\"])\n",
    "start = timeit.default_timer()\n",
    "\n",
    "for (gaia_id, ra, dec) in zip(test_list[\"source_id\"], test_list[\"RA\"], test_list[\"DEC\"]):\n",
    "    #print(f\"Querying GAIA id: {gaia_id}\")\n",
    "    prompt = f\"\"\"\n",
    "    SELECT\n",
    "        object_id, gaia_dr3_id1, raj2000, dej2000\n",
    "        FROM\n",
    "            dr4.master \n",
    "        WHERE \n",
    "            1=CONTAINS(POINT('ICRS', raj2000, dej2000),\n",
    "                       CIRCLE('ICRS', {ra}, {dec}, 0.1 ))\n",
    "            AND gaia_dr3_id1={gaia_id}\n",
    "    \"\"\"\n",
    "    \n",
    "    job = SkyMapper.launch_job(prompt)\n",
    "    result = job.get_data()\n",
    "\n",
    "    if len(result) == 1:\n",
    "        #print(\"SMSS ID:\",result['object_id'][0])\n",
    "        id_table = vstack([id_table, result])\n",
    "    #else:\n",
    "        #print(\"! No result qureied from GAIA ID\")\n",
    "    #print(\"=========================\")\n",
    "\n",
    "stop = timeit.default_timer()\n",
    "print(\"Done SMSS object ID query\")\n",
    "print('Time: ', stop - start)\n",
    "print('Total', len(id_table), \"SMSS ID queried from GAIA DR3 object ID\")"
   ]
  },
  {
   "cell_type": "markdown",
   "id": "a264a21d-5ab1-4f44-89a4-2c7ae0d5b896",
   "metadata": {
    "jp-MarkdownHeadingCollapsed": true
   },
   "source": [
    "### Query `object_id` (w/ `multiprocessing`)"
   ]
  },
  {
   "cell_type": "code",
   "execution_count": null,
   "id": "da98c06d-97f2-4338-af71-41bacf808dd0",
   "metadata": {},
   "outputs": [],
   "source": [
    "# Select first 5000 entries for querying\n",
    "test_list = gaia_id[0:1000]\n",
    "\n",
    "# Initialize an empty table to store results\n",
    "id_table = Table(names=[\"object_id\", \"gaia_dr3_id1\", \"raj2000\", \"dej2000\"], \n",
    "                 dtype=[\"int64\", \"int64\", \"float64\", \"float64\"])\n",
    "\n",
    "def query_skymapper(gaia_id, ra, dec):\n",
    "    prompt = f\"\"\"\n",
    "    SELECT\n",
    "        object_id, gaia_dr3_id1, raj2000, dej2000\n",
    "    FROM\n",
    "        dr4.master \n",
    "    WHERE \n",
    "        1=CONTAINS(POINT('ICRS', raj2000, dej2000),\n",
    "                   CIRCLE('ICRS', {ra}, {dec}, 0.1 ))\n",
    "        AND gaia_dr3_id1={gaia_id}\n",
    "    \"\"\"\n",
    "    try:\n",
    "        job = SkyMapper.launch_job(prompt)\n",
    "        result = job.get_data()\n",
    "        if len(result) == 1:\n",
    "            return result\n",
    "    except Exception as e:\n",
    "        print(f\"Query failed for GAIA ID {gaia_id}: {e}\")\n",
    "    return None\n",
    "\n",
    "print(\"Begin query SMSS object ID\")\n",
    "start = timeit.default_timer()\n",
    "\n",
    "num_workers = mp.cpu_count()  # Use all available CPU cores\n",
    "with mp.Pool(processes=num_workers) as pool:\n",
    "    results = pool.starmap(query_skymapper, zip(test_list[\"source_id\"], test_list[\"RA\"], test_list[\"DEC\"]))\n",
    "\n",
    "# Filter out None results and merge tables\n",
    "valid_results = [r for r in results if r is not None]\n",
    "if valid_results:\n",
    "    id_table = vstack(valid_results)\n",
    "\n",
    "stop = timeit.default_timer()\n",
    "print(\"Done SMSS object ID query\")\n",
    "print('Time:', stop - start)\n",
    "print('Total', len(id_table), \"SMSS ID queried from GAIA DR3 object ID\")\n",
    "\n",
    "# Save results to CSV\n",
    "id_table.write(\"SMSS_results.csv\", format=\"csv\", overwrite=True)\n",
    "print(\"Results saved to 'SMSS_results.csv'\")"
   ]
  },
  {
   "cell_type": "markdown",
   "id": "abd58388-746d-4b34-b781-29edafef302e",
   "metadata": {
    "jp-MarkdownHeadingCollapsed": true
   },
   "source": [
    "### Query `image_id`"
   ]
  },
  {
   "cell_type": "code",
   "execution_count": null,
   "id": "bf9959a5-939a-4edb-9e4d-e75787048337",
   "metadata": {},
   "outputs": [],
   "source": [
    "smss_id = ascii.read(\"Muraveva_LMC-smss_ID.csv\")\n",
    "test_list = smss_id[0:100]"
   ]
  },
  {
   "cell_type": "code",
   "execution_count": null,
   "id": "e2a1432e-277d-451b-85a4-b22543f23eea",
   "metadata": {
    "scrolled": true
   },
   "outputs": [],
   "source": [
    "image_id = Table(names=[\"object_id\", \"image_id\", \"ra_img\", \"decl_img\", \"filter\", \"mag_psf\", \"e_mag_psf\", \"date\", \"exp_time\", \"flags\"], dtype=[\"int64\", \"int64\", \"float64\", \"float64\", \"str\", \"float32\", \"float32\", \"float64\", \"float32\", \"int16\"])\n",
    "\n",
    "print(\"Begin query SMSS photometry\")\n",
    "start = timeit.default_timer()\n",
    "\n",
    "for ID in test_list['object_id']:\n",
    "    prompt = f\"\"\"\n",
    "    SELECT\n",
    "        object_id, image_id, ra_img, decl_img, f.filter, mag_psf, e_mag_psf, date, exp_time, flags\n",
    "        FROM\n",
    "            dr4.photometry f\n",
    "        JOIN\n",
    "            dr4.images USING (image_id)\n",
    "        WHERE\n",
    "            object_id={ID}\n",
    "            AND f.filter IN ('g', 'r', 'i')\n",
    "    \"\"\"\n",
    "    job = SkyMapper.launch_job(prompt)\n",
    "    result = job.get_results()\n",
    "    \n",
    "    image_id = vstack([image_id, result])\n",
    "\n",
    "stop = timeit.default_timer()\n",
    "print(\"Done SMSS query\")\n",
    "print('Query time:', stop - start)\n",
    "\n",
    "image_id.write('Muraveva_LMC-smss_photometry.csv', format='csv', overwrite=True)"
   ]
  },
  {
   "cell_type": "markdown",
   "id": "0ce8b0e5-b07c-4a11-89b7-ece4e54dfb79",
   "metadata": {
    "jp-MarkdownHeadingCollapsed": true
   },
   "source": [
    "### Query `image_id` (w/ `multiprocessing`)"
   ]
  },
  {
   "cell_type": "code",
   "execution_count": null,
   "id": "edba0f86-3f0e-4eb9-8d4e-1e4f683547f4",
   "metadata": {},
   "outputs": [],
   "source": [
    "image_id = Table(names=[\"object_id\", \"image_id\", \"ra_img\", \"decl_img\", \"filter\", \"mag_psf\", \"e_mag_psf\", \"date\", \"exp_time\", \"flags\"], \n",
    "                 dtype=[\"int64\", \"int64\", \"float64\", \"float64\", \"str\", \"float32\", \"float32\", \"float64\", \"float32\", \"int16\"])\n",
    "\n",
    "def query_photometry(object_id):\n",
    "    prompt = f\"\"\"\n",
    "    SELECT\n",
    "        object_id, image_id, ra_img, decl_img, f.filter, mag_psf, e_mag_psf, date, exp_time, flags\n",
    "    FROM\n",
    "        dr4.photometry f\n",
    "    JOIN\n",
    "        dr4.images USING (image_id)\n",
    "    WHERE\n",
    "        object_id={object_id}\n",
    "        AND f.filter IN ('g', 'r', 'i')\n",
    "    \"\"\"\n",
    "    try:\n",
    "        job = SkyMapper.launch_job(prompt)\n",
    "        result = job.get_results()\n",
    "        if len(result) > 0:\n",
    "            return result  # Return results only if there's data\n",
    "    except Exception as e:\n",
    "        print(f\"Query failed for object_id {object_id}: {e}\")\n",
    "    return None  # Return None if the query fails\n",
    "\n",
    "print(\"Begin query SMSS photometry\")\n",
    "start = timeit.default_timer()\n",
    "\n",
    "num_workers = mp.cpu_count()  # Use all available CPU cores\n",
    "with mp.Pool(processes=num_workers) as pool:\n",
    "    results = pool.map(query_photometry, test_list['object_id'])\n",
    "\n",
    "# Filter out None results and merge tables\n",
    "valid_results = [r for r in results if r is not None]\n",
    "if valid_results:\n",
    "    image_id = vstack(valid_results)\n",
    "\n",
    "stop = timeit.default_timer()\n",
    "print(\"Done SMSS query\")\n",
    "print('Query time:', stop - start)\n",
    "print(f'Total {len(image_id)} photometric entries retrieved.')"
   ]
  },
  {
   "cell_type": "markdown",
   "id": "cf15caff-d479-4daa-b200-c7a39a590af5",
   "metadata": {
    "jp-MarkdownHeadingCollapsed": true
   },
   "source": [
    "## Light-curve-template fitting"
   ]
  },
  {
   "cell_type": "markdown",
   "id": "6a5bae85-cabc-4663-9a76-fa48c7c9d615",
   "metadata": {},
   "source": [
    "### modify and match id from the files"
   ]
  },
  {
   "cell_type": "code",
   "execution_count": 2,
   "id": "ca25b986-3cb7-4988-9c2f-fc2cd09efefc",
   "metadata": {},
   "outputs": [],
   "source": [
    "import pandas as pd\n",
    "import numpy as np\n",
    "import apply_ugrizy_templates\n",
    "\n",
    "# Load only required columns (if applicable) and limit rows for test cases\n",
    "muraveva_df = pd.read_csv(\"Muraveva_LMC-gaia_ID.csv\", usecols=[\"source_id\", \"RA\", \"DEC\", \"Type\",\n",
    "                                                               \"Period\", \"[Fe/H]\", \"[Fe/H]_error\", \n",
    "                                                               \"E(B-V)\", \"E(B-V)_error\", \n",
    "                                                               \"Distance_modulus\", \"Distance_modulus_error\"])\n",
    "objid_df    = pd.read_csv(\"Muraveva_LMC-smss_ID.csv\", usecols=[\"object_id\", \"gaia_dr3_id1\"])\n",
    "imageid_df  = pd.read_csv(\"Muraveva_LMC-smss_photometry.csv\")\n",
    "\n",
    "# Rename columns while reading (avoiding extra reassignment)\n",
    "muraveva_df.rename(columns={'source_id': 'gaia_dr3_id1'}, inplace=True)\n",
    "\n",
    "# Merge tables efficiently\n",
    "merged_df = objid_df.merge(muraveva_df, on='gaia_dr3_id1', how=\"inner\") \\\n",
    "                    .merge(imageid_df, on='object_id', how=\"inner\")"
   ]
  },
  {
   "cell_type": "markdown",
   "id": "28046461-980a-4101-90aa-71d1b8e225bf",
   "metadata": {},
   "source": [
    "### Using `apply_ugrizy_templates.py` (Braga+ 2024)"
   ]
  },
  {
   "cell_type": "code",
   "execution_count": 5,
   "id": "ace88cfa-4c2c-4529-b474-cfe0ece0f915",
   "metadata": {},
   "outputs": [],
   "source": [
    "def mag_filter(image_ls):\n",
    "    return len(image_ls) > 3  # Returns True if good, False if bad\n",
    "\n",
    "def mjd_to_hjd(mjd, ra, dec, observatory='greenwich'):\n",
    "    \"\"\"\n",
    "    Convert MJD to Heliocentric Julian Date (HJD).\n",
    "    \n",
    "    Parameters:\n",
    "    - mjd: float, Modified Julian Date\n",
    "    - ra: float, Right Ascension in degrees\n",
    "    - dec: float, Declination in degrees\n",
    "    - observatory: str, Name of the observing location (default: Greenwich)\n",
    "    \n",
    "    Returns:\n",
    "    - HJD: float, Heliocentric Julian Date\n",
    "    \"\"\"\n",
    "    # Convert MJD to JD\n",
    "    time = Time(mjd, format='mjd', scale='utc')\n",
    "    \n",
    "    # Define the observatory location (default Greenwich, override if needed)\n",
    "    location = EarthLocation.of_site(observatory)\n",
    "    \n",
    "    # Define the celestial target coordinates\n",
    "    target = SkyCoord(ra=ra * u.deg, dec=dec * u.deg)\n",
    "    \n",
    "    # Get the Sun's position\n",
    "    light_time_correction = time.light_travel_time(target, 'heliocentric', location=location)\n",
    "    \n",
    "    # Apply correction to get HJD\n",
    "    hjd = time.tdb + light_time_correction\n",
    "    return hjd.jd\n",
    "\n",
    "def type_band(rr_type, band):\n",
    "    if rr_type == 'RRab':\n",
    "        pulsation_type = 0\n",
    "    else:\n",
    "        pulsation_type = 1\n",
    "\n",
    "    if band == 'g':\n",
    "        passband = 2\n",
    "    elif band == 'r':\n",
    "        passband = 3\n",
    "    elif band == 'i':\n",
    "        passband = 4\n",
    "\n",
    "    if pulsation_type == 0:\n",
    "        amplmaxs = {2: 1.8, 3: 1.5, 4: 1.1, 5: 1.1}\n",
    "        amplmins = {2: .2, 3: .15, 4: .1, 5: .1}\n",
    "        amplratio_ogle_to_use = 'Ampl(x)/Ampl(I)_ab'\n",
    "    else:\n",
    "        amplmaxs = {2: .9, 3: .7, 4: .55, 5: 1.1}\n",
    "        amplmins = {2: .1, 3: .05, 4: 0., 5: 0.}    \n",
    "        amplratio_ogle_to_use = 'Ampl(x)/Ampl(I)_c'\n",
    "\n",
    "    amplmax = amplmaxs[passband]\n",
    "    amplmin = amplmins[passband]\n",
    "        \n",
    "    return pulsation_type, passband, amplmax, amplmin\n",
    "\n",
    "def apply_light_curve_fit(data, file_coeff, t0=0):\n",
    "    obj, pulsation_period, rr_type, ra, dec, band, feh, feh_err, EBV, EBV_err, mu, mu_err = data[['object_id', 'Period', 'Type', 'RA', 'DEC','filter',\n",
    "                                                          \"[Fe/H]\", \"[Fe/H]_error\", \"E(B-V)\", \"E(B-V)_error\", \n",
    "                                                          \"Distance_modulus\", \"Distance_modulus_error\"]].iloc[0]\n",
    "    pulsation_type, passband, ampl_max, ampl_min = type_band(rr_type, band)\n",
    "    \n",
    "    mag  = np.asarray(data['mag_psf'])\n",
    "    err  = np.asarray(data['e_mag_psf'])\n",
    "    date = np.asarray(data['date'])\n",
    "\n",
    "    hjd = mjd_to_hjd(date, ra, dec)\n",
    "    try:\n",
    "        templatebin_int = apply_ugrizy_templates.find_templatebin(pulsation_type, \n",
    "                                                                  pulsation_period, \n",
    "                                                                  passband)[0]\n",
    "    \n",
    "        result_resample = apply_ugrizy_templates.apply_templatefit(hjd, mag, err,\n",
    "                                                    pulsation_type, pulsation_period, t0, passband, \n",
    "                                                    file_coeff, ampl=(ampl_max+ampl_min)/2,\n",
    "                                                    amplmax=ampl_max, amplmin=ampl_min, figure_out=f'{folder}/plot-lcfit/{obj}-{band}.pdf')\n",
    "        return {\n",
    "            \"object_id\": obj,\n",
    "            \"period\": pulsation_period,\n",
    "            \"type\": rr_type,\n",
    "            \"band\": band,\n",
    "            \"mean_mag\": result_resample['mag_mean'],\n",
    "            \"err_mag\": result_resample['errmag_mean'],\n",
    "            \"chi_squared\": result_resample['chisq'],\n",
    "            \"[Fe/H]\": feh,\n",
    "            \"[Fe/H]_error\": feh_err,\n",
    "            \"E(B-V)\": EBV,\n",
    "            \"E(B-V)_error\": EBV_err,\n",
    "            \"Distance_modulus\": mu,\n",
    "            \"Distance_modulus_error\": mu_err,\n",
    "        }\n",
    "        \n",
    "    except Exception as e:\n",
    "        return None"
   ]
  },
  {
   "cell_type": "code",
   "execution_count": 6,
   "id": "ccac1c85-d272-48bd-8d02-99ff36bb65e9",
   "metadata": {
    "scrolled": true
   },
   "outputs": [],
   "source": [
    "objid = np.unique(merged_df['object_id'])[:100]\n",
    "\n",
    "sample_dict = {f: {\"good\": [], \"bad\" : []} for f in [\"g\", \"r\", \"i\"]}\n",
    "\n",
    "for obj in objid:\n",
    "    current_target = merged_df[merged_df['object_id'] == obj]\n",
    "\n",
    "    # Process all filters in one loop\n",
    "    for band in [\"g\", \"r\", \"i\"]:\n",
    "        image_data = current_target[current_target['filter'] == band]\n",
    "        \n",
    "        # Classify sample into good or bad\n",
    "        category = \"good\" if mag_filter(image_data) else \"bad\"\n",
    "        sample_dict[band][category].append(image_data)"
   ]
  },
  {
   "cell_type": "code",
   "execution_count": 7,
   "id": "ac6a2f45-d84d-4bae-a3fe-501fe6f8345a",
   "metadata": {},
   "outputs": [],
   "source": [
    "folder = os.getcwd()+'/' #To be changed by the user\n",
    "file_coeff = folder+'templates_analytics_230901.csv'"
   ]
  },
  {
   "cell_type": "code",
   "execution_count": 8,
   "id": "837ef61b-d6ca-4548-bb07-70a7f08865a5",
   "metadata": {
    "scrolled": true
   },
   "outputs": [
    {
     "name": "stdout",
     "output_type": "stream",
     "text": [
      "CSV export complete: light_curve_results.csv\n",
      "Fitting time: 5.600935022000158\n"
     ]
    }
   ],
   "source": [
    "# Prepare the list of tasks\n",
    "tasks = []\n",
    "for band in [\"g\", \"r\", \"i\"]:\n",
    "    tasks.extend([(data, file_coeff) for data in sample_dict[band][\"good\"]])\n",
    "    \n",
    "start = timeit.default_timer()\n",
    "\n",
    "# Use multiprocessing to run tasks in parallel\n",
    "if __name__ == \"__main__\":\n",
    "    with mp.Pool(processes=mp.cpu_count()) as pool:  # Use all available CPU cores\n",
    "        results_list = pool.starmap(apply_light_curve_fit, tasks)\n",
    "\n",
    "    # Filter out None values (errors)\n",
    "    results_list = [res for res in results_list if res is not None]\n",
    "\n",
    "    # Convert results to a DataFrame and save to CSV\n",
    "    df_results = pd.DataFrame(results_list)\n",
    "    df_results.to_csv(\"light_curve_results.csv\", index=False, float_format=\"%.6f\")\n",
    "\n",
    "    print(\"CSV export complete: light_curve_results.csv\")\n",
    "\n",
    "stop = timeit.default_timer()\n",
    "\n",
    "print('Fitting time:', stop - start)"
   ]
  },
  {
   "cell_type": "markdown",
   "id": "c3b56c0f-4abb-4ebe-9d62-aee09b681449",
   "metadata": {},
   "source": [
    "## Plot"
   ]
  },
  {
   "cell_type": "code",
   "execution_count": 3,
   "id": "025e3e0b-5a52-4367-ba10-415419a40d94",
   "metadata": {},
   "outputs": [],
   "source": [
    "df = pd.read_csv(\"light_curve_results.csv\")"
   ]
  },
  {
   "cell_type": "code",
   "execution_count": 4,
   "id": "922deed8-a43f-4f73-9a29-72b280b40e26",
   "metadata": {},
   "outputs": [],
   "source": [
    "mg = (df['band'] == 'g') & ((df['chi_squared'] < 10) | (df['err_mag'] < 1))\n",
    "mr = (df['band'] == 'r') & ((df['chi_squared'] < 10) | (df['err_mag'] < 1))\n",
    "mi = (df['band'] == 'i') & ((df['chi_squared'] < 10) | (df['err_mag'] < 1))\n",
    "\n",
    "df_g = df[mg]\n",
    "df_r = df[mr]\n",
    "df_i = df[mi]"
   ]
  },
  {
   "cell_type": "code",
   "execution_count": null,
   "id": "9772c6f8-ae9f-42a2-bde2-c6a06caa0249",
   "metadata": {},
   "outputs": [],
   "source": []
  }
 ],
 "metadata": {
  "kernelspec": {
   "display_name": "Python 3 (ipykernel)",
   "language": "python",
   "name": "python3"
  },
  "language_info": {
   "codemirror_mode": {
    "name": "ipython",
    "version": 3
   },
   "file_extension": ".py",
   "mimetype": "text/x-python",
   "name": "python",
   "nbconvert_exporter": "python",
   "pygments_lexer": "ipython3",
   "version": "3.12.3"
  }
 },
 "nbformat": 4,
 "nbformat_minor": 5
}
