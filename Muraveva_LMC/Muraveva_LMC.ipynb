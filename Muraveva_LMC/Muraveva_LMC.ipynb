{
 "cells": [
  {
   "cell_type": "code",
   "execution_count": null,
   "id": "c81967f1-8ae3-4610-a71b-7ce0b4cfbfbe",
   "metadata": {},
   "outputs": [],
   "source": [
    "import os\n",
    "import sys\n",
    "\n",
    "import pandas as pd\n",
    "import numpy as np\n",
    "import matplotlib.pyplot as plt\n",
    "import multiprocessing as mp\n",
    "\n",
    "from astropy.coordinates import SkyCoord, Angle, EarthLocation, get_sun\n",
    "from astropy.io import ascii\n",
    "from astropy.table import join, Table, vstack\n",
    "from astropy.time import Time\n",
    "import astropy.units as u\n",
    "\n",
    "from astroquery.utils.tap.core import TapPlus\n",
    "\n",
    "import timeit"
   ]
  },
  {
   "cell_type": "code",
   "execution_count": null,
   "id": "75b0aa9e-b99a-4498-910e-c391ba7855c3",
   "metadata": {},
   "outputs": [],
   "source": [
    "Table_A2 = ascii.read(\"Table_A2.txt\")"
   ]
  },
  {
   "cell_type": "code",
   "execution_count": null,
   "id": "2c724d6a-4338-45ac-82fa-4b8ab35b6341",
   "metadata": {},
   "outputs": [],
   "source": [
    "upper_mu = 18.8\n",
    "lower_mu = 18.2\n",
    "mu_select = Table_A2[\n",
    "    (Table_A2[\"Distance_modulus\"] >= lower_mu) & \n",
    "    (Table_A2[\"Distance_modulus\"] <= upper_mu)\n",
    "]"
   ]
  },
  {
   "cell_type": "markdown",
   "id": "6a4b032e-b834-4986-a14f-be1f79f10202",
   "metadata": {
    "jp-MarkdownHeadingCollapsed": true
   },
   "source": [
    "## Circular cut based on coordinates from catalogue"
   ]
  },
  {
   "cell_type": "markdown",
   "id": "0faa00c4-250d-4944-ad45-c243dc12790e",
   "metadata": {},
   "source": [
    "### A-1: From intact catalogue"
   ]
  },
  {
   "cell_type": "code",
   "execution_count": null,
   "id": "fa7292a3-ee0b-4763-9280-11c58c0c4f58",
   "metadata": {},
   "outputs": [],
   "source": [
    "lmc_center = SkyCoord(ra=80.894167*u.degree, dec=-69.756111*u.degree, frame='icrs')\n",
    "radius = 5* u.degree\n",
    "\n",
    "data_coords = SkyCoord(ra=Table_A2[\"RA\"]*u.degree, dec=Table_A2[\"DEC\"]*u.degree, frame='icrs')\n",
    "\n",
    "# Compute the separation angular separation from LMC\n",
    "sep = data_coords.separation(lmc_center)\n",
    "circular_data = Table_A2[sep < radius]"
   ]
  },
  {
   "cell_type": "markdown",
   "id": "675704da-13ab-422a-9155-e2fb631da417",
   "metadata": {},
   "source": [
    "### A-2: From $\\mu$-filtered catalogue"
   ]
  },
  {
   "cell_type": "code",
   "execution_count": null,
   "id": "01f29c15-cbc8-4274-a97e-7e188e4e53de",
   "metadata": {},
   "outputs": [],
   "source": [
    "data_coords = SkyCoord(ra=mu_select[\"RA\"]*u.degree, dec=mu_select[\"DEC\"]*u.degree, frame='icrs')\n",
    "\n",
    "sep = data_coords.separation(lmc_center)\n",
    "\n",
    "mu_cut_data = mu_select[sep<radius]"
   ]
  },
  {
   "cell_type": "markdown",
   "id": "3e3f0c99-76f1-4745-8420-0efa98b76351",
   "metadata": {
    "jp-MarkdownHeadingCollapsed": true
   },
   "source": [
    "## Comparism: ML and coordinate cuts"
   ]
  },
  {
   "cell_type": "code",
   "execution_count": null,
   "id": "b5e5a597-1e6d-4c8e-bd8d-41a2b3a0224c",
   "metadata": {},
   "outputs": [],
   "source": [
    "mu18_ra  = mu_select[\"RA\"] \n",
    "mu18_dec = mu_select[\"DEC\"]\n",
    "\n",
    "# ML_ra =  mu18_ra[cluster_0]\n",
    "# ML_dec = mu18_dec[cluster_0]\n",
    "\n",
    "CircularCut_ra  = circular_data[\"RA\"]\n",
    "CircularCut_dec = circular_data[\"DEC\"]\n",
    "\n",
    "CircularMu_ra  = mu_cut_data[\"RA\"]\n",
    "CircularMu_dec = mu_cut_data[\"DEC\"]"
   ]
  },
  {
   "cell_type": "code",
   "execution_count": null,
   "id": "b93f9c2e-52ee-407c-9da4-d6dcf034633e",
   "metadata": {},
   "outputs": [],
   "source": [
    "plt.figure(figsize=(8, 6))\n",
    "# plt.scatter(mu18_ra, mu18_dec, s=10, color='gray', marker='o', alpha=0.3, label=\"Sources\")\n",
    "# plt.scatter(ML_ra, ML_dec, s=10, color='red', marker='o', alpha=0.3, label=\"Sources\")\n",
    "plt.scatter(CircularCut_ra, CircularCut_dec, s=10, color='blue', marker='o', alpha=0.3, label=\"Sources\")\n",
    "plt.scatter(CircularMu_ra, CircularMu_dec, s=10, color='green', marker='o', alpha=0.3, label=\"Sources\")\n",
    "plt.grid(True)"
   ]
  },
  {
   "cell_type": "code",
   "execution_count": null,
   "id": "9fbbcc5a-a85f-47c1-8c52-6d3dba5b22fb",
   "metadata": {},
   "outputs": [],
   "source": [
    "print(\"DBSCAN sample:\", len(ML_ra))\n",
    "print(\"Circular cut sample:\", len(CircularCut_ra))\n",
    "print(\"Circular cut + mu sample:\", len(CircularMu_ra))"
   ]
  },
  {
   "cell_type": "markdown",
   "id": "c2634a35-8c19-4461-af02-743fceb3dcd9",
   "metadata": {
    "jp-MarkdownHeadingCollapsed": true
   },
   "source": [
    "## Export Table"
   ]
  },
  {
   "cell_type": "code",
   "execution_count": null,
   "id": "dc7b30e0-f039-4ef0-a2b6-f8a20264c111",
   "metadata": {},
   "outputs": [],
   "source": [
    "mu_cut_data.write('Muraveva_LMC-gaia_ID.csv', format='csv', overwrite=True)"
   ]
  },
  {
   "cell_type": "markdown",
   "id": "4607f2ad-d84d-456b-9263-5f18c719636e",
   "metadata": {
    "jp-MarkdownHeadingCollapsed": true
   },
   "source": [
    "## Query SkyMapper DR4"
   ]
  },
  {
   "cell_type": "code",
   "execution_count": null,
   "id": "6324865c-ec5b-4cce-bd1c-5d6f72af50a1",
   "metadata": {},
   "outputs": [],
   "source": [
    "gaia_id = ascii.read(\"Muraveva_LMC-gaia_ID.csv\")\n",
    "SkyMapper = TapPlus(url=\"https://api.skymapper.nci.org.au/public/tap/\")"
   ]
  },
  {
   "cell_type": "markdown",
   "id": "109a9d90-9932-444a-8138-65bb4860277c",
   "metadata": {
    "jp-MarkdownHeadingCollapsed": true
   },
   "source": [
    "### Query `object_id`"
   ]
  },
  {
   "cell_type": "code",
   "execution_count": null,
   "id": "8d95d4ce-02d3-4797-8e9c-95713cc82c1e",
   "metadata": {},
   "outputs": [],
   "source": [
    "test_list = gaia_id[0:1000]\n",
    "\n",
    "print(\"Begin query SMSS object ID\")\n",
    "\n",
    "id_table = Table(names=[\"object_id\", \"gaia_dr3_id1\", \"raj2000\", \"dej2000\"], dtype=[\"int64\", \"int64\", \"float64\", \"float64\"])\n",
    "start = timeit.default_timer()\n",
    "\n",
    "for (gaia_id, ra, dec) in zip(test_list[\"source_id\"], test_list[\"RA\"], test_list[\"DEC\"]):\n",
    "    #print(f\"Querying GAIA id: {gaia_id}\")\n",
    "    prompt = f\"\"\"\n",
    "    SELECT\n",
    "        object_id, gaia_dr3_id1, raj2000, dej2000\n",
    "        FROM\n",
    "            dr4.master \n",
    "        WHERE \n",
    "            1=CONTAINS(POINT('ICRS', raj2000, dej2000),\n",
    "                       CIRCLE('ICRS', {ra}, {dec}, 0.1 ))\n",
    "            AND gaia_dr3_id1={gaia_id}\n",
    "    \"\"\"\n",
    "    \n",
    "    job = SkyMapper.launch_job(prompt)\n",
    "    result = job.get_data()\n",
    "\n",
    "    if len(result) == 1:\n",
    "        #print(\"SMSS ID:\",result['object_id'][0])\n",
    "        id_table = vstack([id_table, result])\n",
    "    #else:\n",
    "        #print(\"! No result qureied from GAIA ID\")\n",
    "    #print(\"=========================\")\n",
    "\n",
    "stop = timeit.default_timer()\n",
    "print(\"Done SMSS object ID query\")\n",
    "print('Time: ', stop - start)\n",
    "print('Total', len(id_table), \"SMSS ID queried from GAIA DR3 object ID\")"
   ]
  },
  {
   "cell_type": "markdown",
   "id": "a264a21d-5ab1-4f44-89a4-2c7ae0d5b896",
   "metadata": {
    "jp-MarkdownHeadingCollapsed": true
   },
   "source": [
    "### Query `object_id` (w/ `multiprocessing`)"
   ]
  },
  {
   "cell_type": "code",
   "execution_count": null,
   "id": "da98c06d-97f2-4338-af71-41bacf808dd0",
   "metadata": {},
   "outputs": [],
   "source": [
    "# Select first 5000 entries for querying\n",
    "test_list = gaia_id[0:1000]\n",
    "\n",
    "# Initialize an empty table to store results\n",
    "id_table = Table(names=[\"object_id\", \"gaia_dr3_id1\", \"raj2000\", \"dej2000\"], \n",
    "                 dtype=[\"int64\", \"int64\", \"float64\", \"float64\"])\n",
    "\n",
    "def query_skymapper(gaia_id, ra, dec):\n",
    "    prompt = f\"\"\"\n",
    "    SELECT\n",
    "        object_id, gaia_dr3_id1, raj2000, dej2000\n",
    "    FROM\n",
    "        dr4.master \n",
    "    WHERE \n",
    "        1=CONTAINS(POINT('ICRS', raj2000, dej2000),\n",
    "                   CIRCLE('ICRS', {ra}, {dec}, 0.1 ))\n",
    "        AND gaia_dr3_id1={gaia_id}\n",
    "    \"\"\"\n",
    "    try:\n",
    "        job = SkyMapper.launch_job(prompt)\n",
    "        result = job.get_data()\n",
    "        if len(result) == 1:\n",
    "            return result\n",
    "    except Exception as e:\n",
    "        print(f\"Query failed for GAIA ID {gaia_id}: {e}\")\n",
    "    return None\n",
    "\n",
    "print(\"Begin query SMSS object ID\")\n",
    "start = timeit.default_timer()\n",
    "\n",
    "num_workers = mp.cpu_count()  # Use all available CPU cores\n",
    "with mp.Pool(processes=num_workers) as pool:\n",
    "    results = pool.starmap(query_skymapper, zip(test_list[\"source_id\"], test_list[\"RA\"], test_list[\"DEC\"]))\n",
    "\n",
    "# Filter out None results and merge tables\n",
    "valid_results = [r for r in results if r is not None]\n",
    "if valid_results:\n",
    "    id_table = vstack(valid_results)\n",
    "\n",
    "stop = timeit.default_timer()\n",
    "print(\"Done SMSS object ID query\")\n",
    "print('Time:', stop - start)\n",
    "print('Total', len(id_table), \"SMSS ID queried from GAIA DR3 object ID\")\n",
    "\n",
    "# Save results to CSV\n",
    "id_table.write(\"SMSS_results.csv\", format=\"csv\", overwrite=True)\n",
    "print(\"Results saved to 'SMSS_results.csv'\")"
   ]
  },
  {
   "cell_type": "markdown",
   "id": "abd58388-746d-4b34-b781-29edafef302e",
   "metadata": {
    "jp-MarkdownHeadingCollapsed": true
   },
   "source": [
    "### Query `image_id`"
   ]
  },
  {
   "cell_type": "code",
   "execution_count": null,
   "id": "bf9959a5-939a-4edb-9e4d-e75787048337",
   "metadata": {},
   "outputs": [],
   "source": [
    "smss_id = ascii.read(\"Muraveva_LMC-smss_ID.csv\")\n",
    "test_list = smss_id[0:100]"
   ]
  },
  {
   "cell_type": "code",
   "execution_count": null,
   "id": "e2a1432e-277d-451b-85a4-b22543f23eea",
   "metadata": {
    "scrolled": true
   },
   "outputs": [],
   "source": [
    "image_id = Table(names=[\"object_id\", \"image_id\", \"ra_img\", \"decl_img\", \"filter\", \"mag_psf\", \"e_mag_psf\", \"date\", \"exp_time\", \"flags\"], dtype=[\"int64\", \"int64\", \"float64\", \"float64\", \"str\", \"float32\", \"float32\", \"float64\", \"float32\", \"int16\"])\n",
    "\n",
    "print(\"Begin query SMSS photometry\")\n",
    "start = timeit.default_timer()\n",
    "\n",
    "for ID in test_list['object_id']:\n",
    "    prompt = f\"\"\"\n",
    "    SELECT\n",
    "        object_id, image_id, ra_img, decl_img, f.filter, mag_psf, e_mag_psf, date, exp_time, flags\n",
    "        FROM\n",
    "            dr4.photometry f\n",
    "        JOIN\n",
    "            dr4.images USING (image_id)\n",
    "        WHERE\n",
    "            object_id={ID}\n",
    "            AND f.filter IN ('g', 'r', 'i')\n",
    "    \"\"\"\n",
    "    job = SkyMapper.launch_job(prompt)\n",
    "    result = job.get_results()\n",
    "    \n",
    "    image_id = vstack([image_id, result])\n",
    "\n",
    "stop = timeit.default_timer()\n",
    "print(\"Done SMSS query\")\n",
    "print('Query time:', stop - start)\n",
    "\n",
    "image_id.write('Muraveva_LMC-smss_photometry.csv', format='csv', overwrite=True)"
   ]
  },
  {
   "cell_type": "markdown",
   "id": "0ce8b0e5-b07c-4a11-89b7-ece4e54dfb79",
   "metadata": {
    "jp-MarkdownHeadingCollapsed": true
   },
   "source": [
    "### Query `image_id` (w/ `multiprocessing`)"
   ]
  },
  {
   "cell_type": "code",
   "execution_count": null,
   "id": "edba0f86-3f0e-4eb9-8d4e-1e4f683547f4",
   "metadata": {},
   "outputs": [],
   "source": [
    "image_id = Table(names=[\"object_id\", \"image_id\", \"ra_img\", \"decl_img\", \"filter\", \"mag_psf\", \"e_mag_psf\", \"date\", \"exp_time\", \"flags\"], \n",
    "                 dtype=[\"int64\", \"int64\", \"float64\", \"float64\", \"str\", \"float32\", \"float32\", \"float64\", \"float32\", \"int16\"])\n",
    "\n",
    "def query_photometry(object_id):\n",
    "    prompt = f\"\"\"\n",
    "    SELECT\n",
    "        object_id, image_id, ra_img, decl_img, f.filter, mag_psf, e_mag_psf, date, exp_time, flags\n",
    "    FROM\n",
    "        dr4.photometry f\n",
    "    JOIN\n",
    "        dr4.images USING (image_id)\n",
    "    WHERE\n",
    "        object_id={object_id}\n",
    "        AND f.filter IN ('g', 'r', 'i')\n",
    "    \"\"\"\n",
    "    try:\n",
    "        job = SkyMapper.launch_job(prompt)\n",
    "        result = job.get_results()\n",
    "        if len(result) > 0:\n",
    "            return result  # Return results only if there's data\n",
    "    except Exception as e:\n",
    "        print(f\"Query failed for object_id {object_id}: {e}\")\n",
    "    return None  # Return None if the query fails\n",
    "\n",
    "print(\"Begin query SMSS photometry\")\n",
    "start = timeit.default_timer()\n",
    "\n",
    "num_workers = mp.cpu_count()  # Use all available CPU cores\n",
    "with mp.Pool(processes=num_workers) as pool:\n",
    "    results = pool.map(query_photometry, test_list['object_id'])\n",
    "\n",
    "# Filter out None results and merge tables\n",
    "valid_results = [r for r in results if r is not None]\n",
    "if valid_results:\n",
    "    image_id = vstack(valid_results)\n",
    "\n",
    "stop = timeit.default_timer()\n",
    "print(\"Done SMSS query\")\n",
    "print('Query time:', stop - start)\n",
    "print(f'Total {len(image_id)} photometric entries retrieved.')"
   ]
  },
  {
   "cell_type": "markdown",
   "id": "cf15caff-d479-4daa-b200-c7a39a590af5",
   "metadata": {
    "jp-MarkdownHeadingCollapsed": true
   },
   "source": [
    "## Light-curve-template fitting"
   ]
  },
  {
   "cell_type": "markdown",
   "id": "6a5bae85-cabc-4663-9a76-fa48c7c9d615",
   "metadata": {},
   "source": [
    "### modify and match id from the files"
   ]
  },
  {
   "cell_type": "code",
   "execution_count": null,
   "id": "ca25b986-3cb7-4988-9c2f-fc2cd09efefc",
   "metadata": {},
   "outputs": [],
   "source": [
    "import pandas as pd\n",
    "import numpy as np\n",
    "import apply_ugrizy_templates\n",
    "\n",
    "# Load only required columns (if applicable) and limit rows for test cases\n",
    "muraveva_df = pd.read_csv(\"Muraveva_LMC-gaia_ID.csv\", usecols=[\"source_id\", \"RA\", \"DEC\", \"Type\",\n",
    "                                                               \"Period\", \"[Fe/H]\", \"[Fe/H]_error\", \n",
    "                                                               \"E(B-V)\", \"E(B-V)_error\", \n",
    "                                                               \"Distance_modulus\", \"Distance_modulus_error\"])\n",
    "objid_df    = pd.read_csv(\"Muraveva_LMC-smss_ID.csv\", usecols=[\"object_id\", \"gaia_dr3_id1\"])\n",
    "imageid_df  = pd.read_csv(\"Muraveva_LMC-smss_photometry.csv\")\n",
    "\n",
    "# Rename columns while reading (avoiding extra reassignment)\n",
    "muraveva_df.rename(columns={'source_id': 'gaia_dr3_id1'}, inplace=True)\n",
    "\n",
    "# Merge tables efficiently\n",
    "merged_df = objid_df.merge(muraveva_df, on='gaia_dr3_id1', how=\"inner\") \\\n",
    "                    .merge(imageid_df, on='object_id', how=\"inner\")"
   ]
  },
  {
   "cell_type": "markdown",
   "id": "28046461-980a-4101-90aa-71d1b8e225bf",
   "metadata": {},
   "source": [
    "### Using `apply_ugrizy_templates.py` (Braga+ 2024)"
   ]
  },
  {
   "cell_type": "code",
   "execution_count": null,
   "id": "ace88cfa-4c2c-4529-b474-cfe0ece0f915",
   "metadata": {},
   "outputs": [],
   "source": [
    "def mag_filter(image_ls):\n",
    "    return len(image_ls) > 3  # Returns True if good, False if bad\n",
    "\n",
    "def mjd_to_hjd(mjd, ra, dec, observatory='greenwich'):\n",
    "    \"\"\"\n",
    "    Convert MJD to Heliocentric Julian Date (HJD).\n",
    "    \n",
    "    Parameters:\n",
    "    - mjd: float, Modified Julian Date\n",
    "    - ra: float, Right Ascension in degrees\n",
    "    - dec: float, Declination in degrees\n",
    "    - observatory: str, Name of the observing location (default: Greenwich)\n",
    "    \n",
    "    Returns:\n",
    "    - HJD: float, Heliocentric Julian Date\n",
    "    \"\"\"\n",
    "    # Convert MJD to JD\n",
    "    time = Time(mjd, format='mjd', scale='utc')\n",
    "    \n",
    "    # Define the observatory location (default Greenwich, override if needed)\n",
    "    location = EarthLocation.of_site(observatory)\n",
    "    \n",
    "    # Define the celestial target coordinates\n",
    "    target = SkyCoord(ra=ra * u.deg, dec=dec * u.deg)\n",
    "    \n",
    "    # Get the Sun's position\n",
    "    light_time_correction = time.light_travel_time(target, 'heliocentric', location=location)\n",
    "    \n",
    "    # Apply correction to get HJD\n",
    "    hjd = time.tdb + light_time_correction\n",
    "    return hjd.jd\n",
    "\n",
    "def type_band(rr_type, band):\n",
    "    if rr_type == 'RRab':\n",
    "        pulsation_type = 0\n",
    "    else:\n",
    "        pulsation_type = 1\n",
    "\n",
    "    if band == 'g':\n",
    "        passband = 2\n",
    "    elif band == 'r':\n",
    "        passband = 3\n",
    "    elif band == 'i':\n",
    "        passband = 4\n",
    "\n",
    "    if pulsation_type == 0:\n",
    "        amplmaxs = {2: 1.8, 3: 1.5, 4: 1.1, 5: 1.1}\n",
    "        amplmins = {2: .2, 3: .15, 4: .1, 5: .1}\n",
    "        amplratio_ogle_to_use = 'Ampl(x)/Ampl(I)_ab'\n",
    "    else:\n",
    "        amplmaxs = {2: .9, 3: .7, 4: .55, 5: 1.1}\n",
    "        amplmins = {2: .1, 3: .05, 4: 0., 5: 0.}    \n",
    "        amplratio_ogle_to_use = 'Ampl(x)/Ampl(I)_c'\n",
    "\n",
    "    amplmax = amplmaxs[passband]\n",
    "    amplmin = amplmins[passband]\n",
    "        \n",
    "    return pulsation_type, passband, amplmax, amplmin\n",
    "\n",
    "def apply_light_curve_fit(data, file_coeff, t0=0):\n",
    "    obj, pulsation_period, rr_type, ra, dec, band, feh, feh_err, EBV, EBV_err, mu, mu_err = data[['object_id', 'Period', 'Type', 'RA', 'DEC','filter',\n",
    "                                                          \"[Fe/H]\", \"[Fe/H]_error\", \"E(B-V)\", \"E(B-V)_error\", \n",
    "                                                          \"Distance_modulus\", \"Distance_modulus_error\"]].iloc[0]\n",
    "    pulsation_type, passband, ampl_max, ampl_min = type_band(rr_type, band)\n",
    "    \n",
    "    mag  = np.asarray(data['mag_psf'])\n",
    "    err  = np.asarray(data['e_mag_psf'])\n",
    "    date = np.asarray(data['date'])\n",
    "\n",
    "    hjd = mjd_to_hjd(date, ra, dec)\n",
    "    try:\n",
    "        templatebin_int = apply_ugrizy_templates.find_templatebin(pulsation_type, \n",
    "                                                                  pulsation_period, \n",
    "                                                                  passband)[0]\n",
    "    \n",
    "        result_resample = apply_ugrizy_templates.apply_templatefit(hjd, mag, err,\n",
    "                                                    pulsation_type, pulsation_period, t0, passband, \n",
    "                                                    file_coeff, ampl=(ampl_max+ampl_min)/2,\n",
    "                                                    amplmax=ampl_max, amplmin=ampl_min, figure_out=f'{folder}/plot-lcfit/{obj}-{band}.pdf')\n",
    "        return {\n",
    "            \"object_id\": obj,\n",
    "            \"period\": pulsation_period,\n",
    "            \"type\": rr_type,\n",
    "            \"band\": band,\n",
    "            \"mean_mag\": result_resample['mag_mean'],\n",
    "            \"err_mag\": result_resample['errmag_mean'],\n",
    "            \"chi_squared\": result_resample['chisq'],\n",
    "            \"N_image\": len(mag),\n",
    "            \"psf_mags\": mag,\n",
    "            \"[Fe/H]\": feh,\n",
    "            \"[Fe/H]_error\": feh_err,\n",
    "            \"E(B-V)\": EBV,\n",
    "            \"E(B-V)_error\": EBV_err,\n",
    "            \"Distance_modulus\": mu,\n",
    "            \"Distance_modulus_error\": mu_err,\n",
    "        }\n",
    "        \n",
    "    except Exception as e:\n",
    "        return None"
   ]
  },
  {
   "cell_type": "code",
   "execution_count": null,
   "id": "ccac1c85-d272-48bd-8d02-99ff36bb65e9",
   "metadata": {
    "scrolled": true
   },
   "outputs": [],
   "source": [
    "objid = np.unique(merged_df['object_id'])[:100]\n",
    "\n",
    "sample_dict = {f: {\"good\": [], \"bad\" : []} for f in [\"g\", \"r\", \"i\"]}\n",
    "\n",
    "for obj in objid:\n",
    "    current_target = merged_df[merged_df['object_id'] == obj]\n",
    "\n",
    "    # Process all filters in one loop\n",
    "    for band in [\"g\", \"r\", \"i\"]:\n",
    "        image_data = current_target[current_target['filter'] == band]\n",
    "        \n",
    "        # Classify sample into good or bad\n",
    "        category = \"good\" if mag_filter(image_data) else \"bad\"\n",
    "        sample_dict[band][category].append(image_data)"
   ]
  },
  {
   "cell_type": "code",
   "execution_count": null,
   "id": "ac6a2f45-d84d-4bae-a3fe-501fe6f8345a",
   "metadata": {},
   "outputs": [],
   "source": [
    "folder = os.getcwd()+'/' #To be changed by the user\n",
    "file_coeff = folder+'templates_analytics_230901.csv'"
   ]
  },
  {
   "cell_type": "code",
   "execution_count": null,
   "id": "837ef61b-d6ca-4548-bb07-70a7f08865a5",
   "metadata": {
    "scrolled": true
   },
   "outputs": [],
   "source": [
    "# Prepare the list of tasks\n",
    "tasks = []\n",
    "for band in [\"g\", \"r\", \"i\"]:\n",
    "    tasks.extend([(data, file_coeff) for data in sample_dict[band][\"good\"]])\n",
    "    \n",
    "start = timeit.default_timer()\n",
    "\n",
    "# Use multiprocessing to run tasks in parallel\n",
    "if __name__ == \"__main__\":\n",
    "    with mp.Pool(processes=mp.cpu_count()) as pool:  # Use all available CPU cores\n",
    "        results_list = pool.starmap(apply_light_curve_fit, tasks)\n",
    "\n",
    "    # Filter out None values (errors)\n",
    "    results_list = [res for res in results_list if res is not None]\n",
    "\n",
    "    # Convert results to a DataFrame and save to CSV\n",
    "    df_results = pd.DataFrame(results_list)\n",
    "    df_results.to_csv(\"light_curve_results.csv\", index=False, float_format=\"%.6f\")\n",
    "\n",
    "    print(\"CSV export complete: light_curve_results.csv\")\n",
    "\n",
    "stop = timeit.default_timer()\n",
    "\n",
    "print('Fitting time:', stop - start)"
   ]
  },
  {
   "cell_type": "markdown",
   "id": "c3b56c0f-4abb-4ebe-9d62-aee09b681449",
   "metadata": {},
   "source": [
    "## Plot"
   ]
  },
  {
   "cell_type": "code",
   "execution_count": null,
   "id": "922deed8-a43f-4f73-9a29-72b280b40e26",
   "metadata": {},
   "outputs": [],
   "source": [
    "import pandas as pd\n",
    "import numpy as np\n",
    "import matplotlib.pyplot as plt\n",
    "\n",
    "mu_true = 18.477\n",
    "\n",
    "data = pd.read_csv(\"light_curve_results.csv\")\n",
    "\n",
    "R = {\"g\": 3.518, \"r\": 2.617, \"i\": 1.971}\n",
    "\n",
    "mg = data['band'] == 'g'\n",
    "mr = data['band'] == 'r'\n",
    "mi = data['band'] == 'i'\n",
    "\n",
    "mab = data['type'] == 'RRab'\n",
    "mc  = data['type'] == 'RRc'\n",
    "\n",
    "logP = np.log10(data['period'])\n",
    "m_feh  = data['[Fe/H]'].values\n",
    "\n",
    "data['mag_0'] = data['mean_mag'] - data['band'].map(R) * data['E(B-V)']\n",
    "data['Mag'] = data['mag_0'] - data['Distance_modulus']\n",
    "\n",
    "good    = data['err_mag'] < 0.5\n",
    "img_N   = data['N_image'].values\n",
    "d_free  = img_N - 3\n",
    "chi_squ = data['chi_squared'].values\n",
    "reduced_chi = chi_squ / d_free\n",
    "well_fit    = (reduced_chi<2) & (reduced_chi>0.5)"
   ]
  },
  {
   "cell_type": "markdown",
   "id": "816e7d08-abad-47a2-84c6-945fefcd18b8",
   "metadata": {},
   "source": [
    "### PLZ for RR0, RR1, and RR0+RR1"
   ]
  },
  {
   "cell_type": "code",
   "execution_count": null,
   "id": "90d2e0e0-99b4-4758-bb6e-0de0477c91c7",
   "metadata": {
    "jupyter": {
     "source_hidden": true
    }
   },
   "outputs": [],
   "source": [
    "mag_masks = {\n",
    "    \"RR0\": {\n",
    "        \"g\": mab & mg & good & well_fit,\n",
    "        \"r\": mab & mr & good & well_fit,\n",
    "        \"i\": mab & mi & good & well_fit\n",
    "    },\n",
    "    \"RR1\": {\n",
    "        \"g\": mc & mg,\n",
    "        \"r\": mc & mr,\n",
    "        \"i\": mc & mi\n",
    "    },\n",
    "    \"RR0+RR1\": {\n",
    "        \"g\": [mab & mg & good & well_fit, mc & mg & good & well_fit] ,\n",
    "        \"r\": [mab & mr & good & well_fit, mc & mr & good & well_fit],\n",
    "        \"i\": [mab & mi & good & well_fit, mc & mi & good & well_fit]\n",
    "    }\n",
    "}"
   ]
  },
  {
   "cell_type": "code",
   "execution_count": null,
   "id": "bf4a6a93-e193-4267-86bd-d35a12c92fa4",
   "metadata": {
    "jupyter": {
     "source_hidden": true
    }
   },
   "outputs": [],
   "source": [
    "Ng22_PLZcoeffs = {\n",
    "    'g': {'RR0':     {'a':  0.649, 'b': -0.302, 'c': 0.159}, \n",
    "          'RR1':     {'a':  0.411, 'b': -0.342, 'c': 0.092},\n",
    "          'RR0+RR1': {'a':  0.801, 'b': -0.032, 'c': 0.190}},\n",
    "    'r': {'RR0':     {'a':  0.337, 'b': -1.090, 'c': 0.139}, \n",
    "          'RR1':     {'a': -0.082, 'b': -1.393, 'c': 0.091},\n",
    "          'RR0+RR1': {'a':  0.432, 'b': -0.874, 'c': 0.154}},\n",
    "    'i': {'RR0':     {'a':  0.243, 'b': -1.432, 'c': 0.144}, \n",
    "          'RR1':     {'a': -0.205, 'b': -1.706, 'c': 0.077},\n",
    "          'RR0+RR1': {'a':  0.249, 'b': -1.362, 'c': 0.115}}\n",
    "}\n",
    "\n",
    "Na24_PLcoeffs01 = { # Parallax\n",
    "    'g': {'RR0':     {'a':  -2.242, 'b': 0.805, 'c': 0}, \n",
    "          'RR1':     {'a':  -1.984, 'b': 0.605, 'c': 0},\n",
    "          'RR0+RR1': {'a':  -1.500, 'b': 0.773, 'c': 0}},\n",
    "    'r': {'RR0':     {'a':  -2.528, 'b': 0.660, 'c': 0}, \n",
    "          'RR1':     {'a':  -2.266, 'b': 0.557, 'c': 0},\n",
    "          'RR0+RR1': {'a':  -1.929, 'b': 0.634, 'c': 0}},\n",
    "    'i': {'RR0':     {'a':  -2.799, 'b': 0.642, 'c': 0}, \n",
    "          'RR1':     {'a':  -2.393, 'b': 0.598, 'c': 0},\n",
    "          'RR0+RR1': {'a':  -2.249, 'b': 0.619, 'c': 0}}\n",
    "}\n",
    "\n",
    "Na24_PLcoeffs02 = { # ABL\n",
    "    'g': {'RR0':     {'a':  -2.318, 'b': 0.810, 'c': 0}, \n",
    "          'RR1':     {'a':  -1.862, 'b': 0.615, 'c': 0},\n",
    "          'RR0+RR1': {'a':  -1.506, 'b': 0.783, 'c': 0}},\n",
    "    'r': {'RR0':     {'a':  -2.594, 'b': 0.663, 'c': 0}, \n",
    "          'RR1':     {'a':  -2.143, 'b': 0.566, 'c': 0},\n",
    "          'RR0+RR1': {'a':  -1.918, 'b': 0.641, 'c': 0}},\n",
    "    'i': {'RR0':     {'a':  -2.870, 'b': 0.644, 'c': 0}, \n",
    "          'RR1':     {'a':  -2.280, 'b': 0.606, 'c': 0},\n",
    "          'RR0+RR1': {'a':  -2.230, 'b': 0.626, 'c': 0}}\n",
    "}\n",
    "Na24_PLcoeffs03 = { # Geometric Distance\n",
    "    'g': {'RR0':     {'a':  -2.162, 'b': 0.802, 'c': 0}, \n",
    "          'RR1':     {'a':  -1.983, 'b': 0.604, 'c': 0},\n",
    "          'RR0+RR1': {'a':  -1.448, 'b': 0.771, 'c': 0}},\n",
    "    'r': {'RR0':     {'a':  -2.447, 'b': 0.657, 'c': 0}, \n",
    "          'RR1':     {'a':  -2.266, 'b': 0.556, 'c': 0},\n",
    "          'RR0+RR1': {'a':  -1.878, 'b': 0.633, 'c': 0}},\n",
    "    'i': {'RR0':     {'a':  -2.718, 'b': 0.639, 'c': 0}, \n",
    "          'RR1':     {'a':  -2.392, 'b': 0.597, 'c': 0},\n",
    "          'RR0+RR1': {'a':  -2.197, 'b': 0.618, 'c': 0}}\n",
    "}\n",
    "Na24_PLcoeffs04 = { # Photo-geometric distance\n",
    "    'g': {'RR0':     {'a':  -2.179, 'b': 0.803, 'c': 0}, \n",
    "          'RR1':     {'a':  -2.035, 'b': 0.607, 'c': 0},\n",
    "          'RR0+RR1': {'a':  -1.462, 'b': 0.771, 'c': 0}},\n",
    "    'r': {'RR0':     {'a':  -2.465, 'b': 0.658, 'c': 0}, \n",
    "          'RR1':     {'a':  -2.317, 'b': 0.558, 'c': 0},\n",
    "          'RR0+RR1': {'a':  -1.891, 'b': 0.633, 'c': 0}},\n",
    "    'i': {'RR0':     {'a':  -2.736, 'b': 0.640, 'c': 0}, \n",
    "          'RR1':     {'a':  -2.444, 'b': 0.599, 'c': 0},\n",
    "          'RR0+RR1': {'a':  -2.211, 'b': 0.618, 'c': 0}}\n",
    "}\n",
    "\n",
    "Na24_PLZcoeffs01 = { # Parallax\n",
    "    'g': {'RR0':     {'a':  -0.527, 'b': 0.794, 'c': 0.264}, \n",
    "          'RR0+RR1': {'a':  -0.284, 'b': 0.791, 'c': 0.289}},\n",
    "    'r': {'RR0':     {'a':  -1.230, 'b': 0.651, 'c': 0.205}, \n",
    "          'RR0+RR1': {'a':  -1.017, 'b': 0.650, 'c': 0.228}},\n",
    "    'i': {'RR0':     {'a':  -1.682, 'b': 0.635, 'c': 0.174}, \n",
    "          'RR0+RR1': {'a':  -1.469, 'b': 0.633, 'c': 0.198}}\n",
    "}\n",
    "\n",
    "Na24_PLZcoeffs02 = { # ABL\n",
    "    'g': {'RR0':     {'a':  -0.503, 'b': 0.798, 'c': 0.266}, \n",
    "          'RR0+RR1': {'a':  -0.290, 'b': 0.795, 'c': 0.290}},\n",
    "    'r': {'RR0':     {'a':  -1.227, 'b': 0.655, 'c': 0.204}, \n",
    "          'RR0+RR1': {'a':  -1.031, 'b': 0.652, 'c': 0.227}},\n",
    "    'i': {'RR0':     {'a':  -1.673, 'b': 0.638, 'c': 0.175}, \n",
    "          'RR0+RR1': {'a':  -1.479, 'b': 0.635, 'c': 0.197}}\n",
    "}\n",
    "\n",
    "Na24_PLZcoeffs03 = { # Geometric Distance\n",
    "    'g': {'RR0':     {'a':  -0.389, 'b': 0.792, 'c': 0.267}, \n",
    "          'RR0+RR1': {'a':  -0.217, 'b': 0.790, 'c': 0.285}},\n",
    "    'r': {'RR0':     {'a':  -1.092, 'b': 0.650, 'c': 0.208}, \n",
    "          'RR0+RR1': {'a':  -0.950, 'b': 0.648, 'c': 0.223}},\n",
    "    'i': {'RR0':     {'a':  -1.544, 'b': 0.633, 'c': 0.177}, \n",
    "          'RR0+RR1': {'a':  -1.402, 'b': 0.632, 'c': 0.193}}\n",
    "}\n",
    "\n",
    "Na24_PLZcoeffs04 = { # Geometric Distance\n",
    "    'g': {'RR0':     {'a':  -0.473, 'b': 0.791, 'c': 0.257}, \n",
    "          'RR0+RR1': {'a':  -0.260, 'b': 0.789, 'c': 0.280}},\n",
    "    'r': {'RR0':     {'a':  -1.177, 'b': 0.650, 'c': 0.198}, \n",
    "          'RR0+RR1': {'a':  -0.993, 'b': 0.647, 'c': 0.218}},\n",
    "    'i': {'RR0':     {'a':  -1.629, 'b': 0.633, 'c': 0.168}, \n",
    "          'RR0+RR1': {'a':  -1.445, 'b': 0.631, 'c': 0.188}}\n",
    "}\n",
    "\n",
    "P0_pivot = {'RR0':     -0.25,\n",
    "            'RR1':     -0.45,\n",
    "            'RR0+RR1': -0.25}\n",
    "\n",
    "He25_PLZcoeffs = {\n",
    "    'g': {'RR0': {'a':  -0.829, 'b': 0.233, 'c': 0.976}, \n",
    "          'RR1': {'a':  -0.898, 'b': 0.148, 'c': 0.509}},\n",
    "    'r': {'RR0': {'a':  -1.432, 'b': 0.180, 'c': 0.561}, \n",
    "          'RR1': {'a':  -1.395, 'b': 0.139, 'c': 0.202}},\n",
    "    'i': {'RR0': {'a':  -1.639, 'b': 0.169, 'c': 0.442}, \n",
    "          'RR1': {'a':  -1.551, 'b': 0.135, 'c': 0.120}}\n",
    "}"
   ]
  },
  {
   "cell_type": "code",
   "execution_count": null,
   "id": "63768e4d-e3ba-435e-b43b-60ccaa6e795d",
   "metadata": {
    "jupyter": {
     "source_hidden": true
    }
   },
   "outputs": [],
   "source": [
    "def PLZrelation(logp, feh, passband, rrtype, coeffs, model):\n",
    "    a, b, c = coeffs[passband][rrtype].values()\n",
    "    \n",
    "    if rrtype == 'RR0+RR1':\n",
    "        type0, type1 = mag_masks[rrtype][passband]\n",
    "        mask = np.logical_or(type0, type1)\n",
    "        p0 = logp[type0].values\n",
    "        p1 = logp[type1].values + 0.127\n",
    "        p = np.concatenate((p0, p1), axis=0)\n",
    "    else:\n",
    "        mask = mag_masks[rrtype][passband]\n",
    "        p = logp[mask]\n",
    "\n",
    "    if model == 'Ng22':\n",
    "        a, b, c = coeffs[passband][rrtype].values()\n",
    "        return a + b * p + c * feh[mask]\n",
    "    elif model == 'Na24':\n",
    "        P0 = P0_pivot[rrtype]\n",
    "        feh0 = -1.5\n",
    "        return a * (logp[mask] - P0) + b + c * (feh[mask] - feh0)\n",
    "    elif model == 'He25':\n",
    "        a, b, c = coeffs[passband][rrtype].values()\n",
    "        return a * p + b * feh[mask] + c\n",
    "\n",
    "def plot_PLZhist(passband, rrtype, coeffs, model, mu_true, bins_factor=10):\n",
    "    if rrtype == 'RR0+RR1':\n",
    "        type0, type1 = mag_masks[rrtype][passband]\n",
    "        m0 = data['mag_0'][type0].values\n",
    "        m1 = data['mag_0'][type1].values\n",
    "        m = np.concatenate((m0, m1), axis=0)\n",
    "    else:\n",
    "        mask = mag_masks[rrtype][passband]\n",
    "        m = data['mag_0'][mask].values\n",
    "        \n",
    "    M = PLZrelation(logP, m_feh, passband, rrtype, coeffs, model)\n",
    "    \n",
    "    delta_mu = (m - M) - mu_true\n",
    "\n",
    "    dmean   = np.mean(delta_mu)\n",
    "    dmedian = np.median(delta_mu)\n",
    "    N = len(m)\n",
    "    \n",
    "    print(f\"Data counts: {N}, Mean: {dmean:.3f}, Median: {dmedian:.3f}\")\n",
    "    plt.figure(figsize=(7, 5))\n",
    "    plt.minorticks_on()\n",
    "    plt.tick_params(which='both', bottom=True, top=True, left=True, right=True, direction='inout')\n",
    "    plt.hist(delta_mu, bins=int(N / bins_factor) + 8, color='skyblue', edgecolor='black')\n",
    "    plt.axvline(0.0, c='r', ls='-')  # True distance modulus\n",
    "    plt.axvline(dmean, c='r', ls='--', label=f\"Mean = {dmean:.3f}\")\n",
    "    plt.ylabel(\"Count\", fontsize=13)\n",
    "    plt.xlabel(r\"$\\mu_j-\\mu_{LMC}^0$\", fontsize=13)\n",
    "    plt.title(f\"# of Distance Modulus Residuals ({passband}-band, {rrtype})\", fontsize=14)\n",
    "    plt.legend()\n",
    "    plt.tight_layout()"
   ]
  },
  {
   "cell_type": "markdown",
   "id": "1622fbfa-7a9e-4e83-b4a5-a5354caaec62",
   "metadata": {
    "jp-MarkdownHeadingCollapsed": true
   },
   "source": [
    "#### RR0"
   ]
  },
  {
   "cell_type": "code",
   "execution_count": null,
   "id": "8ec73a86-6572-47a4-9593-76c2cd8eba9e",
   "metadata": {},
   "outputs": [],
   "source": [
    "plot_PLZhist(\"g\", \"RR0\", Ng22_PLZcoeffs, 'Ng22', mu_true)\n",
    "#plt.savefig(f\"figures/dmu-Ng22PLZ_RR0-g\", dpi=300)\n",
    "plot_PLZhist(\"g\", \"RR0\", He25_PLZcoeffs, 'He25', mu_true)\n",
    "#plt.savefig(f\"figures/dmu-He25PLZ_RR0-g\", dpi=300)\n",
    "plot_PLZhist(\"g\", \"RR0\", Na24_PLZcoeffs01, 'Na24', mu_true)\n",
    "#plt.savefig(f\"figures/dmu-Na24PLZ01_RR0-g\", dpi=300)\n",
    "plot_PLZhist(\"g\", \"RR0\", Na24_PLZcoeffs02, 'Na24', mu_true)\n",
    "#plt.savefig(f\"figures/dmu-Na24PLZ02_RR0-g\", dpi=300)\n",
    "plot_PLZhist(\"g\", \"RR0\", Na24_PLZcoeffs03, 'Na24', mu_true)\n",
    "#plt.savefig(f\"figures/dmu-Na24PLZ03_RR0-g\", dpi=300)\n",
    "plot_PLZhist(\"g\", \"RR0\", Na24_PLZcoeffs04, 'Na24', mu_true)\n",
    "#plt.savefig(f\"figures/dmu-Na24PLZ04_RR0-g\", dpi=300)"
   ]
  },
  {
   "cell_type": "code",
   "execution_count": null,
   "id": "35a052d2-68ae-4ebf-8413-6da2bf196019",
   "metadata": {
    "scrolled": true
   },
   "outputs": [],
   "source": [
    "plot_PLZhist(\"r\", \"RR0\", Ng22_PLZcoeffs, 'Ng22', mu_true)\n",
    "# plt.savefig(f\"figures/dmu-Ng22PLZ_RR0-r\", dpi=300)\n",
    "plot_PLZhist(\"r\", \"RR0\", He25_PLZcoeffs, 'He25', mu_true)\n",
    "# plt.savefig(f\"figures/dmu-He25PLZ_RR0-r\", dpi=300)\n",
    "plot_PLZhist(\"r\", \"RR0\", Na24_PLZcoeffs01, 'Na24', mu_true)\n",
    "# plt.savefig(f\"figures/dmu-Na24PLZ01_RR0-r\", dpi=300)\n",
    "plot_PLZhist(\"r\", \"RR0\", Na24_PLZcoeffs02, 'Na24', mu_true)\n",
    "# plt.savefig(f\"figures/dmu-Na24PLZ02_RR0-r\", dpi=300)\n",
    "plot_PLZhist(\"r\", \"RR0\", Na24_PLZcoeffs03, 'Na24', mu_true)\n",
    "# plt.savefig(f\"figures/dmu-Na24PLZ03_RR0-r\", dpi=300)\n",
    "plot_PLZhist(\"r\", \"RR0\", Na24_PLZcoeffs04, 'Na24', mu_true)\n",
    "# plt.savefig(f\"figures/dmu-Na24PLZ04_RR0-r\", dpi=300)"
   ]
  },
  {
   "cell_type": "code",
   "execution_count": null,
   "id": "8b6eb11d-f03f-4d71-b42b-e0af54107887",
   "metadata": {},
   "outputs": [],
   "source": [
    "plot_PLZhist(\"i\", \"RR0\", Ng22_PLZcoeffs, 'Ng22', mu_true)\n",
    "# plt.savefig(f\"figures/dmu-Ng22PLZ_RR0-i\", dpi=300)\n",
    "plot_PLZhist(\"i\", \"RR0\", He25_PLZcoeffs, 'He25', mu_true)\n",
    "# plt.savefig(f\"figures/dmu-He25PLZ_RR0-i\", dpi=300)\n",
    "plot_PLZhist(\"i\", \"RR0\", Na24_PLZcoeffs01, 'Na24', mu_true)\n",
    "# plt.savefig(f\"figures/dmu-Na24PLZ01_RR0-i\", dpi=300)\n",
    "plot_PLZhist(\"i\", \"RR0\", Na24_PLZcoeffs02, 'Na24', mu_true)\n",
    "# plt.savefig(f\"figures/dmu-Na24PLZ02_RR0-i\", dpi=300)\n",
    "plot_PLZhist(\"i\", \"RR0\", Na24_PLZcoeffs03, 'Na24', mu_true)\n",
    "# plt.savefig(f\"figures/dmu-Na24PLZ03_RR0-i\", dpi=300)\n",
    "plot_PLZhist(\"i\", \"RR0\", Na24_PLZcoeffs04, 'Na24', mu_true)\n",
    "# plt.savefig(f\"figures/dmu-Na24PLZ04_RR0-i\", dpi=300)"
   ]
  },
  {
   "cell_type": "markdown",
   "id": "d625ba68-4484-444b-afb6-dcba1c6d268b",
   "metadata": {
    "jp-MarkdownHeadingCollapsed": true
   },
   "source": [
    "#### RR1"
   ]
  },
  {
   "cell_type": "code",
   "execution_count": null,
   "id": "fa6de263-69e0-4ece-9f3b-3aebec1e7086",
   "metadata": {
    "scrolled": true
   },
   "outputs": [],
   "source": [
    "plot_PLZhist(\"g\", \"RR1\", Ng22_PLZcoeffs, 'Ng22', mu_true)\n",
    "# plt.savefig(f\"figures/dmu-Ng22PLZ_RR1-g\", dpi=300)\n",
    "plot_PLZhist(\"g\", \"RR1\", He25_PLZcoeffs, 'He25', mu_true)\n",
    "# plt.savefig(f\"figures/dmu-He25PLZ_RR1-g\", dpi=300)"
   ]
  },
  {
   "cell_type": "code",
   "execution_count": null,
   "id": "dac693eb-8b0c-4541-9fad-0d865b9b6eff",
   "metadata": {
    "scrolled": true
   },
   "outputs": [],
   "source": [
    "plot_PLZhist(\"r\", \"RR1\", Ng22_PLZcoeffs, 'Ng22', mu_true)\n",
    "# plt.savefig(f\"figures/dmu-Ng22PLZ_RR1-r\", dpi=300)\n",
    "plot_PLZhist(\"r\", \"RR1\", He25_PLZcoeffs, 'He25', mu_true)\n",
    "# plt.savefig(f\"figures/dmu-He25PLZ_RR1-r\", dpi=300)"
   ]
  },
  {
   "cell_type": "code",
   "execution_count": null,
   "id": "c8e9f05d-a216-4a4f-b081-a2c7179cd4e5",
   "metadata": {
    "scrolled": true
   },
   "outputs": [],
   "source": [
    "plot_PLZhist(\"i\", \"RR1\", Ng22_PLZcoeffs, 'Ng22', mu_true)\n",
    "# plt.savefig(f\"figures/dmu-Ng22PLZ_RR1-i\", dpi=300)\n",
    "plot_PLZhist(\"i\", \"RR1\", He25_PLZcoeffs, 'He25', mu_true)\n",
    "# plt.savefig(f\"figures/dmu-He25PLZ_RR1-i\", dpi=300)"
   ]
  },
  {
   "cell_type": "markdown",
   "id": "5286ce73-98ec-426a-9249-a7ff7cb2ced7",
   "metadata": {
    "jp-MarkdownHeadingCollapsed": true
   },
   "source": [
    "#### RR0+RR1"
   ]
  },
  {
   "cell_type": "code",
   "execution_count": null,
   "id": "7a6b7f1d-4d5b-4638-adb8-982dbcf92738",
   "metadata": {},
   "outputs": [],
   "source": [
    "plot_PLZhist(\"g\", \"RR0+RR1\", Ng22_PLZcoeffs, 'Ng22', mu_true)\n",
    "# plt.savefig(f\"figures/dmu-Ng22PLZ_RR01-g\", dpi=300)\n",
    "plot_PLZhist(\"g\", \"RR0+RR1\", Na24_PLZcoeffs01, 'Na24', mu_true)\n",
    "# plt.savefig(f\"figures/dmu-Na24PLZ01_RR01-g\", dpi=300)\n",
    "plot_PLZhist(\"g\", \"RR0+RR1\", Na24_PLZcoeffs02, 'Na24', mu_true)\n",
    "# plt.savefig(f\"figures/dmu-Na24PLZ02_RR01-g\", dpi=300)\n",
    "plot_PLZhist(\"g\", \"RR0+RR1\", Na24_PLZcoeffs03, 'Na24', mu_true)\n",
    "# plt.savefig(f\"figures/dmu-Na24PLZ03_RR01-g\", dpi=300)\n",
    "plot_PLZhist(\"g\", \"RR0+RR1\", Na24_PLZcoeffs04, 'Na24', mu_true)\n",
    "# plt.savefig(f\"figures/dmu-Na24PLZ04_RR01-g\", dpi=300)"
   ]
  },
  {
   "cell_type": "code",
   "execution_count": null,
   "id": "83722fe6-ec01-4912-a08f-51be6753af09",
   "metadata": {
    "scrolled": true
   },
   "outputs": [],
   "source": [
    "plot_PLZhist(\"r\", \"RR0+RR1\", Ng22_PLZcoeffs, 'Ng22', mu_true)\n",
    "# plt.savefig(f\"figures/dmu-Ng22PLZ_RR01-r\", dpi=300)\n",
    "plot_PLZhist(\"r\", \"RR0+RR1\", Na24_PLZcoeffs01, 'Na24', mu_true)\n",
    "# plt.savefig(f\"figures/dmu-Na24PLZ01_RR01-r\", dpi=300)\n",
    "plot_PLZhist(\"r\", \"RR0+RR1\", Na24_PLZcoeffs02, 'Na24', mu_true)\n",
    "# plt.savefig(f\"figures/dmu-Na24PLZ02_RR01-r\", dpi=300)\n",
    "plot_PLZhist(\"r\", \"RR0+RR1\", Na24_PLZcoeffs03, 'Na24', mu_true)\n",
    "# plt.savefig(f\"figures/dmu-Na24PLZ03_RR01-r\", dpi=300)\n",
    "plot_PLZhist(\"r\", \"RR0+RR1\", Na24_PLZcoeffs04, 'Na24', mu_true)\n",
    "# plt.savefig(f\"figures/dmu-Na24PLZ04_RR01-r\", dpi=300)"
   ]
  },
  {
   "cell_type": "code",
   "execution_count": null,
   "id": "814a038d-80c1-469a-aff6-66eb7715ccc7",
   "metadata": {},
   "outputs": [],
   "source": [
    "plot_PLZhist(\"i\", \"RR0+RR1\", Ng22_PLZcoeffs, 'Ng22', mu_true)\n",
    "# plt.savefig(f\"figures/dmu-Ng22PLZ_RR01-i\", dpi=300)\n",
    "plot_PLZhist(\"i\", \"RR0+RR1\", Na24_PLZcoeffs01, 'Na24', mu_true)\n",
    "# plt.savefig(f\"figures/dmu-Na24PLZ01_RR01-i\", dpi=300)\n",
    "plot_PLZhist(\"i\", \"RR0+RR1\", Na24_PLZcoeffs02, 'Na24', mu_true)\n",
    "# plt.savefig(f\"figures/dmu-Na24PLZ02_RR01-i\", dpi=300)\n",
    "plot_PLZhist(\"i\", \"RR0+RR1\", Na24_PLZcoeffs03, 'Na24', mu_true)\n",
    "# plt.savefig(f\"figures/dmu-Na24PLZ03_RR01-i\", dpi=300)\n",
    "plot_PLZhist(\"i\", \"RR0+RR1\", Na24_PLZcoeffs04, 'Na24', mu_true)\n",
    "# plt.savefig(f\"figures/dmu-Na24PLZ04_RR01-i\", dpi=300)"
   ]
  },
  {
   "cell_type": "markdown",
   "id": "ccecf1de-29fa-4b82-9a02-efc43579be09",
   "metadata": {},
   "source": [
    "### PWZ for RR0, RR0+RR1"
   ]
  },
  {
   "cell_type": "markdown",
   "id": "6af9e2b6-feb3-4786-8522-564dba186df0",
   "metadata": {},
   "source": [
    "```Python\n",
    "Wgr = r - 2.905 * (g - r)\n",
    "Wgi = r - 4.051 * (r - i)\n",
    "Wgi = g - 2.274 * (g - i)\n",
    "```"
   ]
  },
  {
   "cell_type": "code",
   "execution_count": null,
   "id": "ae510388-9dae-4c50-9391-6460b89b87fb",
   "metadata": {
    "jupyter": {
     "source_hidden": true
    }
   },
   "outputs": [],
   "source": [
    "all_id = np.unique(data[\"object_id\"])\n",
    "\n",
    "wesenheit_dict = {\"object_id\": [], \"type\":[], \"logP\": [], \"Wgr\": [], \"Wgi\": [], \"Wri\": [], \"FeH\": []}\n",
    "\n",
    "for objid in all_id:\n",
    "    phot = data[data.object_id == objid]\n",
    "    if len(phot) > 1:\n",
    "        bands = phot.band.values\n",
    "        p = phot.period.values[0]\n",
    "        p = np.log10(p)\n",
    "        feh = phot['[Fe/H]'].values[0]\n",
    "        rrtype = phot.type.values[0]\n",
    "    \n",
    "        Wgr = Wgi = Wri = np.nan\n",
    "        \n",
    "        if set(bands)  == {'g', 'r', 'i'}:\n",
    "            g = phot.mag_0[bands == 'g'].values[0]\n",
    "            r = phot.mag_0[bands == 'r'].values[0]\n",
    "            i = phot.mag_0[bands == 'i'].values[0]\n",
    "            Wgr = r - 2.905 * (g - r)\n",
    "            Wri = r - 4.051 * (r - i)\n",
    "            Wgi = g - 2.274 * (g - i)\n",
    "            # print(f'Wgr: {Wgr}\\t Wgi: {Wri}\\t Wri: {Wgi}')\n",
    "        elif set(bands)  == {'g', 'r'}:\n",
    "            g = phot.mag_0[bands == 'g'].values[0]\n",
    "            r = phot.mag_0[bands == 'r'].values[0]\n",
    "            Wgr = r - 2.905 * (g - r)\n",
    "            # print('Wgr')\n",
    "        elif set(bands)  == {'i', 'r'}:\n",
    "            r = phot.mag_0[bands == 'r'].values[0]\n",
    "            i = phot.mag_0[bands == 'i'].values[0]\n",
    "            Wri = r - 4.051 * (r - i)\n",
    "            # print('Wri')\n",
    "        elif set(bands)  == {'g', 'i'}:\n",
    "            g = phot.mag_0[bands == 'g'].values[0]\n",
    "            i = phot.mag_0[bands == 'i'].values[0]\n",
    "            Wgi = g - 2.274 * (g - i)\n",
    "            # print('Wgi')\n",
    "            \n",
    "        wesenheit_dict[\"object_id\"].append(objid)\n",
    "        wesenheit_dict[\"type\"].append(rrtype)\n",
    "        wesenheit_dict[\"logP\"].append(p)\n",
    "        wesenheit_dict[\"Wgr\"].append(Wgr)\n",
    "        wesenheit_dict[\"Wgi\"].append(Wgi)\n",
    "        wesenheit_dict[\"Wri\"].append(Wri)\n",
    "        wesenheit_dict[\"FeH\"].append(feh)\n",
    "\n",
    "w_df = pd.DataFrame(wesenheit_dict)"
   ]
  },
  {
   "cell_type": "code",
   "execution_count": null,
   "id": "0b44f011-57bf-4aaf-ba3a-28e48c877ef5",
   "metadata": {
    "jupyter": {
     "source_hidden": true
    }
   },
   "outputs": [],
   "source": [
    "wab = w_df.type == 'RRab'\n",
    "wc = w_df.type == 'RRc'\n",
    "\n",
    "gr = w_df.Wgr > 0\n",
    "ri = w_df.Wri > 0\n",
    "gi = w_df.Wgi > 0\n",
    "\n",
    "w_feh  = w_df.FeH\n",
    "w_logP = w_df.logP"
   ]
  },
  {
   "cell_type": "code",
   "execution_count": null,
   "id": "6e2620ff-f127-4aa1-bc8a-783e4c9b1666",
   "metadata": {
    "jupyter": {
     "source_hidden": true
    }
   },
   "outputs": [],
   "source": [
    "w_mask = {\n",
    "    'RR0': {\n",
    "        \"Wgr\": wab & gr,\n",
    "        \"Wri\": wab & ri,\n",
    "        \"Wgi\": wab & gi\n",
    "    },\n",
    "    \"RR1\": {\n",
    "        \"Wgr\": wc & gr,\n",
    "        \"Wri\": wc & ri,\n",
    "        \"Wgi\": wc & gi\n",
    "    },\n",
    "    \"RR0+RR1\": {\n",
    "        \"Wgr\": [wab & gr, wc & gr] ,\n",
    "        \"Wri\": [wab & ri, wc & ri],\n",
    "        \"Wgi\": [wab & gi, wc & gi]\n",
    "    }\n",
    "}"
   ]
  },
  {
   "cell_type": "code",
   "execution_count": null,
   "id": "d400453b-e1fd-4c24-80ba-22313e6614db",
   "metadata": {
    "jupyter": {
     "source_hidden": true
    }
   },
   "outputs": [],
   "source": [
    "Ng22_PWZcoeffs = {\n",
    "    'Wgr': {'RR0':     {'a': -0.644, 'b': -3.324, 'c': 0.052}, \n",
    "            'RR1':     {'a': -1.327, 'b': -3.680, 'c': 0.013},\n",
    "            'RR0+RR1': {'a': -0.727, 'b': -3.286, 'c': 0.010}},\n",
    "    'Wri': {'RR0':     {'a':  0.093, 'b': -2.600, 'c': 0.193}, \n",
    "            'RR1':     {'a': -0.884, 'b': -3.503, 'c': 0.067},\n",
    "            'RR0+RR1': {'a':  0.010, 'b': -2.756, 'c': 0.149}},\n",
    "    'Wgi': {'RR0':     {'a': -0.198, 'b': -2.908, 'c': 0.142}, \n",
    "            'RR1':     {'a': -1.086, 'b': -3.696, 'c': 0.055},\n",
    "            'RR0+RR1': {'a': -0.288, 'b': -3.066, 'c': 0.101}}\n",
    "}\n",
    "\n",
    "Na24_PWZcoeffs01 = { # Parallax\n",
    "    'Wgr': {'RR0':     {'a':  -3.061, 'b': 0.584, 'c': 0.082}, \n",
    "            'RR0+RR1': {'a':  -2.848, 'b': 0.583, 'c': 0.105}},\n",
    "    'Wri': {'RR0':     {'a':  -3.273, 'b': 0.239, 'c': 0.033}, \n",
    "            'RR0+RR1': {'a':  -3.148, 'b': 0.238, 'c': 0.050}},\n",
    "    'Wgi': {'RR0':     {'a':  -3.154, 'b': 0.433, 'c': 0.060}, \n",
    "            'RR0+RR1': {'a':  -2.979, 'b': 0.432, 'c': 0.081}}\n",
    "}\n",
    "Na24_PWZcoeffs02 = { # ABL\n",
    "    'Wgr': {'RR0':     {'a':  -3.027, 'b': 0.587, 'c': 0.084}, \n",
    "            'RR0+RR1': {'a':  -2.837, 'b': 0.585, 'c': 0.107}},\n",
    "    'Wri': {'RR0':     {'a':  -3.347, 'b': 0.241, 'c': 0.019}, \n",
    "            'RR0+RR1': {'a':  -3.178, 'b': 0.240, 'c': 0.042}},\n",
    "    'Wgi': {'RR0':     {'a':  -3.169, 'b': 0.435, 'c': 0.055}, \n",
    "            'RR0+RR1': {'a':  -2.987, 'b': 0.433, 'c': 0.078}}\n",
    "}\n",
    "Na24_PWZcoeffs03 = { # Geometric Distance\n",
    "    'Wgr': {'RR0':     {'a':  -2.923, 'b': 0.583, 'c': 0.085}, \n",
    "            'RR0+RR1': {'a':  -2.824, 'b': 0.580, 'c': 0.096}},\n",
    "    'Wri': {'RR0':     {'a':  -3.135, 'b': 0.237, 'c': 0.036}, \n",
    "            'RR0+RR1': {'a':  -3.124, 'b': 0.236, 'c': 0.040}},\n",
    "    'Wgi': {'RR0':     {'a':  -3.016, 'b': 0.431, 'c': 0.063}, \n",
    "            'RR0+RR1': {'a':  -2.955, 'b': 0.429, 'c': 0.071}}\n",
    "}\n",
    "Na24_PWZcoeffs04 = { # Geometric Distance\n",
    "    'Wgr': {'RR0':     {'a':  -3.008, 'b': 0.582, 'c': 0.075}, \n",
    "            'RR0+RR1': {'a':  -2.835, 'b': 0.580, 'c': 0.095}},\n",
    "    'Wri': {'RR0':     {'a':  -3.220, 'b': 0.236, 'c': 0.026}, \n",
    "            'RR0+RR1': {'a':  -3.135, 'b': 0.236, 'c': 0.039}},\n",
    "    'Wgi': {'RR0':     {'a':  -3.101, 'b': 0.430, 'c': 0.054}, \n",
    "            'RR0+RR1': {'a':  -2.967, 'b': 0.430, 'c': 0.070}}\n",
    "}\n",
    "\n",
    "He25_PWZcoeffs = {\n",
    "    'Wgr': {'RR0': {'a':  -2.678, 'b': 0.007, 'c': -0.610}, \n",
    "            'RR1': {'a':  -3.437, 'b': 0.019, 'c': -1.209}},\n",
    "    'Wri': {'RR0': {'a':  -2.671, 'b': 0.056, 'c': -0.266}, \n",
    "            'RR1': {'a':  -3.186, 'b': 0.107, 'c': -0.740}},\n",
    "    'Wgi': {'RR0': {'a':  -2.512, 'b': 0.095, 'c': -0.006}, \n",
    "            'RR1': {'a':  -3.136, 'b': 0.137, 'c': -0.544}}\n",
    "}"
   ]
  },
  {
   "cell_type": "code",
   "execution_count": null,
   "id": "f3c01f0f-b856-432b-ad8c-e6e926051b26",
   "metadata": {
    "jupyter": {
     "source_hidden": true
    }
   },
   "outputs": [],
   "source": [
    "def PWZrelation(logp, feh, passband, rrtype, coeffs, model):\n",
    "    a, b, c = coeffs[passband][rrtype].values()\n",
    "    if rrtype == 'RR0+RR1':\n",
    "        type0, type1 = w_mask[rrtype][passband]\n",
    "        mask = np.logical_or(type0, type1)\n",
    "        p0 = logp[type0].values\n",
    "        p1 = logp[type1].values + 0.127\n",
    "        p = np.concatenate((p0, p1), axis=0)\n",
    "    else:\n",
    "        mask = w_mask[rrtype][passband]\n",
    "        p = logp[mask]\n",
    "\n",
    "    if model == 'Ng22':\n",
    "        a, b, c = coeffs[passband][rrtype].values()\n",
    "        return a + b * p + c * feh[mask]\n",
    "    elif model == 'Na24':\n",
    "        P0 = P0_pivot[rrtype]\n",
    "        feh0 = -1.5\n",
    "        return a * (logp[mask] - P0) + b + c * (feh[mask] - feh0)\n",
    "    elif model == 'He25':\n",
    "        a, b, c = coeffs[passband][rrtype].values()\n",
    "        return a * p + b * feh[mask] + c\n",
    "\n",
    "def plot_PWZhist(passband, rrtype, coeffs, model, mu_true, bins_factor=10):\n",
    "    if rrtype == 'RR0+RR1':\n",
    "        type0, type1 = w_mask[rrtype][passband]\n",
    "        w0 = w_df[passband][type0].values\n",
    "        w1 = w_df[passband][type1].values\n",
    "        w = np.concatenate((w0, w1), axis=0)\n",
    "    else:\n",
    "        mask = w_mask[rrtype][passband]\n",
    "        w = w_df[passband][mask]\n",
    "        \n",
    "    W = PWZrelation(w_logP, w_feh, passband, rrtype, coeffs, model)\n",
    "    \n",
    "    delta_mu = (w - W) - mu_true\n",
    "\n",
    "    dmean   = np.mean(delta_mu)\n",
    "    dmedian = np.median(delta_mu)\n",
    "    N = len(w)\n",
    "    \n",
    "    print(f\"Data counts: {N}, Mean: {dmean:.3f}, Median: {dmedian:.3f}\")\n",
    "    plt.figure(figsize=(7, 5))\n",
    "    plt.minorticks_on()\n",
    "    plt.tick_params(which='both', bottom=True, top=True, left=True, right=True, direction='inout')\n",
    "    plt.hist(delta_mu, bins=int(N / bins_factor) + 8, color='skyblue', edgecolor='black')\n",
    "    plt.axvline(0.0, c='r', ls='-')  # True distance modulus\n",
    "    plt.axvline(dmean, c='r', ls='--', label=f\"Mean = {dmean:.3f}\")\n",
    "    plt.ylabel(\"Count\", fontsize=13)\n",
    "    plt.xlabel(r\"$\\mu_j-\\mu_{LMC}^0$\", fontsize=13)\n",
    "    plt.title(f\"# of Distance Modulus Residuals ({passband}, {rrtype})\", fontsize=14)\n",
    "    plt.legend()\n",
    "    plt.tight_layout()"
   ]
  },
  {
   "cell_type": "markdown",
   "id": "c3c88fed-aedf-4d83-b77c-06d59f68df0a",
   "metadata": {
    "jp-MarkdownHeadingCollapsed": true
   },
   "source": [
    "#### RR0"
   ]
  },
  {
   "cell_type": "code",
   "execution_count": null,
   "id": "f11ffecc-fb53-486c-a55e-9a3509747965",
   "metadata": {
    "scrolled": true
   },
   "outputs": [],
   "source": [
    "plot_PWZhist(\"Wgr\", \"RR0\", Ng22_PWZcoeffs, 'Ng22', mu_true)\n",
    "# plt.savefig(f\"figures/dmu-Ng22PWZ_RR0-Wgr\", dpi=300)\n",
    "plot_PWZhist(\"Wgr\", \"RR0\", He25_PWZcoeffs, 'He25', mu_true)\n",
    "# plt.savefig(f\"figures/dmu-He25PWZ_RR0-Wgr\", dpi=300)\n",
    "plot_PWZhist(\"Wgr\", \"RR0\", Na24_PWZcoeffs01, 'Na24', mu_true)\n",
    "# plt.savefig(f\"figures/dmu-Na24PWZ01_RR0-Wgr\", dpi=300)\n",
    "plot_PWZhist(\"Wgr\", \"RR0\", Na24_PWZcoeffs02, 'Na24', mu_true)\n",
    "# plt.savefig(f\"figures/dmu-Na24PWZ02_RR0-Wgr\", dpi=300)\n",
    "plot_PWZhist(\"Wgr\", \"RR0\", Na24_PWZcoeffs03, 'Na24', mu_true)\n",
    "# plt.savefig(f\"figures/dmu-Na24PWZ03_RR0-Wgr\", dpi=300)\n",
    "plot_PWZhist(\"Wgr\", \"RR0\", Na24_PWZcoeffs04, 'Na24', mu_true)\n",
    "# plt.savefig(f\"figures/dmu-Na24PWZ04_RR0-Wgr\", dpi=300)"
   ]
  },
  {
   "cell_type": "code",
   "execution_count": null,
   "id": "d14e04ca-b2cb-4f10-a38f-316587060d38",
   "metadata": {},
   "outputs": [],
   "source": [
    "plot_PWZhist(\"Wri\", \"RR0\", Ng22_PWZcoeffs, 'Ng22', mu_true)\n",
    "# plt.savefig(f\"figures/dmu-Ng22PWZ_RR0-Wri\", dpi=300)\n",
    "plot_PWZhist(\"Wri\", \"RR0\", He25_PWZcoeffs, 'He25', mu_true)\n",
    "# plt.savefig(f\"figures/dmu-He25PWZ_RR0-Wri\", dpi=300)\n",
    "plot_PWZhist(\"Wri\", \"RR0\", Na24_PWZcoeffs01, 'Na24', mu_true)\n",
    "# plt.savefig(f\"figures/dmu-Na24PWZ01_RR0-Wri\", dpi=300)\n",
    "plot_PWZhist(\"Wri\", \"RR0\", Na24_PWZcoeffs02, 'Na24', mu_true)\n",
    "# plt.savefig(f\"figures/dmu-Na24PWZ02_RR0-Wri\", dpi=300)\n",
    "plot_PWZhist(\"Wri\", \"RR0\", Na24_PWZcoeffs03, 'Na24', mu_true)\n",
    "# plt.savefig(f\"figures/dmu-Na24PWZ03_RR0-Wri\", dpi=300)\n",
    "plot_PWZhist(\"Wri\", \"RR0\", Na24_PWZcoeffs04, 'Na24', mu_true)\n",
    "# plt.savefig(f\"figures/dmu-Na24PWZ04_RR0-Wri\", dpi=300)"
   ]
  },
  {
   "cell_type": "code",
   "execution_count": null,
   "id": "b0f1a8ea-8852-47b1-a2b0-5dcfb07009c8",
   "metadata": {
    "scrolled": true
   },
   "outputs": [],
   "source": [
    "plot_PWZhist(\"Wgi\", \"RR0\", Ng22_PWZcoeffs, 'Ng22', mu_true)\n",
    "#plt.savefig(f\"figures/dmu-Ng22PWZ_RR0-Wgi\", dpi=300)\n",
    "plot_PWZhist(\"Wgi\", \"RR0\", He25_PWZcoeffs, 'He25', mu_true)\n",
    "#plt.savefig(f\"figures/dmu-He25PWZ_RR0-Wgi\", dpi=300)\n",
    "plot_PWZhist(\"Wgi\", \"RR0\", Na24_PWZcoeffs01, 'Na24', mu_true)\n",
    "#plt.savefig(f\"figures/dmu-Na24PWZ01_RR0-Wgi\", dpi=300)\n",
    "plot_PWZhist(\"Wgi\", \"RR0\", Na24_PWZcoeffs02, 'Na24', mu_true)\n",
    "#plt.savefig(f\"figures/dmu-Na24PWZ02_RR0-Wgi\", dpi=300)\n",
    "plot_PWZhist(\"Wgi\", \"RR0\", Na24_PWZcoeffs03, 'Na24', mu_true)\n",
    "#plt.savefig(f\"figures/dmu-Na24PWZ03_RR0-Wgi\", dpi=300)\n",
    "plot_PWZhist(\"Wgi\", \"RR0\", Na24_PWZcoeffs04, 'Na24', mu_true)\n",
    "#plt.savefig(f\"figures/dmu-Na24PWZ04_RR0-Wgi\", dpi=300)"
   ]
  },
  {
   "cell_type": "markdown",
   "id": "9d86ba41-0a41-4d26-8882-db0b00df8679",
   "metadata": {
    "jp-MarkdownHeadingCollapsed": true
   },
   "source": [
    "#### RR1"
   ]
  },
  {
   "cell_type": "code",
   "execution_count": null,
   "id": "e07ae2a0-393a-4c35-8b41-9be02a316d61",
   "metadata": {},
   "outputs": [],
   "source": [
    "plot_PWZhist(\"Wgr\", \"RR1\", Ng22_PWZcoeffs, 'Ng22', mu_true)\n",
    "# plt.savefig(f\"figures/dmu-Ng22PWZ_RR1-Wgr\", dpi=300)\n",
    "plot_PWZhist(\"Wgr\", \"RR1\", He25_PWZcoeffs, 'He25', mu_true)\n",
    "# plt.savefig(f\"figures/dmu-He25PWZ_RR1-Wgr\", dpi=300)"
   ]
  },
  {
   "cell_type": "code",
   "execution_count": null,
   "id": "06d644c0-9824-4160-8b3a-1a1b42cde215",
   "metadata": {},
   "outputs": [],
   "source": [
    "plot_PWZhist(\"Wri\", \"RR1\", Ng22_PWZcoeffs, 'Ng22', mu_true)\n",
    "# plt.savefig(f\"figures/dmu-Ng22PWZ_RR1-Wri\", dpi=300)\n",
    "plot_PWZhist(\"Wri\", \"RR1\", He25_PWZcoeffs, 'He25', mu_true)\n",
    "# plt.savefig(f\"figures/dmu-He25PWZ_RR1-Wri\", dpi=300)"
   ]
  },
  {
   "cell_type": "code",
   "execution_count": null,
   "id": "e0b3b490-97cd-401e-8f8c-51b57d4bc0ac",
   "metadata": {},
   "outputs": [],
   "source": [
    "plot_PWZhist(\"Wgi\", \"RR1\", Ng22_PWZcoeffs, 'Ng22', mu_true)\n",
    "# plt.savefig(f\"figures/dmu-Ng22PWZ_RR1-Wgi\", dpi=300)\n",
    "plot_PWZhist(\"Wgi\", \"RR1\", He25_PWZcoeffs, 'He25', mu_true)\n",
    "# plt.savefig(f\"figures/dmu-He25PWZ_RR1-Wgi\", dpi=300)"
   ]
  },
  {
   "cell_type": "markdown",
   "id": "c132adc1-b7e1-4f0f-8b38-54abe1ced8a7",
   "metadata": {
    "jp-MarkdownHeadingCollapsed": true
   },
   "source": [
    "#### RR0+RR1"
   ]
  },
  {
   "cell_type": "code",
   "execution_count": null,
   "id": "69aa117f-3089-48b8-b9ee-9788fe542c7f",
   "metadata": {},
   "outputs": [],
   "source": [
    "plot_PWZhist(\"Wgr\", \"RR0+RR1\", Ng22_PWZcoeffs, 'Ng22', mu_true)\n",
    "# plt.savefig(f\"figures/dmu-Ng22PWZ_RR01-Wgr\", dpi=300)\n",
    "plot_PWZhist(\"Wgr\", \"RR0+RR1\", Na24_PWZcoeffs01, 'Na24', mu_true)\n",
    "# plt.savefig(f\"figures/dmu-Na24PWZ01_RR01-Wgr\", dpi=300)\n",
    "plot_PWZhist(\"Wgr\", \"RR0+RR1\", Na24_PWZcoeffs02, 'Na24', mu_true)\n",
    "# plt.savefig(f\"figures/dmu-Na24PWZ02_RR01-Wgr\", dpi=300)\n",
    "plot_PWZhist(\"Wgr\", \"RR0+RR1\", Na24_PWZcoeffs03, 'Na24', mu_true)\n",
    "# plt.savefig(f\"figures/dmu-Na24PWZ03_RR01-Wgr\", dpi=300)\n",
    "plot_PWZhist(\"Wgr\", \"RR0+RR1\", Na24_PWZcoeffs04, 'Na24', mu_true)\n",
    "# plt.savefig(f\"figures/dmu-Na24PWZ04_RR01-Wgr\", dpi=300)"
   ]
  },
  {
   "cell_type": "code",
   "execution_count": null,
   "id": "ce6717fc-0c7e-43b1-b1f3-164faa1062cd",
   "metadata": {},
   "outputs": [],
   "source": [
    "plot_PWZhist(\"Wri\", \"RR0+RR1\", Ng22_PWZcoeffs, 'Ng22', mu_true)\n",
    "# plt.savefig(f\"figures/dmu-Ng22PWZ_RR01-Wri\", dpi=300)\n",
    "plot_PWZhist(\"Wri\", \"RR0+RR1\", Na24_PWZcoeffs01, 'Na24', mu_true)\n",
    "# plt.savefig(f\"figures/dmu-Na24PWZ01_RR01-Wri\", dpi=300)\n",
    "plot_PWZhist(\"Wri\", \"RR0+RR1\", Na24_PWZcoeffs02, 'Na24', mu_true)\n",
    "# plt.savefig(f\"figures/dmu-Na24PWZ02_RR01-Wri\", dpi=300)\n",
    "plot_PWZhist(\"Wri\", \"RR0+RR1\", Na24_PWZcoeffs03, 'Na24', mu_true)\n",
    "# plt.savefig(f\"figures/dmu-Na24PWZ03_RR01-Wri\", dpi=300)\n",
    "plot_PWZhist(\"Wri\", \"RR0+RR1\", Na24_PWZcoeffs04, 'Na24', mu_true)\n",
    "# plt.savefig(f\"figures/dmu-Na24PWZ04_RR01-Wri\", dpi=300)"
   ]
  },
  {
   "cell_type": "code",
   "execution_count": null,
   "id": "a43cf582-d3aa-4336-8534-fb961f787fdb",
   "metadata": {},
   "outputs": [],
   "source": [
    "plot_PWZhist(\"Wgi\", \"RR0+RR1\", Ng22_PWZcoeffs, 'Ng22', mu_true)\n",
    "# plt.savefig(f\"figures/dmu-Ng22PWZ_RR01-Wgi\", dpi=300)\n",
    "plot_PWZhist(\"Wgi\", \"RR0+RR1\", Na24_PWZcoeffs01, 'Na24', mu_true)\n",
    "# plt.savefig(f\"figures/dmu-Na24PWZ01_RR01-Wgi\", dpi=300)\n",
    "plot_PWZhist(\"Wgi\", \"RR0+RR1\", Na24_PWZcoeffs02, 'Na24', mu_true)\n",
    "# plt.savefig(f\"figures/dmu-Na24PWZ02_RR01-Wgi\", dpi=300)\n",
    "plot_PWZhist(\"Wgi\", \"RR0+RR1\", Na24_PWZcoeffs03, 'Na24', mu_true)\n",
    "# plt.savefig(f\"figures/dmu-Na24PWZ03_RR01-Wgi\", dpi=300)\n",
    "plot_PWZhist(\"Wgi\", \"RR0+RR1\", Na24_PWZcoeffs04, 'Na24', mu_true)\n",
    "# plt.savefig(f\"figures/dmu-Na24PWZ04_RR01-Wgi\", dpi=300)"
   ]
  }
 ],
 "metadata": {
  "kernelspec": {
   "display_name": "Python 3 (ipykernel)",
   "language": "python",
   "name": "python3"
  },
  "language_info": {
   "codemirror_mode": {
    "name": "ipython",
    "version": 3
   },
   "file_extension": ".py",
   "mimetype": "text/x-python",
   "name": "python",
   "nbconvert_exporter": "python",
   "pygments_lexer": "ipython3",
   "version": "3.12.3"
  }
 },
 "nbformat": 4,
 "nbformat_minor": 5
}
